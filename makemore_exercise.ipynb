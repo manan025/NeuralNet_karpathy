{
 "cells": [
  {
   "metadata": {},
   "cell_type": "markdown",
   "source": "# E01",
   "id": "9821fd641ad7db1a"
  },
  {
   "metadata": {},
   "cell_type": "markdown",
   "source": [
    "## Approach\n",
    "Find ix given the last two characters."
   ],
   "id": "12d4acc1cd2266dc"
  },
  {
   "cell_type": "code",
   "id": "initial_id",
   "metadata": {
    "collapsed": true,
    "ExecuteTime": {
     "end_time": "2025-06-09T08:59:50.661548Z",
     "start_time": "2025-06-09T08:59:49.229372Z"
    }
   },
   "source": [
    "from operator import concat\n",
    "\n",
    "import torch"
   ],
   "outputs": [],
   "execution_count": 1
  },
  {
   "metadata": {
    "ExecuteTime": {
     "end_time": "2025-06-09T08:59:50.767728Z",
     "start_time": "2025-06-09T08:59:50.760807Z"
    }
   },
   "cell_type": "code",
   "source": [
    "words = list(open('names.txt', 'r').read().splitlines())\n",
    "words[:3]"
   ],
   "id": "c873c3efd97d5c9f",
   "outputs": [
    {
     "data": {
      "text/plain": [
       "['emma', 'olivia', 'ava']"
      ]
     },
     "execution_count": 2,
     "metadata": {},
     "output_type": "execute_result"
    }
   ],
   "execution_count": 2
  },
  {
   "metadata": {
    "ExecuteTime": {
     "end_time": "2025-06-09T08:59:50.793257Z",
     "start_time": "2025-06-09T08:59:50.781505Z"
    }
   },
   "cell_type": "code",
   "source": [
    "l = ['.'] + sorted(set(i for w in words for i in w))\n",
    "stoi = {s: i for i, s in enumerate(l)}\n",
    "itos = {i: s for i, s in enumerate(l)}"
   ],
   "id": "d75349ea7b7c5010",
   "outputs": [],
   "execution_count": 3
  },
  {
   "metadata": {
    "ExecuteTime": {
     "end_time": "2025-06-09T08:59:50.907454Z",
     "start_time": "2025-06-09T08:59:50.808846Z"
    }
   },
   "cell_type": "code",
   "source": [
    "# E02\n",
    "idx = torch.randint(high=len(words), size=(len(words),))\n",
    "split_test = int(.8 * len(words))\n",
    "idx_test = idx[:split_test]\n",
    "idx_dev = idx[split_test: ]\n",
    "\n",
    "words_test = [words[i] for i in idx_test]\n",
    "words_dev = [words[i] for i in idx_dev]\n"
   ],
   "id": "392c2e1b7f28f9c8",
   "outputs": [],
   "execution_count": 4
  },
  {
   "metadata": {
    "ExecuteTime": {
     "end_time": "2025-06-09T08:59:52.316270Z",
     "start_time": "2025-06-09T08:59:50.926540Z"
    }
   },
   "cell_type": "code",
   "source": [
    "N = torch.zeros([27, 27, 27], dtype=torch.int32)\n",
    "for w in words_test:\n",
    "    word = \"..\" + w + \".\"\n",
    "    for c1, c2, c3 in zip(word, word[1:], word[2:]):\n",
    "        N[stoi[c1], stoi[c2], stoi[c3]] += 1\n",
    "N"
   ],
   "id": "e113af3e8dc4d6a",
   "outputs": [
    {
     "data": {
      "text/plain": [
       "tensor([[[   0, 3503, 1022,  ...,  100,  412,  784],\n",
       "         [   0,  174,  153,  ...,   13,  105,  129],\n",
       "         [   0,  143,    0,  ...,    0,    1,    0],\n",
       "         ...,\n",
       "         [   0,   38,    0,  ...,    0,   15,    7],\n",
       "         [   0,  202,    0,  ...,    0,    0,    5],\n",
       "         [   0,  373,    0,  ...,    0,   99,    1]],\n",
       "\n",
       "        [[   0,    0,    0,  ...,    0,    0,    0],\n",
       "         [  34,    0,    6,  ...,    0,    7,    8],\n",
       "         [  26,   23,   17,  ...,    0,   17,    0],\n",
       "         ...,\n",
       "         [   8,    1,    0,  ...,   10,    4,    1],\n",
       "         [ 165,  279,    6,  ...,    0,   12,   30],\n",
       "         [  27,  110,    0,  ...,    0,   11,   15]],\n",
       "\n",
       "        [[   0,    0,    0,  ...,    0,    0,    0],\n",
       "         [  44,    0,    4,  ...,    3,   28,    5],\n",
       "         [   0,    7,    0,  ...,    0,    4,    0],\n",
       "         ...,\n",
       "         [   0,    0,    0,  ...,    0,    0,    0],\n",
       "         [  43,    6,    1,  ...,    0,    0,    0],\n",
       "         [   0,    0,    0,  ...,    0,    0,    0]],\n",
       "\n",
       "        ...,\n",
       "\n",
       "        [[   0,    0,    0,  ...,    0,    0,    0],\n",
       "         [   7,    0,    1,  ...,    0,   10,    0],\n",
       "         [   0,    0,    0,  ...,    0,    1,    0],\n",
       "         ...,\n",
       "         [  11,    2,    0,  ...,    0,    0,    0],\n",
       "         [   2,    3,    0,  ...,    0,    0,    0],\n",
       "         [   0,   11,    0,  ...,    0,    0,    0]],\n",
       "\n",
       "        [[   0,    0,    0,  ...,    0,    0,    0],\n",
       "         [ 546,   45,    5,  ...,    7,    7,   13],\n",
       "         [   2,    0,    0,  ...,    0,    0,    0],\n",
       "         ...,\n",
       "         [  14,    2,    0,  ...,    0,    0,    0],\n",
       "         [   1,   12,    0,  ...,    0,    0,    0],\n",
       "         [   1,   29,    0,  ...,    1,    0,    0]],\n",
       "\n",
       "        [[   0,    0,    0,  ...,    0,    0,    0],\n",
       "         [  79,   17,   36,  ...,    2,   83,    5],\n",
       "         [   0,    0,    0,  ...,    0,    0,    0],\n",
       "         ...,\n",
       "         [   1,    0,    0,  ...,    0,    0,    0],\n",
       "         [  24,   22,    0,  ...,    0,    0,    1],\n",
       "         [   3,    8,    0,  ...,    0,    3,    0]]], dtype=torch.int32)"
      ]
     },
     "execution_count": 5,
     "metadata": {},
     "output_type": "execute_result"
    }
   ],
   "execution_count": 5
  },
  {
   "metadata": {
    "ExecuteTime": {
     "end_time": "2025-06-09T08:59:52.341073Z",
     "start_time": "2025-06-09T08:59:52.337750Z"
    }
   },
   "cell_type": "code",
   "source": "N.shape",
   "id": "c7c9e5ba079d5e1",
   "outputs": [
    {
     "data": {
      "text/plain": [
       "torch.Size([27, 27, 27])"
      ]
     },
     "execution_count": 6,
     "metadata": {},
     "output_type": "execute_result"
    }
   ],
   "execution_count": 6
  },
  {
   "metadata": {
    "ExecuteTime": {
     "end_time": "2025-06-09T08:59:52.392904Z",
     "start_time": "2025-06-09T08:59:52.375770Z"
    }
   },
   "cell_type": "code",
   "source": [
    "N += 1\n",
    "P = N.float()\n",
    "P /= P.sum(2, keepdim=True)\n",
    "P[0]"
   ],
   "id": "eb584a3d02519847",
   "outputs": [
    {
     "data": {
      "text/plain": [
       "tensor([[3.8982e-05, 1.3659e-01, 3.9878e-02, 4.9039e-02, 5.6134e-02, 4.6271e-02,\n",
       "         1.2903e-02, 2.0465e-02, 2.7989e-02, 1.8243e-02, 7.8042e-02, 9.2582e-02,\n",
       "         4.9039e-02, 7.7925e-02, 3.6799e-02, 1.2396e-02, 1.5827e-02, 3.0406e-03,\n",
       "         4.8922e-02, 6.3384e-02, 4.0853e-02, 2.4169e-03, 1.0759e-02, 9.8234e-03,\n",
       "         3.9372e-03, 1.6099e-02, 3.0601e-02],\n",
       "        [2.8329e-04, 4.9575e-02, 4.3626e-02, 8.2153e-03, 8.6686e-02, 1.2748e-02,\n",
       "         3.6827e-03, 3.1161e-03, 2.0113e-02, 3.1445e-02, 9.9150e-03, 1.7847e-02,\n",
       "         1.4929e-01, 8.9802e-02, 1.4363e-01, 2.8329e-03, 3.6827e-03, 3.1161e-03,\n",
       "         1.0113e-01, 4.0793e-02, 1.5014e-02, 3.4561e-02, 5.7224e-02, 8.4986e-04,\n",
       "         3.9660e-03, 3.0028e-02, 3.6827e-02],\n",
       "        [9.5329e-04, 1.3727e-01, 9.5329e-04, 9.5329e-04, 9.5329e-04, 1.9256e-01,\n",
       "         9.5329e-04, 9.5329e-04, 7.6263e-03, 2.2879e-02, 3.8132e-03, 9.5329e-04,\n",
       "         5.1478e-02, 9.5329e-04, 9.5329e-04, 7.0543e-02, 9.5329e-04, 9.5329e-04,\n",
       "         4.8046e-01, 9.5329e-04, 9.5329e-04, 1.5253e-02, 9.5329e-04, 9.5329e-04,\n",
       "         9.5329e-04, 1.9066e-03, 9.5329e-04],\n",
       "        [7.7882e-04, 3.9798e-01, 7.7882e-04, 7.7882e-04, 7.7882e-04, 3.2710e-02,\n",
       "         7.7882e-04, 7.7882e-04, 2.3053e-01, 3.2710e-02, 3.1153e-03, 7.7882e-04,\n",
       "         5.2960e-02, 7.7882e-04, 7.7882e-04, 1.4798e-01, 7.7882e-04, 7.7882e-04,\n",
       "         4.9844e-02, 7.7882e-04, 7.7882e-04, 7.0093e-03, 7.7882e-04, 7.7882e-04,\n",
       "         7.7882e-04, 3.1931e-02, 7.7882e-04],\n",
       "        [6.8213e-04, 3.9427e-01, 6.8213e-04, 6.8213e-04, 6.8213e-04, 3.2196e-01,\n",
       "         6.8213e-04, 6.8213e-04, 1.8417e-02, 7.2306e-02, 4.7749e-03, 2.0464e-03,\n",
       "         1.3643e-03, 1.2278e-02, 2.0464e-03, 7.1623e-02, 6.8213e-04, 6.8213e-04,\n",
       "         4.7749e-02, 6.8213e-04, 6.8213e-04, 1.9100e-02, 2.7285e-03, 2.0464e-03,\n",
       "         6.8213e-04, 1.9100e-02, 6.8213e-04],\n",
       "        [8.2440e-04, 1.4015e-02, 8.2440e-03, 2.4732e-03, 5.3586e-02, 4.1220e-03,\n",
       "         5.7708e-03, 4.9464e-03, 9.8928e-03, 2.8030e-02, 3.2976e-03, 6.5952e-03,\n",
       "         3.0256e-01, 1.8549e-01, 3.8747e-02, 4.1220e-03, 3.2976e-03, 8.2440e-04,\n",
       "         6.2655e-02, 7.0899e-02, 1.7312e-02, 7.4196e-03, 1.0058e-01, 4.9464e-03,\n",
       "         3.2976e-03, 1.6488e-02, 3.9571e-02],\n",
       "        [2.8011e-03, 3.3613e-01, 2.8011e-03, 2.8011e-03, 2.8011e-03, 1.0924e-01,\n",
       "         2.8011e-03, 2.8011e-03, 2.8011e-03, 1.7647e-01, 2.8011e-03, 2.8011e-03,\n",
       "         5.3221e-02, 2.8011e-03, 2.8011e-03, 4.2017e-02, 2.8011e-03, 2.8011e-03,\n",
       "         1.8768e-01, 2.8011e-03, 2.8011e-03, 1.4006e-02, 2.8011e-03, 2.8011e-03,\n",
       "         2.8011e-03, 2.8011e-02, 2.8011e-03],\n",
       "        [1.8149e-03, 2.0145e-01, 1.8149e-03, 1.8149e-03, 1.8149e-03, 1.5971e-01,\n",
       "         1.8149e-03, 1.8149e-03, 1.2704e-02, 2.1779e-01, 1.8149e-03, 1.8149e-03,\n",
       "         2.7223e-02, 1.8149e-03, 1.8149e-03, 3.2668e-02, 1.8149e-03, 1.8149e-03,\n",
       "         1.9964e-01, 1.8149e-03, 1.8149e-03, 5.9891e-02, 1.8149e-03, 4.5372e-02,\n",
       "         1.8149e-03, 1.2704e-02, 1.8149e-03],\n",
       "        [1.3441e-03, 5.6586e-01, 1.3441e-03, 1.3441e-03, 1.3441e-03, 1.7473e-01,\n",
       "         1.3441e-03, 1.3441e-03, 1.3441e-03, 5.2419e-02, 1.3441e-03, 1.3441e-03,\n",
       "         1.3441e-03, 1.3441e-03, 1.3441e-03, 6.9892e-02, 1.3441e-03, 1.3441e-03,\n",
       "         2.6882e-03, 4.0323e-03, 1.3441e-03, 8.8710e-02, 1.3441e-03, 1.3441e-03,\n",
       "         1.3441e-03, 1.6129e-02, 1.3441e-03],\n",
       "        [2.0243e-03, 1.8219e-02, 6.0729e-03, 2.2267e-02, 2.6316e-02, 4.0486e-03,\n",
       "         2.2267e-02, 1.0121e-02, 1.0121e-02, 4.0486e-03, 2.0243e-03, 1.8219e-02,\n",
       "         1.1134e-01, 6.6802e-02, 1.0324e-01, 1.4170e-02, 2.0243e-03, 2.0243e-03,\n",
       "         6.8826e-02, 1.9838e-01, 4.0486e-02, 2.0243e-03, 8.7045e-02, 2.0243e-03,\n",
       "         1.0121e-02, 4.8583e-02, 9.7166e-02],\n",
       "        [4.9310e-04, 5.1627e-01, 4.9310e-04, 9.8619e-04, 4.9310e-04, 1.6124e-01,\n",
       "         4.9310e-04, 4.9310e-04, 2.1696e-02, 3.1065e-02, 9.8619e-04, 9.8619e-04,\n",
       "         9.8619e-04, 9.8619e-04, 4.9310e-04, 1.6765e-01, 4.9310e-04, 4.9310e-04,\n",
       "         3.4517e-03, 1.4793e-03, 9.8619e-04, 7.7416e-02, 1.9724e-03, 1.9724e-03,\n",
       "         4.9310e-04, 4.9310e-03, 4.9310e-04],\n",
       "        [4.1649e-04, 4.2191e-01, 4.1649e-04, 1.2495e-03, 1.6660e-03, 2.0367e-01,\n",
       "         4.1649e-04, 4.1649e-04, 8.3715e-02, 8.3715e-02, 4.1649e-04, 4.1649e-04,\n",
       "         1.2495e-02, 3.3319e-03, 7.4969e-03, 6.4973e-02, 4.1649e-04, 4.1649e-04,\n",
       "         2.9571e-02, 4.1649e-04, 4.1649e-04, 5.8309e-03, 8.3299e-04, 1.2495e-03,\n",
       "         4.1649e-04, 7.3303e-02, 4.1649e-04],\n",
       "        [7.7882e-04, 3.0296e-01, 7.7882e-04, 7.7882e-04, 7.7882e-04, 2.3676e-01,\n",
       "         7.7882e-04, 7.7882e-04, 7.7882e-04, 1.6900e-01, 7.7882e-04, 7.7882e-04,\n",
       "         3.8941e-03, 7.7882e-04, 7.7882e-04, 1.1215e-01, 7.7882e-04, 7.7882e-04,\n",
       "         7.7882e-04, 7.7882e-04, 7.7882e-04, 9.2679e-02, 7.7882e-04, 7.7882e-04,\n",
       "         7.7882e-04, 6.6978e-02, 7.7882e-04],\n",
       "        [4.9383e-04, 5.5506e-01, 4.9383e-04, 1.7284e-02, 4.9383e-04, 1.1852e-01,\n",
       "         4.9383e-04, 4.9383e-04, 4.9383e-04, 1.4617e-01, 2.4691e-03, 4.9383e-04,\n",
       "         4.9383e-04, 4.9383e-04, 4.9383e-04, 7.4074e-02, 4.9383e-04, 4.9383e-04,\n",
       "         4.9383e-04, 4.9383e-04, 4.9383e-04, 3.3580e-02, 4.9383e-04, 4.9383e-04,\n",
       "         4.9383e-04, 4.3457e-02, 4.9383e-04],\n",
       "        [1.0309e-03, 4.0103e-01, 1.0309e-03, 1.0309e-03, 1.0309e-03, 1.5052e-01,\n",
       "         1.0309e-03, 4.1237e-03, 3.0928e-03, 1.7938e-01, 1.0309e-03, 1.0309e-03,\n",
       "         1.0309e-03, 1.0309e-03, 3.0928e-03, 1.3814e-01, 1.0309e-03, 1.0309e-03,\n",
       "         1.0309e-03, 1.0309e-03, 1.0309e-03, 2.5773e-02, 1.0309e-03, 1.0309e-03,\n",
       "         1.0309e-03, 7.5258e-02, 2.0619e-03],\n",
       "        [2.9070e-03, 7.8488e-02, 3.4884e-02, 4.3605e-02, 5.2326e-02, 2.9070e-03,\n",
       "         5.8140e-03, 2.0349e-02, 2.3256e-02, 2.9070e-03, 8.7209e-03, 8.7209e-03,\n",
       "         2.2384e-01, 7.2674e-02, 5.2326e-02, 8.7209e-03, 1.1628e-02, 2.9070e-03,\n",
       "         1.4535e-01, 6.3953e-02, 4.9419e-02, 8.7209e-03, 1.4535e-02, 2.6163e-02,\n",
       "         2.9070e-03, 2.9070e-03, 2.9070e-02],\n",
       "        [2.3148e-03, 3.1481e-01, 2.3148e-03, 2.3148e-03, 2.3148e-03, 1.8750e-01,\n",
       "         4.6296e-03, 2.3148e-03, 7.8704e-02, 5.5556e-02, 2.3148e-03, 2.3148e-03,\n",
       "         4.6296e-03, 2.3148e-03, 2.3148e-03, 5.5556e-02, 2.3148e-03, 2.3148e-03,\n",
       "         2.4306e-01, 4.6296e-03, 2.3148e-03, 6.9444e-03, 2.3148e-03, 2.3148e-03,\n",
       "         2.3148e-03, 6.9444e-03, 2.3148e-03],\n",
       "        [9.6154e-03, 5.7692e-02, 9.6154e-03, 9.6154e-03, 9.6154e-03, 9.6154e-03,\n",
       "         9.6154e-03, 9.6154e-03, 9.6154e-03, 3.8462e-02, 9.6154e-03, 9.6154e-03,\n",
       "         9.6154e-03, 9.6154e-03, 9.6154e-03, 9.6154e-03, 9.6154e-03, 9.6154e-03,\n",
       "         9.6154e-03, 9.6154e-03, 9.6154e-03, 6.7308e-01, 9.6154e-03, 9.6154e-03,\n",
       "         9.6154e-03, 9.6154e-03, 9.6154e-03],\n",
       "        [7.8064e-04, 2.7713e-01, 7.8064e-04, 7.8064e-04, 7.8064e-04, 1.8345e-01,\n",
       "         7.8064e-04, 7.8064e-04, 5.3084e-02, 1.2178e-01, 7.8064e-04, 7.8064e-04,\n",
       "         7.8064e-04, 1.5613e-03, 7.8064e-04, 2.2482e-01, 7.8064e-04, 7.8064e-04,\n",
       "         7.8064e-04, 7.8064e-04, 7.8064e-04, 7.0258e-02, 7.8064e-04, 7.8064e-04,\n",
       "         7.8064e-04, 5.3084e-02, 7.8064e-04],\n",
       "        [6.0533e-04, 2.8571e-01, 6.0533e-04, 1.3317e-02, 6.0533e-04, 9.1404e-02,\n",
       "         6.0533e-04, 6.0533e-04, 2.0278e-01, 8.5956e-02, 6.0533e-04, 3.7530e-02,\n",
       "         1.0291e-02, 3.6320e-03, 3.6320e-03, 6.1138e-02, 1.0291e-02, 6.0533e-04,\n",
       "         1.1501e-02, 6.0533e-04, 6.1743e-02, 7.1429e-02, 2.4213e-03, 7.2639e-03,\n",
       "         6.0533e-04, 3.3293e-02, 1.2107e-03],\n",
       "        [9.3110e-04, 3.1378e-01, 9.3110e-04, 9.3110e-04, 9.3110e-04, 1.4153e-01,\n",
       "         9.3110e-04, 9.3110e-04, 7.1695e-02, 8.3799e-02, 9.3110e-04, 9.3110e-04,\n",
       "         9.3110e-04, 9.3110e-04, 9.3110e-04, 8.6592e-02, 9.3110e-04, 9.3110e-04,\n",
       "         1.5177e-01, 9.3110e-04, 9.3110e-04, 1.3035e-02, 9.3110e-04, 2.7933e-03,\n",
       "         9.3110e-04, 1.1080e-01, 8.3799e-03],\n",
       "        [1.1364e-02, 1.1364e-02, 4.5455e-02, 1.1364e-02, 3.4091e-02, 1.1364e-02,\n",
       "         1.1364e-02, 3.4091e-02, 1.1364e-02, 1.1364e-02, 1.1364e-02, 1.1364e-02,\n",
       "         1.5909e-01, 5.6818e-02, 1.1364e-01, 1.1364e-02, 2.2727e-02, 1.1364e-02,\n",
       "         1.4773e-01, 4.5455e-02, 2.2727e-02, 1.1364e-02, 1.1364e-02, 1.1364e-02,\n",
       "         1.1364e-02, 1.1364e-02, 1.3636e-01],\n",
       "        [3.3113e-03, 3.5762e-01, 3.3113e-03, 3.3113e-03, 3.3113e-03, 1.6556e-01,\n",
       "         3.3113e-03, 3.3113e-03, 3.3113e-03, 3.3113e-01, 3.3113e-03, 3.3113e-03,\n",
       "         3.3113e-03, 3.3113e-03, 3.3113e-03, 1.9868e-02, 3.3113e-03, 3.3113e-03,\n",
       "         9.9338e-03, 3.3113e-03, 3.3113e-03, 1.3245e-02, 3.3113e-03, 3.3113e-03,\n",
       "         3.3113e-03, 3.6424e-02, 3.3113e-03],\n",
       "        [3.5971e-03, 2.1583e-01, 3.5971e-03, 3.5971e-03, 3.5971e-03, 1.6906e-01,\n",
       "         3.5971e-03, 3.5971e-03, 4.6763e-02, 2.8058e-01, 3.5971e-03, 3.5971e-03,\n",
       "         3.5971e-03, 3.5971e-03, 3.5971e-03, 4.3165e-02, 3.5971e-03, 3.5971e-03,\n",
       "         5.3957e-02, 3.5971e-03, 3.5971e-03, 1.0791e-02, 3.5971e-03, 3.5971e-03,\n",
       "         3.5971e-03, 1.1151e-01, 3.5971e-03],\n",
       "        [7.8740e-03, 3.0709e-01, 7.8740e-03, 7.8740e-03, 7.8740e-03, 6.2992e-02,\n",
       "         7.8740e-03, 7.8740e-03, 2.3622e-02, 1.5748e-01, 7.8740e-03, 7.8740e-03,\n",
       "         7.8740e-03, 7.8740e-03, 7.8740e-03, 9.4488e-02, 7.8740e-03, 7.8740e-03,\n",
       "         7.8740e-03, 1.5748e-02, 7.8740e-03, 7.8740e-03, 7.8740e-03, 7.8740e-03,\n",
       "         7.8740e-03, 1.2598e-01, 6.2992e-02],\n",
       "        [2.2779e-03, 4.6241e-01, 2.2779e-03, 2.2779e-03, 2.2779e-03, 9.5672e-02,\n",
       "         2.2779e-03, 2.2779e-03, 2.2779e-03, 7.5171e-02, 2.2779e-03, 2.2779e-03,\n",
       "         4.5558e-03, 2.2779e-03, 2.2779e-03, 1.4351e-01, 2.2779e-03, 2.2779e-03,\n",
       "         2.2779e-03, 6.8337e-03, 2.2779e-03, 1.4351e-01, 1.3667e-02, 2.2779e-03,\n",
       "         2.2779e-03, 2.2779e-03, 1.3667e-02],\n",
       "        [1.2330e-03, 4.6116e-01, 1.2330e-03, 1.2330e-03, 1.2330e-03, 1.2824e-01,\n",
       "         1.2330e-03, 1.2330e-03, 3.2059e-02, 9.2478e-02, 1.2330e-03, 1.2330e-03,\n",
       "         4.9322e-03, 1.2330e-03, 1.2330e-03, 8.5080e-02, 1.2330e-03, 1.2330e-03,\n",
       "         1.2330e-03, 4.9322e-03, 1.2330e-03, 4.4390e-02, 1.2330e-03, 1.2330e-03,\n",
       "         1.2330e-03, 1.2330e-01, 2.4661e-03]])"
      ]
     },
     "execution_count": 7,
     "metadata": {},
     "output_type": "execute_result"
    }
   ],
   "execution_count": 7
  },
  {
   "metadata": {
    "ExecuteTime": {
     "end_time": "2025-06-09T08:59:52.461471Z",
     "start_time": "2025-06-09T08:59:52.450580Z"
    }
   },
   "cell_type": "code",
   "source": [
    "for i in range(10):\n",
    "    ix = 0\n",
    "    out = ['.', '.']\n",
    "    while True:\n",
    "        ix = torch.multinomial(P[stoi[out[-2]], stoi[out[-1]]], 1, replacement=True).item()\n",
    "        if ix == 0:\n",
    "            break\n",
    "        out.append(itos[ix])\n",
    "    print(*out, sep=\"\")"
   ],
   "id": "4c7d19158bffa562",
   "outputs": [
    {
     "name": "stdout",
     "output_type": "stream",
     "text": [
      "..zyahnyi\n",
      "..jafree\n",
      "..jal\n",
      "..aliyianatastoriedwghamaretra\n",
      "..adicellynluwudgna\n",
      "..helipmkviovedfdmanrwodas\n",
      "..silyndoybilla\n",
      "..kynna\n",
      "..ramarel\n",
      "..belip\n"
     ]
    }
   ],
   "execution_count": 8
  },
  {
   "metadata": {
    "ExecuteTime": {
     "end_time": "2025-06-09T08:59:53.655316Z",
     "start_time": "2025-06-09T08:59:52.518640Z"
    }
   },
   "cell_type": "code",
   "source": [
    "import matplotlib.pyplot as plt\n",
    "\n",
    "plt.imshow(P[0])\n",
    "plt.colorbar()"
   ],
   "id": "dba61a256b16da72",
   "outputs": [
    {
     "data": {
      "text/plain": [
       "<matplotlib.colorbar.Colorbar at 0x10ce06dc0>"
      ]
     },
     "execution_count": 9,
     "metadata": {},
     "output_type": "execute_result"
    },
    {
     "data": {
      "text/plain": [
       "<Figure size 640x480 with 2 Axes>"
      ],
      "image/png": "[encoded data removed]"
     },
     "metadata": {},
     "output_type": "display_data"
    }
   ],
   "execution_count": 9
  },
  {
   "metadata": {
    "ExecuteTime": {
     "end_time": "2025-06-09T08:59:53.681918Z",
     "start_time": "2025-06-09T08:59:53.677625Z"
    }
   },
   "cell_type": "code",
   "source": "P[0][0]",
   "id": "3a15aa021064a3c7",
   "outputs": [
    {
     "data": {
      "text/plain": [
       "tensor([3.8982e-05, 1.3659e-01, 3.9878e-02, 4.9039e-02, 5.6134e-02, 4.6271e-02,\n",
       "        1.2903e-02, 2.0465e-02, 2.7989e-02, 1.8243e-02, 7.8042e-02, 9.2582e-02,\n",
       "        4.9039e-02, 7.7925e-02, 3.6799e-02, 1.2396e-02, 1.5827e-02, 3.0406e-03,\n",
       "        4.8922e-02, 6.3384e-02, 4.0853e-02, 2.4169e-03, 1.0759e-02, 9.8234e-03,\n",
       "        3.9372e-03, 1.6099e-02, 3.0601e-02])"
      ]
     },
     "execution_count": 10,
     "metadata": {},
     "output_type": "execute_result"
    }
   ],
   "execution_count": 10
  },
  {
   "metadata": {
    "ExecuteTime": {
     "end_time": "2025-06-09T08:59:53.964612Z",
     "start_time": "2025-06-09T08:59:53.708264Z"
    }
   },
   "cell_type": "code",
   "source": [
    "# loss\n",
    "nll = 0.0\n",
    "n = 0\n",
    "for w in words_dev:\n",
    "    word = \"..\" + w + \".\"\n",
    "    for c1, c2, c3 in zip(word, word[1:], word[2:]):\n",
    "        prob = P[stoi[c1], stoi[c2], stoi[c3]]\n",
    "        nll += -prob.log()\n",
    "        n += 1\n",
    "print(f\"{nll=}, {nll/n}\")"
   ],
   "id": "8f3924c0cb19fdc5",
   "outputs": [
    {
     "name": "stdout",
     "output_type": "stream",
     "text": [
      "nll=tensor(101264.8203), 2.219600200653076\n"
     ]
    }
   ],
   "execution_count": 11
  },
  {
   "metadata": {},
   "cell_type": "markdown",
   "source": "# E02",
   "id": "8a66364833f1747f"
  },
  {
   "metadata": {
    "ExecuteTime": {
     "end_time": "2025-06-09T08:59:54.005873Z",
     "start_time": "2025-06-09T08:59:53.969531Z"
    }
   },
   "cell_type": "code",
   "source": [
    "idx = torch.randint(high=len(words), size=(len(words),))\n",
    "split_test = int(.8 * len(words))\n",
    "idx_test = idx[:split_test]\n",
    "idx_dev = idx[split_test: ]\n",
    "\n",
    "words_test = [words[i] for i in idx_test]\n",
    "words_dev = [words[i] for i in idx_dev]"
   ],
   "id": "6a52488917b5fdb2",
   "outputs": [],
   "execution_count": 12
  },
  {
   "metadata": {
    "ExecuteTime": {
     "end_time": "2025-06-09T08:59:54.040310Z",
     "start_time": "2025-06-09T08:59:54.028871Z"
    }
   },
   "cell_type": "code",
   "source": "words_dev",
   "id": "43d29edb7ffda727",
   "outputs": [
    {
     "data": {
      "text/plain": [
       "['kazumi',\n",
       " 'freyja',\n",
       " 'gemma',\n",
       " 'eisa',\n",
       " 'carrigan',\n",
       " 'haram',\n",
       " 'roman',\n",
       " 'lilyan',\n",
       " 'mickey',\n",
       " 'kastle',\n",
       " 'xiclaly',\n",
       " 'karris',\n",
       " 'myiah',\n",
       " 'teanna',\n",
       " 'elanora',\n",
       " 'emmilia',\n",
       " 'evelyna',\n",
       " 'adebowale',\n",
       " 'amadu',\n",
       " 'nishad',\n",
       " 'indi',\n",
       " 'zidon',\n",
       " 'aadhyasri',\n",
       " 'cristel',\n",
       " 'adiel',\n",
       " 'redd',\n",
       " 'eder',\n",
       " 'sydnie',\n",
       " 'lorelle',\n",
       " 'jaylynn',\n",
       " 'sonam',\n",
       " 'man',\n",
       " 'kyzaiah',\n",
       " 'whalen',\n",
       " 'bisma',\n",
       " 'xaria',\n",
       " 'samriddhi',\n",
       " 'raquan',\n",
       " 'gaige',\n",
       " 'rosselyn',\n",
       " 'jamillah',\n",
       " 'cory',\n",
       " 'antony',\n",
       " 'norlan',\n",
       " 'heela',\n",
       " 'samyah',\n",
       " 'archer',\n",
       " 'gorden',\n",
       " 'demetrice',\n",
       " 'vidya',\n",
       " 'britton',\n",
       " 'harika',\n",
       " 'elia',\n",
       " 'aneliz',\n",
       " 'rmani',\n",
       " 'cardell',\n",
       " 'makhi',\n",
       " 'lorna',\n",
       " 'swayze',\n",
       " 'josie',\n",
       " 'jazzlynn',\n",
       " 'kloey',\n",
       " 'ximena',\n",
       " 'frans',\n",
       " 'ashanty',\n",
       " 'adithya',\n",
       " 'bahram',\n",
       " 'damein',\n",
       " 'abdulwahab',\n",
       " 'arlow',\n",
       " 'johnathan',\n",
       " 'kmiya',\n",
       " 'navi',\n",
       " 'selvin',\n",
       " 'xyler',\n",
       " 'adeliz',\n",
       " 'marlie',\n",
       " 'patryk',\n",
       " 'zymere',\n",
       " 'khyleigh',\n",
       " 'yzabella',\n",
       " 'mak',\n",
       " 'quin',\n",
       " 'lennyn',\n",
       " 'naileth',\n",
       " 'camille',\n",
       " 'braydin',\n",
       " 'mable',\n",
       " 'nechuma',\n",
       " 'shambhavi',\n",
       " 'gillian',\n",
       " 'zoltan',\n",
       " 'krislyn',\n",
       " 'lenya',\n",
       " 'jeovanny',\n",
       " 'baya',\n",
       " 'neithan',\n",
       " 'sahej',\n",
       " 'averey',\n",
       " 'jayshawn',\n",
       " 'saleem',\n",
       " 'mayela',\n",
       " 'dashell',\n",
       " 'baxley',\n",
       " 'alize',\n",
       " 'echo',\n",
       " 'krishay',\n",
       " 'jacolby',\n",
       " 'letizia',\n",
       " 'selam',\n",
       " 'huntington',\n",
       " 'allie',\n",
       " 'kensley',\n",
       " 'alihan',\n",
       " 'aava',\n",
       " 'damian',\n",
       " 'kaceion',\n",
       " 'mahira',\n",
       " 'faryal',\n",
       " 'samara',\n",
       " 'zanova',\n",
       " 'zalayah',\n",
       " 'jaice',\n",
       " 'carley',\n",
       " 'analeyah',\n",
       " 'daleen',\n",
       " 'julien',\n",
       " 'brogen',\n",
       " 'krystian',\n",
       " 'azrael',\n",
       " 'nikko',\n",
       " 'anely',\n",
       " 'alivea',\n",
       " 'krystel',\n",
       " 'unnamed',\n",
       " 'kalkidan',\n",
       " 'charlotterose',\n",
       " 'yuzuha',\n",
       " 'tekoa',\n",
       " 'liviya',\n",
       " 'toni',\n",
       " 'sigrid',\n",
       " 'rozlyn',\n",
       " 'mynor',\n",
       " 'faithlynn',\n",
       " 'bellamae',\n",
       " 'niara',\n",
       " 'yohan',\n",
       " 'adiah',\n",
       " 'iosefa',\n",
       " 'gian',\n",
       " 'siddalee',\n",
       " 'stirling',\n",
       " 'marcelline',\n",
       " 'montae',\n",
       " 'york',\n",
       " 'kelce',\n",
       " 'kaashvi',\n",
       " 'tanya',\n",
       " 'larissa',\n",
       " 'asiyah',\n",
       " 'coen',\n",
       " 'adonys',\n",
       " 'canaan',\n",
       " 'jona',\n",
       " 'emryk',\n",
       " 'bexley',\n",
       " 'favio',\n",
       " 'emiyah',\n",
       " 'rodas',\n",
       " 'yunus',\n",
       " 'zaron',\n",
       " 'emmielou',\n",
       " 'jailey',\n",
       " 'leangelo',\n",
       " 'venice',\n",
       " 'kynzleigh',\n",
       " 'delshon',\n",
       " 'stockton',\n",
       " 'shaylyn',\n",
       " 'markus',\n",
       " 'rayder',\n",
       " 'kristiano',\n",
       " 'raiyah',\n",
       " 'khase',\n",
       " 'omid',\n",
       " 'karrson',\n",
       " 'daimion',\n",
       " 'azzurra',\n",
       " 'domonic',\n",
       " 'anvit',\n",
       " 'dreshon',\n",
       " 'zeplynn',\n",
       " 'nourah',\n",
       " 'franz',\n",
       " 'daevion',\n",
       " 'aricela',\n",
       " 'rockland',\n",
       " 'ramello',\n",
       " 'laelynn',\n",
       " 'atwood',\n",
       " 'lakin',\n",
       " 'netta',\n",
       " 'iyla',\n",
       " 'kendalyn',\n",
       " 'rosina',\n",
       " 'lenni',\n",
       " 'aspyn',\n",
       " 'zymire',\n",
       " 'kynzi',\n",
       " 'azelle',\n",
       " 'namira',\n",
       " 'jadore',\n",
       " 'shreyash',\n",
       " 'elchanan',\n",
       " 'brynja',\n",
       " 'norberto',\n",
       " 'alexa',\n",
       " 'juaquin',\n",
       " 'kairav',\n",
       " 'kinzee',\n",
       " 'kaileb',\n",
       " 'yona',\n",
       " 'neerav',\n",
       " 'koah',\n",
       " 'roman',\n",
       " 'brynn',\n",
       " 'alexa',\n",
       " 'darby',\n",
       " 'hardison',\n",
       " 'hanako',\n",
       " 'anjolaoluwa',\n",
       " 'ellionna',\n",
       " 'meta',\n",
       " 'kaleeah',\n",
       " 'mackynzi',\n",
       " 'loukas',\n",
       " 'swaraj',\n",
       " 'mariem',\n",
       " 'keyra',\n",
       " 'averee',\n",
       " 'asha',\n",
       " 'sheyenne',\n",
       " 'neysa',\n",
       " 'everliegh',\n",
       " 'denym',\n",
       " 'lazlo',\n",
       " 'jalil',\n",
       " 'tahmid',\n",
       " 'honor',\n",
       " 'zailyn',\n",
       " 'elias',\n",
       " 'evelio',\n",
       " 'mackynzi',\n",
       " 'briona',\n",
       " 'hero',\n",
       " 'eleena',\n",
       " 'maziah',\n",
       " 'naiyah',\n",
       " 'tiago',\n",
       " 'aayan',\n",
       " 'crispin',\n",
       " 'donzell',\n",
       " 'abdiaziz',\n",
       " 'shriyaan',\n",
       " 'adalinn',\n",
       " 'abriana',\n",
       " 'jada',\n",
       " 'theda',\n",
       " 'sabine',\n",
       " 'neilah',\n",
       " 'alanna',\n",
       " 'aisha',\n",
       " 'daphnee',\n",
       " 'elmer',\n",
       " 'kayley',\n",
       " 'kehlani',\n",
       " 'serenah',\n",
       " 'kloni',\n",
       " 'sabah',\n",
       " 'rayana',\n",
       " 'zephyr',\n",
       " 'zee',\n",
       " 'damacio',\n",
       " 'lachlann',\n",
       " 'ehren',\n",
       " 'bela',\n",
       " 'artemis',\n",
       " 'ase',\n",
       " 'victoire',\n",
       " 'meli',\n",
       " 'gil',\n",
       " 'miriana',\n",
       " 'marilynn',\n",
       " 'emie',\n",
       " 'farhaan',\n",
       " 'simeon',\n",
       " 'kylene',\n",
       " 'zuzanna',\n",
       " 'asuka',\n",
       " 'flavio',\n",
       " 'keymani',\n",
       " 'yari',\n",
       " 'philopater',\n",
       " 'klaira',\n",
       " 'ernestina',\n",
       " 'clarah',\n",
       " 'azizah',\n",
       " 'treyvon',\n",
       " 'zakaria',\n",
       " 'cashmere',\n",
       " 'decari',\n",
       " 'zahari',\n",
       " 'pia',\n",
       " 'mulan',\n",
       " 'stanley',\n",
       " 'karena',\n",
       " 'koy',\n",
       " 'drayven',\n",
       " 'amaree',\n",
       " 'saurav',\n",
       " 'tramel',\n",
       " 'mayuri',\n",
       " 'averyanna',\n",
       " 'samiir',\n",
       " 'cadin',\n",
       " 'bishop',\n",
       " 'adelisa',\n",
       " 'effy',\n",
       " 'maddalena',\n",
       " 'maxden',\n",
       " 'yanis',\n",
       " 'vaibhav',\n",
       " 'elasia',\n",
       " 'hendrix',\n",
       " 'blair',\n",
       " 'alexx',\n",
       " 'shirel',\n",
       " 'montavious',\n",
       " 'aakil',\n",
       " 'evika',\n",
       " 'elson',\n",
       " 'johan',\n",
       " 'cordero',\n",
       " 'henley',\n",
       " 'massiah',\n",
       " 'keldan',\n",
       " 'kalany',\n",
       " 'samba',\n",
       " 'airlie',\n",
       " 'evon',\n",
       " 'mulani',\n",
       " 'oya',\n",
       " 'pearlina',\n",
       " 'marlea',\n",
       " 'avalene',\n",
       " 'charming',\n",
       " 'gil',\n",
       " 'khaila',\n",
       " 'thaleia',\n",
       " 'enna',\n",
       " 'finnick',\n",
       " 'zakhari',\n",
       " 'edwar',\n",
       " 'collins',\n",
       " 'sumire',\n",
       " 'harlo',\n",
       " 'loay',\n",
       " 'dale',\n",
       " 'zelma',\n",
       " 'sriya',\n",
       " 'torrian',\n",
       " 'sandra',\n",
       " 'karyme',\n",
       " 'cree',\n",
       " 'arshan',\n",
       " 'miagrace',\n",
       " 'karyssa',\n",
       " 'aubreana',\n",
       " 'aubrianna',\n",
       " 'chevie',\n",
       " 'ahadu',\n",
       " 'rahyl',\n",
       " 'mohsin',\n",
       " 'nessa',\n",
       " 'rochel',\n",
       " 'hawwa',\n",
       " 'keelynn',\n",
       " 'vyanna',\n",
       " 'jabes',\n",
       " 'kaxton',\n",
       " 'nour',\n",
       " 'payslie',\n",
       " 'azzan',\n",
       " 'aldyn',\n",
       " 'delmi',\n",
       " 'addisyn',\n",
       " 'hazael',\n",
       " 'ellee',\n",
       " 'sovereign',\n",
       " 'raquelle',\n",
       " 'andrue',\n",
       " 'krissy',\n",
       " 'marques',\n",
       " 'corvus',\n",
       " 'autumn',\n",
       " 'haze',\n",
       " 'jaidev',\n",
       " 'midhuna',\n",
       " 'abigayle',\n",
       " 'rodas',\n",
       " 'blessing',\n",
       " 'nai',\n",
       " 'audvik',\n",
       " 'shamus',\n",
       " 'shannon',\n",
       " 'ayma',\n",
       " 'maguire',\n",
       " 'peighton',\n",
       " 'lyna',\n",
       " 'latrinity',\n",
       " 'julez',\n",
       " 'nakai',\n",
       " 'emerick',\n",
       " 'jenavieve',\n",
       " 'agnia',\n",
       " 'eliyohu',\n",
       " 'madyx',\n",
       " 'cataleah',\n",
       " 'suleman',\n",
       " 'eran',\n",
       " 'weyland',\n",
       " 'aayra',\n",
       " 'matilde',\n",
       " 'rapheal',\n",
       " 'sua',\n",
       " 'malai',\n",
       " 'kayin',\n",
       " 'leonides',\n",
       " 'demetra',\n",
       " 'larke',\n",
       " 'magenta',\n",
       " 'jannette',\n",
       " 'adiline',\n",
       " 'behruz',\n",
       " 'zoa',\n",
       " 'waylyn',\n",
       " 'ralyn',\n",
       " 'alaiza',\n",
       " 'jonathan',\n",
       " 'yamari',\n",
       " 'tyner',\n",
       " 'elona',\n",
       " 'zaivion',\n",
       " 'londynn',\n",
       " 'emree',\n",
       " 'aqua',\n",
       " 'evagrace',\n",
       " 'jalynn',\n",
       " 'miles',\n",
       " 'ahnyla',\n",
       " 'damond',\n",
       " 'elya',\n",
       " 'kensey',\n",
       " 'tasia',\n",
       " 'julianys',\n",
       " 'kainoa',\n",
       " 'kyra',\n",
       " 'neer',\n",
       " 'glendy',\n",
       " 'sawda',\n",
       " 'corionna',\n",
       " 'arthur',\n",
       " 'neilson',\n",
       " 'farouq',\n",
       " 'toby',\n",
       " 'leeland',\n",
       " 'rapheal',\n",
       " 'shai',\n",
       " 'klyn',\n",
       " 'julisa',\n",
       " 'leighla',\n",
       " 'suheyb',\n",
       " 'judas',\n",
       " 'damarkus',\n",
       " 'torrence',\n",
       " 'alvino',\n",
       " 'elleah',\n",
       " 'isma',\n",
       " 'valora',\n",
       " 'mikko',\n",
       " 'kyere',\n",
       " 'torrion',\n",
       " 'ocean',\n",
       " 'alexandra',\n",
       " 'shamirah',\n",
       " 'sarahann',\n",
       " 'vitaliy',\n",
       " 'sava',\n",
       " 'haiti',\n",
       " 'namari',\n",
       " 'dmani',\n",
       " 'amatullah',\n",
       " 'raynell',\n",
       " 'aspyn',\n",
       " 'rhapsody',\n",
       " 'schneur',\n",
       " 'malie',\n",
       " 'lynden',\n",
       " 'perl',\n",
       " 'albee',\n",
       " 'amada',\n",
       " 'teoman',\n",
       " 'kohlton',\n",
       " 'macari',\n",
       " 'raegyn',\n",
       " 'dessiah',\n",
       " 'arzoi',\n",
       " 'rhaya',\n",
       " 'betel',\n",
       " 'ayron',\n",
       " 'malania',\n",
       " 'jabez',\n",
       " 'esher',\n",
       " 'stacie',\n",
       " 'avyon',\n",
       " 'mckay',\n",
       " 'nichelle',\n",
       " 'kento',\n",
       " 'consuelo',\n",
       " 'nunzio',\n",
       " 'cecillia',\n",
       " 'antonino',\n",
       " 'nyzir',\n",
       " 'chisum',\n",
       " 'brisen',\n",
       " 'nazariy',\n",
       " 'caedence',\n",
       " 'conan',\n",
       " 'roslin',\n",
       " 'hebe',\n",
       " 'basma',\n",
       " 'brogan',\n",
       " 'bryar',\n",
       " 'jedrick',\n",
       " 'gianni',\n",
       " 'rithika',\n",
       " 'kamira',\n",
       " 'josedavid',\n",
       " 'marely',\n",
       " 'jarron',\n",
       " 'aland',\n",
       " 'cashius',\n",
       " 'travone',\n",
       " 'azim',\n",
       " 'shuaib',\n",
       " 'daimion',\n",
       " 'havok',\n",
       " 'dontay',\n",
       " 'aniyla',\n",
       " 'evan',\n",
       " 'alianys',\n",
       " 'tyrah',\n",
       " 'abriah',\n",
       " 'devri',\n",
       " 'nawaal',\n",
       " 'mitchel',\n",
       " 'breklynn',\n",
       " 'moziah',\n",
       " 'yuki',\n",
       " 'jami',\n",
       " 'han',\n",
       " 'kiyla',\n",
       " 'aansh',\n",
       " 'milam',\n",
       " 'izrael',\n",
       " 'mariona',\n",
       " 'issak',\n",
       " 'hiya',\n",
       " 'fischer',\n",
       " 'jaycen',\n",
       " 'karmine',\n",
       " 'calyx',\n",
       " 'dj',\n",
       " 'amrit',\n",
       " 'westynn',\n",
       " 'adaya',\n",
       " 'leslye',\n",
       " 'lynx',\n",
       " 'jayonna',\n",
       " 'kyriee',\n",
       " 'brynlynn',\n",
       " 'kaleena',\n",
       " 'novalea',\n",
       " 'nery',\n",
       " 'maniya',\n",
       " 'ahaana',\n",
       " 'rayyan',\n",
       " 'siddalee',\n",
       " 'samairah',\n",
       " 'stacy',\n",
       " 'rogue',\n",
       " 'naylani',\n",
       " 'cambryn',\n",
       " 'jennie',\n",
       " 'zoellie',\n",
       " 'gino',\n",
       " 'zinia',\n",
       " 'keisha',\n",
       " 'ajay',\n",
       " 'rishika',\n",
       " 'christian',\n",
       " 'aliz',\n",
       " 'avory',\n",
       " 'jerian',\n",
       " 'nikole',\n",
       " 'guhan',\n",
       " 'kamarie',\n",
       " 'danasia',\n",
       " 'ron',\n",
       " 'isabella',\n",
       " 'ridhaan',\n",
       " 'rosaleen',\n",
       " 'sabria',\n",
       " 'beretta',\n",
       " 'keyarra',\n",
       " 'tierany',\n",
       " 'khushi',\n",
       " 'marianela',\n",
       " 'mone',\n",
       " 'danica',\n",
       " 'zymeer',\n",
       " 'ronny',\n",
       " 'hadyn',\n",
       " 'kayliyah',\n",
       " 'catherine',\n",
       " 'cutler',\n",
       " 'jaquae',\n",
       " 'naileth',\n",
       " 'deyan',\n",
       " 'xayah',\n",
       " 'jayace',\n",
       " 'shanelly',\n",
       " 'amr',\n",
       " 'havynn',\n",
       " 'yazir',\n",
       " 'mukund',\n",
       " 'adeliene',\n",
       " 'brevan',\n",
       " 'tyriana',\n",
       " 'kaelin',\n",
       " 'jorawar',\n",
       " 'boomer',\n",
       " 'aysel',\n",
       " 'paxten',\n",
       " 'chizaram',\n",
       " 'keair',\n",
       " 'romil',\n",
       " 'kamrie',\n",
       " 'josiaah',\n",
       " 'angelyn',\n",
       " 'giovanny',\n",
       " 'elowen',\n",
       " 'isam',\n",
       " 'gardenia',\n",
       " 'gala',\n",
       " 'kelsea',\n",
       " 'jettie',\n",
       " 'liliahna',\n",
       " 'yuvan',\n",
       " 'yabsera',\n",
       " 'evander',\n",
       " 'zamyah',\n",
       " 'erilyn',\n",
       " 'ediel',\n",
       " 'riyann',\n",
       " 'worth',\n",
       " 'jennifer',\n",
       " 'rhone',\n",
       " 'abrahim',\n",
       " 'aayansh',\n",
       " 'rueben',\n",
       " 'hosanna',\n",
       " 'weston',\n",
       " 'pierre',\n",
       " 'maison',\n",
       " 'krishika',\n",
       " 'cerenity',\n",
       " 'joshlynn',\n",
       " 'aimee',\n",
       " 'ellamarie',\n",
       " 'biruk',\n",
       " 'khairi',\n",
       " 'armanii',\n",
       " 'meradith',\n",
       " 'esmae',\n",
       " 'damila',\n",
       " 'clarity',\n",
       " 'iyanna',\n",
       " 'zacari',\n",
       " 'adalyne',\n",
       " 'timon',\n",
       " 'emmagrace',\n",
       " 'shreyash',\n",
       " 'parker',\n",
       " 'danari',\n",
       " 'bentlei',\n",
       " 'cain',\n",
       " 'kamai',\n",
       " 'jhaniya',\n",
       " 'baxton',\n",
       " 'slone',\n",
       " 'lorina',\n",
       " 'oliana',\n",
       " 'ximena',\n",
       " 'kavita',\n",
       " 'argo',\n",
       " 'christie',\n",
       " 'drishya',\n",
       " 'kortni',\n",
       " 'favio',\n",
       " 'lucrezia',\n",
       " 'terrah',\n",
       " 'zeyad',\n",
       " 'marylou',\n",
       " 'hiba',\n",
       " 'hailie',\n",
       " 'lianni',\n",
       " 'anikin',\n",
       " 'matilde',\n",
       " 'collier',\n",
       " 'nahliyah',\n",
       " 'nellie',\n",
       " 'pantelis',\n",
       " 'jermany',\n",
       " 'aharon',\n",
       " 'zathan',\n",
       " 'amier',\n",
       " 'kolbi',\n",
       " 'liseth',\n",
       " 'ravon',\n",
       " 'zienna',\n",
       " 'henrik',\n",
       " 'aadhav',\n",
       " 'tiam',\n",
       " 'kingarthur',\n",
       " 'wateen',\n",
       " 'trustin',\n",
       " 'keontae',\n",
       " 'hynlee',\n",
       " 'geraldyn',\n",
       " 'kharlie',\n",
       " 'zissel',\n",
       " 'truu',\n",
       " 'ladell',\n",
       " 'muhammadmustafa',\n",
       " 'bentzy',\n",
       " 'mikyla',\n",
       " 'milania',\n",
       " 'savanah',\n",
       " 'sabino',\n",
       " 'andromeda',\n",
       " 'heavyn',\n",
       " 'danny',\n",
       " 'jed',\n",
       " 'benito',\n",
       " 'endsley',\n",
       " 'maytte',\n",
       " 'runa',\n",
       " 'giuseppina',\n",
       " 'martinez',\n",
       " 'emeree',\n",
       " 'dalayna',\n",
       " 'afiya',\n",
       " 'esty',\n",
       " 'theya',\n",
       " 'suhan',\n",
       " 'kyndall',\n",
       " 'lidya',\n",
       " 'maggiemae',\n",
       " 'leonardo',\n",
       " 'caris',\n",
       " 'aleen',\n",
       " 'hance',\n",
       " 'tamina',\n",
       " 'kloee',\n",
       " 'kariah',\n",
       " 'pantelis',\n",
       " 'aleki',\n",
       " 'keri',\n",
       " 'keslee',\n",
       " 'javohir',\n",
       " 'brennex',\n",
       " 'simon',\n",
       " 'traxton',\n",
       " 'kamauri',\n",
       " 'marykatherine',\n",
       " 'arlin',\n",
       " 'bostynn',\n",
       " 'livana',\n",
       " 'josten',\n",
       " 'ashyr',\n",
       " 'miya',\n",
       " 'bryla',\n",
       " 'safiyyah',\n",
       " 'ragnar',\n",
       " 'afnan',\n",
       " 'royal',\n",
       " 'eliud',\n",
       " 'anaijah',\n",
       " 'constanza',\n",
       " 'jaela',\n",
       " 'rubyrose',\n",
       " 'leeiam',\n",
       " 'zaharra',\n",
       " 'meia',\n",
       " 'antwaun',\n",
       " 'kamsiyochukwu',\n",
       " 'lenard',\n",
       " 'khylei',\n",
       " 'marx',\n",
       " 'evalynn',\n",
       " 'vallon',\n",
       " 'carsyn',\n",
       " 'aleksei',\n",
       " 'latif',\n",
       " 'rakeb',\n",
       " 'torii',\n",
       " 'wiktoria',\n",
       " 'prudence',\n",
       " 'sherlin',\n",
       " 'adrie',\n",
       " 'darlene',\n",
       " 'brantley',\n",
       " 'sabina',\n",
       " 'avreet',\n",
       " 'reika',\n",
       " 'fardowsa',\n",
       " 'emileigh',\n",
       " 'mixon',\n",
       " 'shy',\n",
       " 'menno',\n",
       " 'remeigh',\n",
       " 'merick',\n",
       " 'aylanie',\n",
       " 'martavius',\n",
       " 'tiaraoluwa',\n",
       " 'tarrance',\n",
       " 'kaeloni',\n",
       " 'jaylinn',\n",
       " 'callaghan',\n",
       " 'keeton',\n",
       " 'kemar',\n",
       " 'dasani',\n",
       " 'kenli',\n",
       " 'mariza',\n",
       " 'shray',\n",
       " 'jaiveer',\n",
       " 'rachid',\n",
       " 'agastya',\n",
       " 'anzar',\n",
       " 'kayvan',\n",
       " 'tommi',\n",
       " 'kyndal',\n",
       " 'olwen',\n",
       " 'lilyanna',\n",
       " 'tailynn',\n",
       " 'raudel',\n",
       " 'kayleeann',\n",
       " 'payson',\n",
       " 'rett',\n",
       " 'marloe',\n",
       " 'faustino',\n",
       " 'zyel',\n",
       " 'rowdy',\n",
       " 'jovanni',\n",
       " 'remmington',\n",
       " 'kyllian',\n",
       " 'anilah',\n",
       " 'annikah',\n",
       " 'hovhannes',\n",
       " 'gea',\n",
       " 'anikka',\n",
       " 'marc',\n",
       " 'daxxton',\n",
       " 'violette',\n",
       " 'lahni',\n",
       " 'gregorio',\n",
       " 'emmaree',\n",
       " 'omara',\n",
       " 'rafe',\n",
       " 'jessika',\n",
       " 'pearle',\n",
       " 'ikshan',\n",
       " 'ahsaad',\n",
       " 'latham',\n",
       " 'royer',\n",
       " 'lennan',\n",
       " 'enzley',\n",
       " 'rockie',\n",
       " 'tadashi',\n",
       " 'colden',\n",
       " 'madani',\n",
       " 'konrad',\n",
       " 'abri',\n",
       " 'marybeth',\n",
       " 'masiah',\n",
       " 'flor',\n",
       " 'xaviera',\n",
       " 'nazeem',\n",
       " 'priyam',\n",
       " 'kierstin',\n",
       " 'teresa',\n",
       " 'nick',\n",
       " 'karigan',\n",
       " 'lenyn',\n",
       " 'kendryck',\n",
       " 'paizly',\n",
       " 'ifza',\n",
       " 'ciena',\n",
       " 'aylah',\n",
       " 'kennet',\n",
       " 'blakley',\n",
       " 'meyah',\n",
       " 'maiah',\n",
       " 'jaice',\n",
       " 'rush',\n",
       " 'marya',\n",
       " 'zameer',\n",
       " 'deangela',\n",
       " 'kekoa',\n",
       " 'colbie',\n",
       " 'teigan',\n",
       " 'breckyn',\n",
       " 'kaxton',\n",
       " 'drina',\n",
       " 'mayven',\n",
       " 'kellyanne',\n",
       " 'monserratt',\n",
       " 'jovanni',\n",
       " 'taisha',\n",
       " 'honora',\n",
       " 'zevi',\n",
       " 'thompson',\n",
       " 'aristides',\n",
       " 'aunesti',\n",
       " 'lilian',\n",
       " 'andersen',\n",
       " 'julienne',\n",
       " 'sigrun',\n",
       " 'krishank',\n",
       " 'onir',\n",
       " 'snow',\n",
       " 'juandiego',\n",
       " 'kylo',\n",
       " 'curren',\n",
       " 'ayrabella',\n",
       " 'loyal',\n",
       " 'reighan',\n",
       " 'madhavi',\n",
       " 'esra',\n",
       " 'leeah',\n",
       " 'asaiah',\n",
       " 'benjamen',\n",
       " 'knowledge',\n",
       " 'ailee',\n",
       " 'vadhir',\n",
       " 'nivek',\n",
       " 'rainy',\n",
       " 'viren',\n",
       " 'manav',\n",
       " 'macklen',\n",
       " 'nakhi',\n",
       " 'emersyn',\n",
       " 'chidubem',\n",
       " 'jahleel',\n",
       " 'anthuan',\n",
       " 'ayna',\n",
       " 'aleaha',\n",
       " 'lolita',\n",
       " 'lianne',\n",
       " 'mikenzie',\n",
       " 'anaaya',\n",
       " 'yukiko',\n",
       " 'eylan',\n",
       " 'allia',\n",
       " 'evanna',\n",
       " 'opal',\n",
       " 'chukwuemeka',\n",
       " 'ezralynn',\n",
       " 'edwar',\n",
       " 'cassidy',\n",
       " 'germani',\n",
       " 'jiyan',\n",
       " 'dennys',\n",
       " 'les',\n",
       " 'anaiya',\n",
       " 'bud',\n",
       " 'sloka',\n",
       " 'leonel',\n",
       " ...]"
      ]
     },
     "execution_count": 13,
     "metadata": {},
     "output_type": "execute_result"
    }
   ],
   "execution_count": 13
  },
  {
   "metadata": {},
   "cell_type": "markdown",
   "source": "## Bigram Model (Probabilistic)",
   "id": "850c1dd7c3b3ee81"
  },
  {
   "metadata": {
    "ExecuteTime": {
     "end_time": "2025-06-09T08:59:55.424375Z",
     "start_time": "2025-06-09T08:59:54.060360Z"
    }
   },
   "cell_type": "code",
   "source": [
    "Nbi = torch.zeros([27, 27])\n",
    "for w in words:\n",
    "    word = \".\" + w + \".\"\n",
    "    for c1, c2 in zip(word, word[1:]):\n",
    "        Nbi[stoi[c1], stoi[c2]] += 1\n",
    "N"
   ],
   "id": "a5d28a632008a8d5",
   "outputs": [
    {
     "data": {
      "text/plain": [
       "tensor([[[   1, 3504, 1023,  ...,  101,  413,  785],\n",
       "         [   1,  175,  154,  ...,   14,  106,  130],\n",
       "         [   1,  144,    1,  ...,    1,    2,    1],\n",
       "         ...,\n",
       "         [   1,   39,    1,  ...,    1,   16,    8],\n",
       "         [   1,  203,    1,  ...,    1,    1,    6],\n",
       "         [   1,  374,    1,  ...,    1,  100,    2]],\n",
       "\n",
       "        [[   1,    1,    1,  ...,    1,    1,    1],\n",
       "         [  35,    1,    7,  ...,    1,    8,    9],\n",
       "         [  27,   24,   18,  ...,    1,   18,    1],\n",
       "         ...,\n",
       "         [   9,    2,    1,  ...,   11,    5,    2],\n",
       "         [ 166,  280,    7,  ...,    1,   13,   31],\n",
       "         [  28,  111,    1,  ...,    1,   12,   16]],\n",
       "\n",
       "        [[   1,    1,    1,  ...,    1,    1,    1],\n",
       "         [  45,    1,    5,  ...,    4,   29,    6],\n",
       "         [   1,    8,    1,  ...,    1,    5,    1],\n",
       "         ...,\n",
       "         [   1,    1,    1,  ...,    1,    1,    1],\n",
       "         [  44,    7,    2,  ...,    1,    1,    1],\n",
       "         [   1,    1,    1,  ...,    1,    1,    1]],\n",
       "\n",
       "        ...,\n",
       "\n",
       "        [[   1,    1,    1,  ...,    1,    1,    1],\n",
       "         [   8,    1,    2,  ...,    1,   11,    1],\n",
       "         [   1,    1,    1,  ...,    1,    2,    1],\n",
       "         ...,\n",
       "         [  12,    3,    1,  ...,    1,    1,    1],\n",
       "         [   3,    4,    1,  ...,    1,    1,    1],\n",
       "         [   1,   12,    1,  ...,    1,    1,    1]],\n",
       "\n",
       "        [[   1,    1,    1,  ...,    1,    1,    1],\n",
       "         [ 547,   46,    6,  ...,    8,    8,   14],\n",
       "         [   3,    1,    1,  ...,    1,    1,    1],\n",
       "         ...,\n",
       "         [  15,    3,    1,  ...,    1,    1,    1],\n",
       "         [   2,   13,    1,  ...,    1,    1,    1],\n",
       "         [   2,   30,    1,  ...,    2,    1,    1]],\n",
       "\n",
       "        [[   1,    1,    1,  ...,    1,    1,    1],\n",
       "         [  80,   18,   37,  ...,    3,   84,    6],\n",
       "         [   1,    1,    1,  ...,    1,    1,    1],\n",
       "         ...,\n",
       "         [   2,    1,    1,  ...,    1,    1,    1],\n",
       "         [  25,   23,    1,  ...,    1,    1,    2],\n",
       "         [   4,    9,    1,  ...,    1,    4,    1]]], dtype=torch.int32)"
      ]
     },
     "execution_count": 14,
     "metadata": {},
     "output_type": "execute_result"
    }
   ],
   "execution_count": 14
  },
  {
   "metadata": {
    "ExecuteTime": {
     "end_time": "2025-06-09T08:59:55.453109Z",
     "start_time": "2025-06-09T08:59:55.445460Z"
    }
   },
   "cell_type": "code",
   "source": [
    "Pbi = (Nbi + 0).float()\n",
    "Pbi /= Pbi.sum(1, keepdim=True)\n",
    "Pbi"
   ],
   "id": "4ba7a5c647fc4cc6",
   "outputs": [
    {
     "data": {
      "text/plain": [
       "tensor([[0.0000e+00, 1.3767e-01, 4.0770e-02, 4.8138e-02, 5.2758e-02, 4.7794e-02,\n",
       "         1.3018e-02, 2.0885e-02, 2.7284e-02, 1.8450e-02, 7.5610e-02, 9.2498e-02,\n",
       "         4.9074e-02, 7.9231e-02, 3.5776e-02, 1.2300e-02, 1.6077e-02, 2.8720e-03,\n",
       "         5.1166e-02, 6.4153e-02, 4.0833e-02, 2.4350e-03, 1.1738e-02, 9.5839e-03,\n",
       "         4.1832e-03, 1.6702e-02, 2.9001e-02],\n",
       "        [1.9596e-01, 1.6408e-02, 1.5966e-02, 1.3870e-02, 3.0751e-02, 2.0422e-02,\n",
       "         3.9546e-03, 4.9579e-03, 6.8821e-02, 4.8694e-02, 5.1645e-03, 1.6763e-02,\n",
       "         7.4605e-02, 4.8222e-02, 1.6048e-01, 1.8592e-03, 2.4199e-03, 1.7707e-03,\n",
       "         9.6326e-02, 3.2994e-02, 2.0274e-02, 1.1244e-02, 2.4613e-02, 4.7514e-03,\n",
       "         5.3711e-03, 6.0499e-02, 1.2838e-02],\n",
       "        [4.3100e-02, 1.2136e-01, 1.4367e-02, 3.7807e-04, 2.4575e-02, 2.4764e-01,\n",
       "         0.0000e+00, 0.0000e+00, 1.5501e-02, 8.2042e-02, 3.7807e-04, 0.0000e+00,\n",
       "         3.8941e-02, 0.0000e+00, 1.5123e-03, 3.9698e-02, 0.0000e+00, 0.0000e+00,\n",
       "         3.1834e-01, 3.0246e-03, 7.5614e-04, 1.7013e-02, 0.0000e+00, 0.0000e+00,\n",
       "         0.0000e+00, 3.1380e-02, 0.0000e+00],\n",
       "        [2.7463e-02, 2.3075e-01, 0.0000e+00, 1.1891e-02, 2.8313e-04, 1.5600e-01,\n",
       "         0.0000e+00, 5.6625e-04, 1.8800e-01, 7.6727e-02, 8.4938e-04, 8.9468e-02,\n",
       "         3.2843e-02, 0.0000e+00, 0.0000e+00, 1.0759e-01, 2.8313e-04, 3.1144e-03,\n",
       "         2.1518e-02, 1.4156e-03, 9.9094e-03, 9.9094e-03, 0.0000e+00, 0.0000e+00,\n",
       "         8.4938e-04, 2.9445e-02, 1.1325e-03],\n",
       "        [9.3886e-02, 2.3708e-01, 1.8195e-04, 5.4585e-04, 2.7111e-02, 2.3344e-01,\n",
       "         9.0975e-04, 4.5488e-03, 2.1470e-02, 1.2263e-01, 1.6376e-03, 5.4585e-04,\n",
       "         1.0917e-02, 5.4585e-03, 5.6405e-03, 6.8777e-02, 0.0000e+00, 1.8195e-04,\n",
       "         7.7147e-02, 5.2766e-03, 7.2780e-04, 1.6739e-02, 3.0932e-03, 4.1849e-03,\n",
       "         0.0000e+00, 5.7678e-02, 1.8195e-04],\n",
       "        [1.9503e-01, 3.3247e-02, 5.9247e-03, 7.4916e-03, 1.8802e-02, 6.2234e-02,\n",
       "         4.0151e-03, 6.1206e-03, 7.4426e-03, 4.0053e-02, 2.6930e-03, 8.7157e-03,\n",
       "         1.5904e-01, 3.7654e-02, 1.3098e-01, 1.3171e-02, 4.0640e-03, 6.8550e-04,\n",
       "         9.5872e-02, 4.2158e-02, 2.8399e-02, 3.3785e-03, 2.2671e-02, 2.4482e-03,\n",
       "         6.4633e-03, 5.2392e-02, 8.8626e-03],\n",
       "        [8.8398e-02, 2.6740e-01, 0.0000e+00, 0.0000e+00, 0.0000e+00, 1.3591e-01,\n",
       "         4.8619e-02, 1.1050e-03, 1.1050e-03, 1.7680e-01, 0.0000e+00, 2.2099e-03,\n",
       "         2.2099e-02, 0.0000e+00, 4.4199e-03, 6.6298e-02, 0.0000e+00, 0.0000e+00,\n",
       "         1.2597e-01, 6.6298e-03, 1.9890e-02, 1.1050e-02, 0.0000e+00, 4.4199e-03,\n",
       "         0.0000e+00, 1.5470e-02, 2.2099e-03],\n",
       "        [5.6046e-02, 1.7125e-01, 1.5568e-03, 0.0000e+00, 9.8599e-03, 1.7333e-01,\n",
       "         5.1894e-04, 1.2974e-02, 1.8682e-01, 9.8599e-02, 1.5568e-03, 0.0000e+00,\n",
       "         1.6606e-02, 3.1136e-03, 1.4011e-02, 4.3072e-02, 0.0000e+00, 0.0000e+00,\n",
       "         1.0431e-01, 1.5568e-02, 1.6087e-02, 4.4110e-02, 5.1894e-04, 1.3492e-02,\n",
       "         0.0000e+00, 1.6087e-02, 5.1894e-04],\n",
       "        [3.1631e-01, 2.9464e-01, 1.0504e-03, 2.6261e-04, 3.1513e-03, 8.8498e-02,\n",
       "         2.6261e-04, 2.6261e-04, 1.3130e-04, 9.5720e-02, 1.1817e-03, 3.8078e-03,\n",
       "         2.4291e-02, 1.5362e-02, 1.8120e-02, 3.7684e-02, 1.3130e-04, 1.3130e-04,\n",
       "         2.6786e-02, 4.0704e-03, 9.3225e-03, 2.1796e-02, 5.1208e-03, 1.3130e-03,\n",
       "         0.0000e+00, 2.7967e-02, 2.6261e-03],\n",
       "        [1.4061e-01, 1.3813e-01, 6.2143e-03, 2.8755e-02, 2.4857e-02, 9.3385e-02,\n",
       "         5.7059e-03, 2.4179e-02, 5.3669e-03, 4.6325e-03, 4.2935e-03, 2.5140e-02,\n",
       "         7.5984e-02, 2.4123e-02, 1.2011e-01, 3.3218e-02, 2.9942e-03, 2.9377e-03,\n",
       "         4.7963e-02, 7.4346e-02, 3.0563e-02, 6.1578e-03, 1.5197e-02, 4.5195e-04,\n",
       "         5.0280e-03, 4.4009e-02, 1.5649e-02],\n",
       "        [2.4483e-02, 5.0793e-01, 3.4483e-04, 1.3793e-03, 1.3793e-03, 1.5172e-01,\n",
       "         0.0000e+00, 0.0000e+00, 1.5517e-02, 4.1034e-02, 6.8966e-04, 6.8966e-04,\n",
       "         3.1034e-03, 1.7241e-03, 6.8966e-04, 1.6517e-01, 3.4483e-04, 0.0000e+00,\n",
       "         3.7931e-03, 2.4138e-03, 6.8966e-04, 6.9655e-02, 1.7241e-03, 2.0690e-03,\n",
       "         0.0000e+00, 3.4483e-03, 0.0000e+00],\n",
       "        [7.2024e-02, 3.4345e-01, 3.9683e-04, 3.9683e-04, 3.9683e-04, 1.7758e-01,\n",
       "         1.9841e-04, 0.0000e+00, 6.0913e-02, 1.0099e-01, 3.9683e-04, 3.9683e-03,\n",
       "         2.7579e-02, 1.7857e-03, 5.1587e-03, 6.8254e-02, 0.0000e+00, 0.0000e+00,\n",
       "         2.1627e-02, 1.8849e-02, 3.3730e-03, 9.9206e-03, 3.9683e-04, 6.7460e-03,\n",
       "         0.0000e+00, 7.5198e-02, 3.9683e-04],\n",
       "        [9.4140e-02, 1.8792e-01, 3.7255e-03, 1.7911e-03, 9.8868e-03, 2.0927e-01,\n",
       "         1.5762e-03, 4.2986e-04, 1.3612e-03, 1.7768e-01, 4.2986e-04, 1.7194e-03,\n",
       "         9.6361e-02, 4.2986e-03, 1.0030e-03, 4.9577e-02, 1.0747e-03, 2.1493e-04,\n",
       "         1.2896e-03, 6.7345e-03, 5.5165e-03, 2.3212e-02, 5.1583e-03, 1.1463e-03,\n",
       "         0.0000e+00, 1.1377e-01, 7.1644e-04],\n",
       "        [7.7687e-02, 3.8994e-01, 1.6862e-02, 7.6784e-03, 3.6134e-03, 1.2316e-01,\n",
       "         1.5056e-04, 0.0000e+00, 7.5279e-04, 1.8910e-01, 1.0539e-03, 1.5056e-04,\n",
       "         7.5279e-04, 2.5294e-02, 3.0111e-03, 6.8052e-02, 5.7212e-03, 0.0000e+00,\n",
       "         1.4604e-02, 5.2695e-03, 6.0223e-04, 2.0927e-02, 4.5167e-04, 3.0111e-04,\n",
       "         0.0000e+00, 4.3210e-02, 1.6561e-03],\n",
       "        [3.6902e-01, 1.6244e-01, 4.3651e-04, 1.1622e-02, 3.8413e-02, 7.4153e-02,\n",
       "         6.0021e-04, 1.4896e-02, 1.4187e-03, 9.4123e-02, 2.4008e-03, 3.1647e-03,\n",
       "         1.0640e-02, 1.0367e-03, 1.0400e-01, 2.7064e-02, 2.7282e-04, 1.0913e-04,\n",
       "         2.4008e-03, 1.5169e-02, 2.4172e-02, 5.2382e-03, 3.0010e-03, 6.0021e-04,\n",
       "         3.2739e-04, 2.5372e-02, 7.9118e-03],\n",
       "        [1.0776e-01, 1.8780e-02, 1.7646e-02, 1.4369e-02, 2.3948e-02, 1.6637e-02,\n",
       "         4.2854e-03, 5.5458e-03, 2.1553e-02, 8.6967e-03, 2.0166e-03, 8.5707e-03,\n",
       "         7.8019e-02, 3.2896e-02, 3.0388e-01, 1.4495e-02, 1.1974e-02, 3.7812e-04,\n",
       "         1.3348e-01, 6.3524e-02, 1.4873e-02, 3.4661e-02, 2.2183e-02, 1.4369e-02,\n",
       "         5.6718e-03, 1.2982e-02, 6.8062e-03],\n",
       "        [3.2164e-02, 2.0370e-01, 1.9493e-03, 9.7466e-04, 0.0000e+00, 1.9201e-01,\n",
       "         9.7466e-04, 0.0000e+00, 1.9883e-01, 5.9454e-02, 9.7466e-04, 9.7466e-04,\n",
       "         1.5595e-02, 9.7466e-04, 9.7466e-04, 5.7505e-02, 3.8012e-02, 0.0000e+00,\n",
       "         1.4717e-01, 1.5595e-02, 1.6569e-02, 3.8986e-03, 0.0000e+00, 0.0000e+00,\n",
       "         0.0000e+00, 1.1696e-02, 0.0000e+00],\n",
       "        [1.0294e-01, 4.7794e-02, 0.0000e+00, 0.0000e+00, 0.0000e+00, 3.6765e-03,\n",
       "         0.0000e+00, 0.0000e+00, 0.0000e+00, 4.7794e-02, 0.0000e+00, 0.0000e+00,\n",
       "         3.6765e-03, 7.3529e-03, 0.0000e+00, 7.3529e-03, 0.0000e+00, 0.0000e+00,\n",
       "         3.6765e-03, 7.3529e-03, 0.0000e+00, 7.5735e-01, 0.0000e+00, 1.1029e-02,\n",
       "         0.0000e+00, 0.0000e+00, 0.0000e+00],\n",
       "        [1.0843e-01, 1.8551e-01, 3.2283e-03, 7.7953e-03, 1.4724e-02, 1.3362e-01,\n",
       "         7.0866e-04, 5.9843e-03, 9.5276e-03, 2.3882e-01, 1.9685e-03, 7.0866e-03,\n",
       "         3.2520e-02, 1.2756e-02, 1.1024e-02, 6.8425e-02, 1.1024e-03, 1.2598e-03,\n",
       "         3.3465e-02, 1.4961e-02, 1.6378e-02, 1.9843e-02, 6.2992e-03, 1.6535e-03,\n",
       "         2.3622e-04, 6.0866e-02, 1.8110e-03],\n",
       "        [1.4421e-01, 1.4816e-01, 2.5907e-03, 7.4019e-03, 1.1103e-03, 1.0906e-01,\n",
       "         2.4673e-04, 2.4673e-04, 1.5852e-01, 8.4382e-02, 2.4673e-04, 1.0116e-02,\n",
       "         3.4419e-02, 1.1103e-02, 2.9608e-03, 6.5507e-02, 6.2916e-03, 1.2337e-04,\n",
       "         6.7851e-03, 5.6871e-02, 9.4375e-02, 2.2823e-02, 1.7271e-03, 2.9608e-03,\n",
       "         0.0000e+00, 2.6524e-02, 1.2337e-03],\n",
       "        [8.6715e-02, 1.8438e-01, 1.7953e-04, 3.0521e-03, 0.0000e+00, 1.2855e-01,\n",
       "         3.5907e-04, 3.5907e-04, 1.1616e-01, 9.5512e-02, 5.3860e-04, 0.0000e+00,\n",
       "         2.4057e-02, 7.1813e-04, 3.9497e-03, 1.1975e-01, 0.0000e+00, 0.0000e+00,\n",
       "         6.3196e-02, 6.2837e-03, 6.7145e-02, 1.4004e-02, 2.6930e-03, 1.9749e-03,\n",
       "         3.5907e-04, 6.1221e-02, 1.8851e-02],\n",
       "        [4.9442e-02, 5.1994e-02, 3.2855e-02, 3.2855e-02, 4.3381e-02, 5.3907e-02,\n",
       "         6.0606e-03, 1.4992e-02, 1.8501e-02, 3.8596e-02, 4.4657e-03, 2.9665e-02,\n",
       "         9.6013e-02, 4.9123e-02, 8.7719e-02, 3.1898e-03, 5.1037e-03, 3.1898e-03,\n",
       "         1.3206e-01, 1.5120e-01, 2.6156e-02, 9.5694e-04, 1.1802e-02, 2.7432e-02,\n",
       "         1.0845e-02, 4.1467e-03, 1.4354e-02],\n",
       "        [3.4201e-02, 2.4951e-01, 3.8865e-04, 0.0000e+00, 3.8865e-04, 2.2075e-01,\n",
       "         0.0000e+00, 0.0000e+00, 3.8865e-04, 3.5406e-01, 0.0000e+00, 1.1660e-03,\n",
       "         5.4411e-03, 0.0000e+00, 3.1092e-03, 5.9464e-02, 0.0000e+00, 0.0000e+00,\n",
       "         1.8655e-02, 0.0000e+00, 0.0000e+00, 2.7206e-03, 2.7206e-03, 0.0000e+00,\n",
       "         0.0000e+00, 4.7027e-02, 0.0000e+00],\n",
       "        [5.4898e-02, 3.0140e-01, 1.0764e-03, 0.0000e+00, 8.6114e-03, 1.6039e-01,\n",
       "         2.1529e-03, 1.0764e-03, 2.4758e-02, 1.5931e-01, 0.0000e+00, 6.4586e-03,\n",
       "         1.3994e-02, 2.1529e-03, 6.2433e-02, 3.8751e-02, 0.0000e+00, 0.0000e+00,\n",
       "         2.3681e-02, 2.1529e-02, 8.6114e-03, 2.6911e-02, 0.0000e+00, 2.1529e-03,\n",
       "         0.0000e+00, 7.8579e-02, 1.0764e-03],\n",
       "        [2.3529e-01, 1.4778e-01, 1.4347e-03, 5.7389e-03, 7.1736e-03, 5.1650e-02,\n",
       "         4.3042e-03, 0.0000e+00, 1.4347e-03, 1.4634e-01, 0.0000e+00, 0.0000e+00,\n",
       "         5.5954e-02, 1.4347e-03, 1.4347e-03, 5.8824e-02, 0.0000e+00, 0.0000e+00,\n",
       "         0.0000e+00, 4.4476e-02, 1.0043e-01, 7.1736e-03, 0.0000e+00, 4.3042e-03,\n",
       "         5.4519e-02, 4.3042e-02, 2.7260e-02],\n",
       "        [2.0530e-01, 2.1921e-01, 2.7619e-03, 1.1764e-02, 2.7823e-02, 3.0790e-02,\n",
       "         1.2275e-03, 3.0687e-03, 2.2504e-03, 1.9640e-02, 2.3527e-03, 8.7971e-03,\n",
       "         1.1293e-01, 1.5139e-02, 1.8678e-01, 2.7721e-02, 1.5344e-03, 6.1375e-04,\n",
       "         2.9767e-02, 4.1019e-02, 1.0638e-02, 1.4423e-02, 1.0843e-02, 4.0917e-04,\n",
       "         2.8642e-03, 2.3527e-03, 7.9787e-03],\n",
       "        [6.6722e-02, 3.5863e-01, 1.6681e-03, 8.3403e-04, 8.3403e-04, 1.5555e-01,\n",
       "         0.0000e+00, 4.1701e-04, 1.7932e-02, 1.5179e-01, 8.3403e-04, 8.3403e-04,\n",
       "         5.1293e-02, 1.4595e-02, 1.6681e-03, 4.5872e-02, 8.3403e-04, 0.0000e+00,\n",
       "         1.3344e-02, 1.6681e-03, 1.6681e-03, 3.0442e-02, 8.3403e-04, 1.2510e-03,\n",
       "         4.1701e-04, 6.1301e-02, 1.8766e-02]])"
      ]
     },
     "execution_count": 15,
     "metadata": {},
     "output_type": "execute_result"
    }
   ],
   "execution_count": 15
  },
  {
   "metadata": {
    "ExecuteTime": {
     "end_time": "2025-06-09T08:59:55.523223Z",
     "start_time": "2025-06-09T08:59:55.518430Z"
    }
   },
   "cell_type": "code",
   "source": [
    "for i in range(5):\n",
    "    ix = 0\n",
    "    out = []\n",
    "    while True:\n",
    "        ix = torch.multinomial(Pbi[ix], 1, True).item()\n",
    "        if ix == 0:\n",
    "            break\n",
    "        out.append(itos[ix])\n",
    "    print(*out, sep=\"\")"
   ],
   "id": "1491394fdfb622db",
   "outputs": [
    {
     "name": "stdout",
     "output_type": "stream",
     "text": [
      "b\n",
      "celiannndavoli\n",
      "fregria\n",
      "di\n",
      "ndanngeiliyndorilyntousian\n"
     ]
    }
   ],
   "execution_count": 16
  },
  {
   "metadata": {
    "ExecuteTime": {
     "end_time": "2025-06-09T08:59:55.591226Z",
     "start_time": "2025-06-09T08:59:55.586740Z"
    }
   },
   "cell_type": "code",
   "source": "Pbi[0]",
   "id": "d2fbf20f372852a1",
   "outputs": [
    {
     "data": {
      "text/plain": [
       "tensor([0.0000, 0.1377, 0.0408, 0.0481, 0.0528, 0.0478, 0.0130, 0.0209, 0.0273,\n",
       "        0.0184, 0.0756, 0.0925, 0.0491, 0.0792, 0.0358, 0.0123, 0.0161, 0.0029,\n",
       "        0.0512, 0.0642, 0.0408, 0.0024, 0.0117, 0.0096, 0.0042, 0.0167, 0.0290])"
      ]
     },
     "execution_count": 17,
     "metadata": {},
     "output_type": "execute_result"
    }
   ],
   "execution_count": 17
  },
  {
   "metadata": {
    "ExecuteTime": {
     "end_time": "2025-06-09T08:59:55.847932Z",
     "start_time": "2025-06-09T08:59:55.627965Z"
    }
   },
   "cell_type": "code",
   "source": [
    "# loss\n",
    "nll = 0.\n",
    "n = 0\n",
    "for w in words_dev:\n",
    "    word = \".\" + w + \".\"\n",
    "    for ch1, ch2 in zip(word, word[1:]):\n",
    "        probs = Pbi[stoi[ch1], stoi[ch2]]\n",
    "        nll += -probs.log()\n",
    "        n += 1\n",
    "print(f\"{nll=}, {nll/n}\")"
   ],
   "id": "253996cca68723b4",
   "outputs": [
    {
     "name": "stdout",
     "output_type": "stream",
     "text": [
      "nll=tensor(112125.4297), 2.460023880004883\n"
     ]
    }
   ],
   "execution_count": 18
  },
  {
   "metadata": {},
   "cell_type": "markdown",
   "source": [
    "## Single Neuron Prediction\n",
    "Bi-gram"
   ],
   "id": "b78900eeebf60343"
  },
  {
   "metadata": {
    "ExecuteTime": {
     "end_time": "2025-06-09T08:59:55.944467Z",
     "start_time": "2025-06-09T08:59:55.873984Z"
    }
   },
   "cell_type": "code",
   "source": [
    "xs, ys = [], []\n",
    "for w in words:\n",
    "    word = '.' + w + '.'\n",
    "    for x, y in zip(word, word[1:]):\n",
    "        xs.append(stoi[x])\n",
    "        ys.append(stoi[y])\n",
    "xs[:5], ys[:5]"
   ],
   "id": "660876cef374007b",
   "outputs": [
    {
     "data": {
      "text/plain": [
       "([0, 5, 13, 13, 1], [5, 13, 13, 1, 0])"
      ]
     },
     "execution_count": 19,
     "metadata": {},
     "output_type": "execute_result"
    }
   ],
   "execution_count": 19
  },
  {
   "metadata": {
    "ExecuteTime": {
     "end_time": "2025-06-09T08:59:56.018867Z",
     "start_time": "2025-06-09T08:59:55.969509Z"
    }
   },
   "cell_type": "code",
   "source": [
    "import torch.nn.functional as F\n",
    "\n",
    "xenc = F.one_hot(torch.tensor(xs), num_classes=27).float()\n",
    "xenc.dtype"
   ],
   "id": "2b37e45d6c6fc3d",
   "outputs": [
    {
     "data": {
      "text/plain": [
       "torch.float32"
      ]
     },
     "execution_count": 20,
     "metadata": {},
     "output_type": "execute_result"
    }
   ],
   "execution_count": 20
  },
  {
   "metadata": {
    "ExecuteTime": {
     "end_time": "2025-06-09T08:59:56.052025Z",
     "start_time": "2025-06-09T08:59:56.047132Z"
    }
   },
   "cell_type": "code",
   "source": [
    "W = torch.randn((27, 27), requires_grad=True)\n",
    "W.shape"
   ],
   "id": "ac8dddfde49c2613",
   "outputs": [
    {
     "data": {
      "text/plain": [
       "torch.Size([27, 27])"
      ]
     },
     "execution_count": 21,
     "metadata": {},
     "output_type": "execute_result"
    }
   ],
   "execution_count": 21
  },
  {
   "metadata": {
    "ExecuteTime": {
     "end_time": "2025-06-09T08:59:57.359966Z",
     "start_time": "2025-06-09T08:59:56.087860Z"
    }
   },
   "cell_type": "code",
   "source": [
    "for i in range(20):\n",
    "    logits = xenc @ W\n",
    "    counts = logits.exp()\n",
    "    probs = counts / counts.sum(1, keepdim=True)\n",
    "\n",
    "    loss = -probs[torch.arange(len(xs)), ys].log().mean()\n",
    "    print(i+1, loss.item(), sep=\": \")\n",
    "\n",
    "    W.grad = None\n",
    "    loss.backward()\n",
    "    W.data -= 50 * W.grad\n"
   ],
   "id": "c93fed78d697694c",
   "outputs": [
    {
     "name": "stdout",
     "output_type": "stream",
     "text": [
      "1: 3.7587890625\n",
      "2: 3.3684871196746826\n",
      "3: 3.1410071849823\n",
      "4: 2.9991495609283447\n",
      "5: 2.906064748764038\n",
      "6: 2.8384482860565186\n",
      "7: 2.7865843772888184\n",
      "8: 2.746225118637085\n",
      "9: 2.714401960372925\n",
      "10: 2.688873529434204\n",
      "11: 2.667987108230591\n",
      "12: 2.650566339492798\n",
      "13: 2.635784149169922\n",
      "14: 2.623053550720215\n",
      "15: 2.6119534969329834\n",
      "16: 2.602174997329712\n",
      "17: 2.5934886932373047\n",
      "18: 2.5857198238372803\n",
      "19: 2.578731060028076\n",
      "20: 2.5724141597747803\n"
     ]
    }
   ],
   "execution_count": 22
  },
  {
   "metadata": {
    "ExecuteTime": {
     "end_time": "2025-06-09T08:59:57.392921Z",
     "start_time": "2025-06-09T08:59:57.387208Z"
    }
   },
   "cell_type": "code",
   "source": [
    "g = torch.Generator().manual_seed(2147483647)\n",
    "\n",
    "out = [\".\"]\n",
    "while True:\n",
    "    ix = stoi[out[-1]]\n",
    "    x = F.one_hot(torch.tensor([ix]), num_classes=27).float()\n",
    "    logits = x @ W\n",
    "    count = logits.exp()\n",
    "    prob = count / count.sum(1, keepdim=True)\n",
    "    pred = prob.multinomial(num_samples=1, replacement=True, generator=g)\n",
    "    out.append(itos[pred.item()])\n",
    "    if out[-1] == \".\":\n",
    "        break\n",
    "print(*out, sep=\"\")"
   ],
   "id": "2eefb7c3431600fd",
   "outputs": [
    {
     "name": "stdout",
     "output_type": "stream",
     "text": [
      ".cexza.\n"
     ]
    }
   ],
   "execution_count": 23
  },
  {
   "metadata": {},
   "cell_type": "markdown",
   "source": "Tri-gram",
   "id": "58d596d8b717ca01"
  },
  {
   "metadata": {
    "ExecuteTime": {
     "end_time": "2025-06-09T08:59:57.427851Z",
     "start_time": "2025-06-09T08:59:57.424035Z"
    }
   },
   "cell_type": "code",
   "source": [
    "sstoi = {}\n",
    "\n",
    "n = 0\n",
    "for i in range(27):\n",
    "    for j in range(27):\n",
    "        sstoi[(i, j)] = n\n",
    "        n += 1"
   ],
   "id": "816495a00558c731",
   "outputs": [],
   "execution_count": 24
  },
  {
   "metadata": {
    "ExecuteTime": {
     "end_time": "2025-06-09T08:59:57.557796Z",
     "start_time": "2025-06-09T08:59:57.457744Z"
    }
   },
   "cell_type": "code",
   "source": [
    "xss = []\n",
    "ys = []\n",
    "\n",
    "for w in words:\n",
    "    word = \"..\" + w + \".\"\n",
    "    for c1, c2, c3 in zip(word, word[1:], word[2:]):\n",
    "        xss.append(sstoi[(stoi[c1], stoi[c2])])\n",
    "        ys.append(stoi[c3])"
   ],
   "id": "5dc6594d1a27789",
   "outputs": [],
   "execution_count": 25
  },
  {
   "metadata": {
    "ExecuteTime": {
     "end_time": "2025-06-09T08:59:58.304711Z",
     "start_time": "2025-06-09T08:59:57.586055Z"
    }
   },
   "cell_type": "code",
   "source": [
    "xs = F.one_hot(torch.tensor(xss), num_classes=n).float()\n",
    "W = torch.randn([729, 27], requires_grad=True)"
   ],
   "id": "32e28d0854127d38",
   "outputs": [],
   "execution_count": 26
  },
  {
   "metadata": {
    "ExecuteTime": {
     "end_time": "2025-06-09T08:59:59.822210Z",
     "start_time": "2025-06-09T08:59:58.341249Z"
    }
   },
   "cell_type": "code",
   "source": [
    "\n",
    "for i in range(10):\n",
    "    logits = xs @ W\n",
    "    counts = logits.exp()\n",
    "    probs = counts / counts.sum(1, keepdim=True)\n",
    "\n",
    "    loss = -probs[torch.arange(len(xs)), ys].log().mean()\n",
    "    print(i, loss, sep=\": \")\n",
    "    W.grad = None\n",
    "    loss.backward()\n",
    "    W.data -= 50 * W.grad\n"
   ],
   "id": "2d56a5a1f798ece4",
   "outputs": [
    {
     "name": "stdout",
     "output_type": "stream",
     "text": [
      "0: tensor(3.8173, grad_fn=<NegBackward0>)\n",
      "1: tensor(3.6971, grad_fn=<NegBackward0>)\n",
      "2: tensor(3.6055, grad_fn=<NegBackward0>)\n",
      "3: tensor(3.5318, grad_fn=<NegBackward0>)\n",
      "4: tensor(3.4720, grad_fn=<NegBackward0>)\n",
      "5: tensor(3.4207, grad_fn=<NegBackward0>)\n",
      "6: tensor(3.3742, grad_fn=<NegBackward0>)\n",
      "7: tensor(3.3316, grad_fn=<NegBackward0>)\n",
      "8: tensor(3.2924, grad_fn=<NegBackward0>)\n",
      "9: tensor(3.2562, grad_fn=<NegBackward0>)\n"
     ]
    }
   ],
   "execution_count": 27
  },
  {
   "metadata": {
    "ExecuteTime": {
     "end_time": "2025-06-09T08:59:59.860961Z",
     "start_time": "2025-06-09T08:59:59.857843Z"
    }
   },
   "cell_type": "code",
   "source": "out = [\".\", \".\"]",
   "id": "f3f8eaaaaa398373",
   "outputs": [],
   "execution_count": 28
  },
  {
   "metadata": {
    "ExecuteTime": {
     "end_time": "2025-06-09T08:59:59.891442Z",
     "start_time": "2025-06-09T08:59:59.887898Z"
    }
   },
   "cell_type": "code",
   "source": "xs.shape",
   "id": "96c4453649e24c78",
   "outputs": [
    {
     "data": {
      "text/plain": [
       "torch.Size([228146, 729])"
      ]
     },
     "execution_count": 29,
     "metadata": {},
     "output_type": "execute_result"
    }
   ],
   "execution_count": 29
  },
  {
   "metadata": {
    "ExecuteTime": {
     "end_time": "2025-06-09T08:59:59.932076Z",
     "start_time": "2025-06-09T08:59:59.927724Z"
    }
   },
   "cell_type": "code",
   "source": [
    "t = torch.tensor([[1, 2, 3], [12, 13, 14]])\n",
    "s = torch.tensor([[1, 2], [2, 3], [3, 4]])\n",
    "t @ s"
   ],
   "id": "f8b2c41941148aa3",
   "outputs": [
    {
     "data": {
      "text/plain": [
       "tensor([[ 14,  20],\n",
       "        [ 80, 119]])"
      ]
     },
     "execution_count": 30,
     "metadata": {},
     "output_type": "execute_result"
    }
   ],
   "execution_count": 30
  },
  {
   "metadata": {
    "ExecuteTime": {
     "end_time": "2025-06-09T09:00:00.031392Z",
     "start_time": "2025-06-09T09:00:00.024620Z"
    }
   },
   "cell_type": "code",
   "source": [
    "out = ['.', '.']\n",
    "while True:\n",
    "    ix = sstoi[(stoi[out[-2]], stoi[out[-1]])]\n",
    "    x = F.one_hot(torch.tensor([ix]), num_classes=n).float()\n",
    "    logits = x @ W\n",
    "    count = logits.exp()\n",
    "    probs = count / count.sum(1, keepdim=True)\n",
    "    pred = probs.multinomial(1, True).item()\n",
    "    out.append(itos[pred])\n",
    "    if out[-1] == '.':\n",
    "        break\n",
    "print(*out, sep=\"\")"
   ],
   "id": "d5deceb6b7a52071",
   "outputs": [
    {
     "name": "stdout",
     "output_type": "stream",
     "text": [
      "..cqdnkofkjnlqiwdwmje.\n"
     ]
    }
   ],
   "execution_count": 31
  },
  {
   "metadata": {},
   "cell_type": "markdown",
   "source": [
    "### 1x54 approach\n",
    "TODO"
   ],
   "id": "ed082d66b76194c"
  },
  {
   "metadata": {
    "ExecuteTime": {
     "end_time": "2025-06-09T11:12:48.169060Z",
     "start_time": "2025-06-09T11:12:48.160540Z"
    }
   },
   "cell_type": "code",
   "source": [
    "xs = []\n",
    "ys = []\n",
    "for w in words:\n",
    "    word = \"..\" + w + \".\"\n",
    "    for c1, c2, c3 in zip(word, word[1:], word[2:]):\n",
    "        ys.append(stoi[c3])\n",
    "        x1 = list(F.one_hot(torch.tensor(stoi[c1]), num_classes=27).data)\n",
    "        x1.extend(list(F.one_hot(torch.tensor(stoi[c2]), num_classes=27).data))\n",
    "        xs.append(x1)\n",
    "        print(len(xs[len(xs)-1]))\n",
    "    break\n",
    "\n",
    "# print(xs[0])\n",
    "# xs_f = torch.tensor([xs])\n",
    "ys = torch.tensor(ys)\n",
    "xs = torch.tensor([xs]).float()\n",
    "xs_f[:5], ys[:5]"
   ],
   "id": "55c61cd66ae6dab2",
   "outputs": [
    {
     "name": "stdout",
     "output_type": "stream",
     "text": [
      "54\n",
      "54\n",
      "54\n",
      "54\n",
      "54\n"
     ]
    },
    {
     "data": {
      "text/plain": [
       "(tensor([[2, 0, 0, 0, 0, 0, 0, 0, 0, 0, 0, 0, 0, 0, 0, 0, 0, 0, 0, 0, 0, 0, 0, 0,\n",
       "          0, 0, 0],\n",
       "         [1, 0, 0, 0, 0, 1, 0, 0, 0, 0, 0, 0, 0, 0, 0, 0, 0, 0, 0, 0, 0, 0, 0, 0,\n",
       "          0, 0, 0],\n",
       "         [0, 0, 0, 0, 0, 1, 0, 0, 0, 0, 0, 0, 0, 1, 0, 0, 0, 0, 0, 0, 0, 0, 0, 0,\n",
       "          0, 0, 0],\n",
       "         [0, 0, 0, 0, 0, 0, 0, 0, 0, 0, 0, 0, 0, 2, 0, 0, 0, 0, 0, 0, 0, 0, 0, 0,\n",
       "          0, 0, 0],\n",
       "         [0, 1, 0, 0, 0, 0, 0, 0, 0, 0, 0, 0, 0, 1, 0, 0, 0, 0, 0, 0, 0, 0, 0, 0,\n",
       "          0, 0, 0]]),\n",
       " tensor([ 5, 13, 13,  1,  0]))"
      ]
     },
     "execution_count": 86,
     "metadata": {},
     "output_type": "execute_result"
    }
   ],
   "execution_count": 86
  },
  {
   "metadata": {
    "ExecuteTime": {
     "end_time": "2025-06-09T11:12:48.372343Z",
     "start_time": "2025-06-09T11:12:48.368541Z"
    }
   },
   "cell_type": "code",
   "source": "x1[:5]",
   "id": "89ab5a1a6bcfed07",
   "outputs": [
    {
     "data": {
      "text/plain": [
       "[tensor(0), tensor(0), tensor(0), tensor(0), tensor(0)]"
      ]
     },
     "execution_count": 87,
     "metadata": {},
     "output_type": "execute_result"
    }
   ],
   "execution_count": 87
  },
  {
   "metadata": {},
   "cell_type": "markdown",
   "source": [
    "x1 -> 27\n",
    "\n",
    "x2 -> 27\n",
    "\n",
    "x1 + x2 -> 54\n",
    "\n",
    "[[54], [54], ...]"
   ],
   "id": "a54250b372fb5e2"
  },
  {
   "metadata": {
    "ExecuteTime": {
     "end_time": "2025-06-09T11:12:48.988526Z",
     "start_time": "2025-06-09T11:12:48.985678Z"
    }
   },
   "cell_type": "code",
   "source": "W = torch.randn((54, 27), requires_grad=True)",
   "id": "98d3115cacd67723",
   "outputs": [],
   "execution_count": 88
  },
  {
   "metadata": {
    "ExecuteTime": {
     "end_time": "2025-06-09T11:13:10.523942Z",
     "start_time": "2025-06-09T11:13:10.513624Z"
    }
   },
   "cell_type": "code",
   "source": [
    "for i in range(20):\n",
    "    logits = xs @ W\n",
    "    counts = logits.exp()\n",
    "    probs = counts / counts.sum(1, keepdim=True)\n",
    "\n",
    "    loss = -probs.log().mean()\n",
    "    print(i+1, loss, sep=\": \")\n",
    "\n",
    "\n",
    "    W.grad = None\n",
    "    loss.backward()\n",
    "    W.data -= 15 * W.grad"
   ],
   "id": "8deaf1fda824b240",
   "outputs": [
    {
     "name": "stdout",
     "output_type": "stream",
     "text": [
      "1: tensor(1.6094, grad_fn=<NegBackward0>)\n",
      "2: tensor(1.6094, grad_fn=<NegBackward0>)\n",
      "3: tensor(1.6094, grad_fn=<NegBackward0>)\n",
      "4: tensor(1.6094, grad_fn=<NegBackward0>)\n",
      "5: tensor(1.6094, grad_fn=<NegBackward0>)\n",
      "6: tensor(1.6094, grad_fn=<NegBackward0>)\n",
      "7: tensor(1.6094, grad_fn=<NegBackward0>)\n",
      "8: tensor(1.6094, grad_fn=<NegBackward0>)\n",
      "9: tensor(1.6094, grad_fn=<NegBackward0>)\n",
      "10: tensor(1.6094, grad_fn=<NegBackward0>)\n",
      "11: tensor(1.6094, grad_fn=<NegBackward0>)\n",
      "12: tensor(1.6094, grad_fn=<NegBackward0>)\n",
      "13: tensor(1.6094, grad_fn=<NegBackward0>)\n",
      "14: tensor(1.6094, grad_fn=<NegBackward0>)\n",
      "15: tensor(1.6094, grad_fn=<NegBackward0>)\n",
      "16: tensor(1.6094, grad_fn=<NegBackward0>)\n",
      "17: tensor(1.6094, grad_fn=<NegBackward0>)\n",
      "18: tensor(1.6094, grad_fn=<NegBackward0>)\n",
      "19: tensor(1.6094, grad_fn=<NegBackward0>)\n",
      "20: tensor(1.6094, grad_fn=<NegBackward0>)\n"
     ]
    }
   ],
   "execution_count": 92
  },
  {
   "metadata": {
    "ExecuteTime": {
     "end_time": "2025-06-09T09:06:40.058815Z",
     "start_time": "2025-06-09T09:06:40.056640Z"
    }
   },
   "cell_type": "code",
   "source": [
    "# tester\n",
    "\n",
    "for w in words:\n",
    "    word = \"..\" + w + \".\"\n",
    "    for c1, c2, c3 in zip(word, word[1:], word[2:]):\n",
    "        x = []\n",
    "\n",
    "    break\n",
    "\n"
   ],
   "id": "f629b37b8bfb5d74",
   "outputs": [],
   "execution_count": null
  },
  {
   "metadata": {},
   "cell_type": "code",
   "outputs": [],
   "execution_count": null,
   "source": "",
   "id": "aef85c5b55c33bdf"
  }
 ],
 "metadata": {
  "kernelspec": {
   "display_name": "Python 3",
   "language": "python",
   "name": "python3"
  },
  "language_info": {
   "codemirror_mode": {
    "name": "ipython",
    "version": 2
   },
   "file_extension": ".py",
   "mimetype": "text/x-python",
   "name": "python",
   "nbconvert_exporter": "python",
   "pygments_lexer": "ipython2",
   "version": "2.7.6"
  }
 },
 "nbformat": 4,
 "nbformat_minor": 5
}
