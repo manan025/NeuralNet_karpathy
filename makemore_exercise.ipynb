{
 "cells": [
  {
   "metadata": {},
   "cell_type": "markdown",
   "source": "# E01",
   "id": "9821fd641ad7db1a"
  },
  {
   "metadata": {},
   "cell_type": "markdown",
   "source": [
    "## Approach\n",
    "Find ix given the last two characters."
   ],
   "id": "12d4acc1cd2266dc"
  },
  {
   "cell_type": "code",
   "id": "initial_id",
   "metadata": {
    "collapsed": true,
    "ExecuteTime": {
     "end_time": "2025-06-12T15:31:51.228641Z",
     "start_time": "2025-06-12T15:31:49.065505Z"
    }
   },
   "source": [
    "from operator import concat\n",
    "\n",
    "import torch"
   ],
   "outputs": [],
   "execution_count": 1
  },
  {
   "metadata": {
    "ExecuteTime": {
     "end_time": "2025-06-12T15:31:51.247476Z",
     "start_time": "2025-06-12T15:31:51.241908Z"
    }
   },
   "cell_type": "code",
   "source": [
    "words = list(open('names.txt', 'r').read().splitlines())\n",
    "words[:3]"
   ],
   "id": "c873c3efd97d5c9f",
   "outputs": [
    {
     "data": {
      "text/plain": [
       "['emma', 'olivia', 'ava']"
      ]
     },
     "execution_count": 2,
     "metadata": {},
     "output_type": "execute_result"
    }
   ],
   "execution_count": 2
  },
  {
   "metadata": {
    "ExecuteTime": {
     "end_time": "2025-06-12T15:31:51.331113Z",
     "start_time": "2025-06-12T15:31:51.324303Z"
    }
   },
   "cell_type": "code",
   "source": [
    "l = ['.'] + sorted(set(i for w in words for i in w))\n",
    "stoi = {s: i for i, s in enumerate(l)}\n",
    "itos = {i: s for i, s in enumerate(l)}"
   ],
   "id": "d75349ea7b7c5010",
   "outputs": [],
   "execution_count": 3
  },
  {
   "metadata": {
    "ExecuteTime": {
     "end_time": "2025-06-12T15:31:51.393056Z",
     "start_time": "2025-06-12T15:31:51.340247Z"
    }
   },
   "cell_type": "code",
   "source": [
    "# E02\n",
    "idx = torch.randint(high=len(words), size=(len(words),))\n",
    "split_test = int(.8 * len(words))\n",
    "idx_test = idx[:split_test]\n",
    "idx_dev = idx[split_test: ]\n",
    "\n",
    "words_test = [words[i] for i in idx_test]\n",
    "words_dev = [words[i] for i in idx_dev]\n"
   ],
   "id": "392c2e1b7f28f9c8",
   "outputs": [],
   "execution_count": 4
  },
  {
   "metadata": {
    "ExecuteTime": {
     "end_time": "2025-06-12T15:31:52.259987Z",
     "start_time": "2025-06-12T15:31:51.482160Z"
    }
   },
   "cell_type": "code",
   "source": [
    "N = torch.zeros([27, 27, 27], dtype=torch.int32)\n",
    "for w in words_test:\n",
    "    word = \"..\" + w + \".\"\n",
    "    for c1, c2, c3 in zip(word, word[1:], word[2:]):\n",
    "        N[stoi[c1], stoi[c2], stoi[c3]] += 1\n",
    "N"
   ],
   "id": "e113af3e8dc4d6a",
   "outputs": [
    {
     "data": {
      "text/plain": [
       "tensor([[[   0, 3461, 1041,  ...,  103,  423,  739],\n",
       "         [   0,  159,  160,  ...,   18,  153,  122],\n",
       "         [   0,  125,    0,  ...,    0,    4,    0],\n",
       "         ...,\n",
       "         [   0,   40,    0,  ...,    1,   16,   10],\n",
       "         [   0,  178,    0,  ...,    0,    0,    1],\n",
       "         [   0,  353,    0,  ...,    0,   72,    0]],\n",
       "\n",
       "        [[   0,    0,    0,  ...,    0,    0,    0],\n",
       "         [  25,    0,    3,  ...,    0,   18,   10],\n",
       "         [  28,   21,   11,  ...,    0,   13,    0],\n",
       "         ...,\n",
       "         [   7,    6,    0,  ...,   13,    4,    2],\n",
       "         [ 121,  335,   11,  ...,    0,   10,   23],\n",
       "         [  29,   90,    0,  ...,    0,   15,   16]],\n",
       "\n",
       "        [[   0,    0,    0,  ...,    0,    0,    0],\n",
       "         [  45,    3,    7,  ...,    3,   23,    4],\n",
       "         [   1,    5,    0,  ...,    0,    4,    0],\n",
       "         ...,\n",
       "         [   0,    0,    0,  ...,    0,    0,    0],\n",
       "         [  39,    6,    2,  ...,    0,    0,    0],\n",
       "         [   0,    0,    0,  ...,    0,    0,    0]],\n",
       "\n",
       "        ...,\n",
       "\n",
       "        [[   0,    0,    0,  ...,    0,    0,    0],\n",
       "         [   7,    0,    0,  ...,    0,    9,    0],\n",
       "         [   0,    0,    0,  ...,    0,    0,    0],\n",
       "         ...,\n",
       "         [   9,    1,    0,  ...,    0,    3,    0],\n",
       "         [   4,    5,    0,  ...,    0,    0,    0],\n",
       "         [   0,   16,    0,  ...,    0,    0,    0]],\n",
       "\n",
       "        [[   0,    0,    0,  ...,    0,    0,    0],\n",
       "         [ 576,   39,    7,  ...,    2,    8,    9],\n",
       "         [   2,    1,    0,  ...,    0,    0,    0],\n",
       "         ...,\n",
       "         [  30,    0,    0,  ...,    1,    0,    0],\n",
       "         [   0,   16,    0,  ...,    0,    0,    0],\n",
       "         [   2,   17,    0,  ...,    0,    0,    0]],\n",
       "\n",
       "        [[   0,    0,    0,  ...,    0,    0,    0],\n",
       "         [  72,   12,   36,  ...,    2,   79,    5],\n",
       "         [   0,    0,    0,  ...,    0,    0,    0],\n",
       "         ...,\n",
       "         [   0,    0,    0,  ...,    0,    0,    0],\n",
       "         [  26,   29,    0,  ...,    0,    0,    0],\n",
       "         [   2,   14,    0,  ...,    0,    4,    0]]], dtype=torch.int32)"
      ]
     },
     "execution_count": 5,
     "metadata": {},
     "output_type": "execute_result"
    }
   ],
   "execution_count": 5
  },
  {
   "metadata": {
    "ExecuteTime": {
     "end_time": "2025-06-12T15:31:52.277204Z",
     "start_time": "2025-06-12T15:31:52.274627Z"
    }
   },
   "cell_type": "code",
   "source": "N.shape",
   "id": "c7c9e5ba079d5e1",
   "outputs": [
    {
     "data": {
      "text/plain": [
       "torch.Size([27, 27, 27])"
      ]
     },
     "execution_count": 6,
     "metadata": {},
     "output_type": "execute_result"
    }
   ],
   "execution_count": 6
  },
  {
   "metadata": {
    "ExecuteTime": {
     "end_time": "2025-06-12T15:31:52.335761Z",
     "start_time": "2025-06-12T15:31:52.329290Z"
    }
   },
   "cell_type": "code",
   "source": [
    "N += 1\n",
    "P = N.float()\n",
    "P /= P.sum(2, keepdim=True)\n",
    "P[0]"
   ],
   "id": "eb584a3d02519847",
   "outputs": [
    {
     "data": {
      "text/plain": [
       "tensor([[3.8982e-05, 1.3495e-01, 4.0619e-02, 4.8104e-02, 5.2976e-02, 4.9234e-02,\n",
       "         1.2084e-02, 2.1596e-02, 2.6975e-02, 1.9530e-02, 7.5118e-02, 9.2270e-02,\n",
       "         4.7363e-02, 7.9250e-02, 3.5551e-02, 1.2864e-02, 1.6567e-02, 2.7677e-03,\n",
       "         5.1924e-02, 6.5567e-02, 3.9644e-02, 2.6508e-03, 1.2435e-02, 1.0486e-02,\n",
       "         4.0541e-03, 1.6528e-02, 2.8847e-02],\n",
       "        [2.8670e-04, 4.5872e-02, 4.6158e-02, 5.4472e-03, 8.3142e-02, 9.7477e-03,\n",
       "         4.0138e-03, 3.7271e-03, 2.0929e-02, 3.5550e-02, 6.0206e-03, 1.6628e-02,\n",
       "         1.4106e-01, 7.7408e-02, 1.3303e-01, 2.5803e-03, 4.0138e-03, 2.2936e-03,\n",
       "         1.1095e-01, 5.5333e-02, 1.5768e-02, 3.8417e-02, 5.4759e-02, 2.0069e-03,\n",
       "         5.4472e-03, 4.4151e-02, 3.5264e-02],\n",
       "        [9.3633e-04, 1.1798e-01, 9.3633e-04, 9.3633e-04, 9.3633e-04, 1.9101e-01,\n",
       "         9.3633e-04, 9.3633e-04, 8.4270e-03, 2.9026e-02, 1.8727e-03, 9.3633e-04,\n",
       "         6.7416e-02, 9.3633e-04, 9.3633e-04, 5.6180e-02, 9.3633e-04, 9.3633e-04,\n",
       "         4.8596e-01, 9.3633e-04, 9.3633e-04, 2.1536e-02, 9.3633e-04, 9.3633e-04,\n",
       "         9.3633e-04, 4.6816e-03, 9.3633e-04],\n",
       "        [7.9365e-04, 4.0238e-01, 7.9365e-04, 7.9365e-04, 7.9365e-04, 3.9683e-02,\n",
       "         7.9365e-04, 7.9365e-04, 2.2937e-01, 2.6190e-02, 7.9365e-04, 7.9365e-04,\n",
       "         3.9683e-02, 7.9365e-04, 7.9365e-04, 1.7222e-01, 7.9365e-04, 7.9365e-04,\n",
       "         3.5714e-02, 7.9365e-04, 7.9365e-04, 8.7302e-03, 7.9365e-04, 7.9365e-04,\n",
       "         7.9365e-04, 3.0159e-02, 2.3810e-03],\n",
       "        [7.2202e-04, 3.9711e-01, 7.2202e-04, 7.2202e-04, 7.2202e-04, 3.2635e-01,\n",
       "         7.2202e-04, 7.2202e-04, 2.3827e-02, 5.7040e-02, 4.3321e-03, 1.4440e-03,\n",
       "         2.1661e-03, 1.0108e-02, 2.1661e-03, 6.2816e-02, 7.2202e-04, 7.2202e-04,\n",
       "         5.5596e-02, 7.2202e-04, 7.2202e-04, 1.9495e-02, 2.1661e-03, 5.7762e-03,\n",
       "         7.2202e-04, 2.0939e-02, 7.2202e-04],\n",
       "        [7.7580e-04, 9.3095e-03, 9.3095e-03, 1.5516e-03, 4.5772e-02, 4.6548e-03,\n",
       "         6.2064e-03, 4.6548e-03, 6.9822e-03, 4.3445e-02, 1.5516e-03, 5.4306e-03,\n",
       "         3.4445e-01, 1.9705e-01, 3.5687e-02, 1.5516e-03, 6.2064e-03, 7.7580e-04,\n",
       "         5.5081e-02, 5.3530e-02, 9.3095e-03, 1.1637e-02, 9.6199e-02, 2.3274e-03,\n",
       "         3.8790e-03, 1.7843e-02, 2.4825e-02],\n",
       "        [2.9762e-03, 3.5417e-01, 2.9762e-03, 2.9762e-03, 2.9762e-03, 1.1310e-01,\n",
       "         2.9762e-03, 2.9762e-03, 2.9762e-03, 1.4881e-01, 2.9762e-03, 2.9762e-03,\n",
       "         5.0595e-02, 2.9762e-03, 2.9762e-03, 5.0595e-02, 2.9762e-03, 2.9762e-03,\n",
       "         1.8750e-01, 2.9762e-03, 2.9762e-03, 1.4881e-02, 2.9762e-03, 2.9762e-03,\n",
       "         2.9762e-03, 2.3810e-02, 2.9762e-03],\n",
       "        [1.7241e-03, 2.1034e-01, 1.7241e-03, 1.7241e-03, 1.7241e-03, 1.7069e-01,\n",
       "         1.7241e-03, 1.7241e-03, 1.3793e-02, 1.5345e-01, 1.7241e-03, 1.7241e-03,\n",
       "         3.6207e-02, 1.7241e-03, 1.7241e-03, 3.6207e-02, 1.7241e-03, 1.7241e-03,\n",
       "         2.4483e-01, 1.7241e-03, 1.7241e-03, 6.3793e-02, 1.7241e-03, 3.1034e-02,\n",
       "         1.7241e-03, 1.0345e-02, 1.7241e-03],\n",
       "        [1.3928e-03, 5.4875e-01, 1.3928e-03, 1.3928e-03, 1.3928e-03, 1.7131e-01,\n",
       "         1.3928e-03, 1.3928e-03, 1.3928e-03, 6.9638e-02, 1.3928e-03, 1.3928e-03,\n",
       "         1.3928e-03, 1.3928e-03, 1.3928e-03, 8.4958e-02, 1.3928e-03, 1.3928e-03,\n",
       "         4.1783e-03, 9.7493e-03, 1.3928e-03, 7.1031e-02, 1.3928e-03, 1.3928e-03,\n",
       "         1.3928e-03, 1.3928e-02, 1.3928e-03],\n",
       "        [1.8975e-03, 1.3283e-02, 3.6053e-02, 1.1385e-02, 1.7078e-02, 1.8975e-03,\n",
       "         2.8463e-02, 7.5901e-03, 1.3283e-02, 1.8975e-03, 1.8975e-03, 3.9848e-02,\n",
       "         1.2713e-01, 5.1233e-02, 6.4516e-02, 7.5901e-03, 1.8975e-03, 1.8975e-03,\n",
       "         7.9696e-02, 2.2011e-01, 4.3643e-02, 1.8975e-03, 7.4004e-02, 3.7951e-03,\n",
       "         7.5901e-03, 3.9848e-02, 1.0057e-01],\n",
       "        [5.1203e-04, 5.3098e-01, 1.5361e-03, 1.0241e-03, 1.0241e-03, 1.4593e-01,\n",
       "         5.1203e-04, 5.1203e-04, 1.5873e-02, 3.6866e-02, 1.0241e-03, 2.0481e-03,\n",
       "         1.5361e-03, 2.5602e-03, 5.1203e-04, 1.7409e-01, 5.1203e-04, 5.1203e-04,\n",
       "         4.6083e-03, 1.5361e-03, 5.1203e-04, 6.5028e-02, 1.0241e-03, 4.0963e-03,\n",
       "         5.1203e-04, 4.6083e-03, 5.1203e-04],\n",
       "        [4.1789e-04, 4.0702e-01, 4.1789e-04, 1.2537e-03, 1.2537e-03, 1.9265e-01,\n",
       "         4.1789e-04, 4.1789e-04, 8.6084e-02, 9.5696e-02, 8.3577e-04, 4.1789e-04,\n",
       "         1.2537e-02, 1.2537e-03, 6.2683e-03, 6.0593e-02, 4.1789e-04, 4.1789e-04,\n",
       "         3.3849e-02, 1.6715e-03, 4.1789e-04, 7.1041e-03, 1.6715e-03, 4.1789e-03,\n",
       "         4.1789e-04, 8.1906e-02, 4.1789e-04],\n",
       "        [8.0580e-04, 3.0862e-01, 8.0580e-04, 8.0580e-04, 8.0580e-04, 2.1918e-01,\n",
       "         8.0580e-04, 8.0580e-04, 8.0580e-04, 1.7647e-01, 1.6116e-03, 8.0580e-04,\n",
       "         4.0290e-03, 8.0580e-04, 8.0580e-04, 1.0717e-01, 8.0580e-04, 8.0580e-04,\n",
       "         8.0580e-04, 8.0580e-04, 8.0580e-04, 9.8308e-02, 8.0580e-04, 8.0580e-04,\n",
       "         8.0580e-04, 6.9299e-02, 8.0580e-04],\n",
       "        [4.8567e-04, 5.7746e-01, 4.8567e-04, 2.4769e-02, 9.7135e-04, 1.0539e-01,\n",
       "         4.8567e-04, 4.8567e-04, 9.7135e-04, 1.4667e-01, 9.7135e-04, 4.8567e-04,\n",
       "         4.8567e-04, 4.8567e-04, 4.8567e-04, 6.2166e-02, 4.8567e-04, 4.8567e-04,\n",
       "         4.8567e-04, 4.8567e-04, 4.8567e-04, 3.3026e-02, 4.8567e-04, 4.8567e-04,\n",
       "         4.8567e-04, 3.9339e-02, 4.8567e-04],\n",
       "        [1.0661e-03, 4.0192e-01, 1.0661e-03, 1.0661e-03, 7.4627e-03, 1.2793e-01,\n",
       "         1.0661e-03, 2.1322e-03, 4.2644e-03, 1.9510e-01, 1.0661e-03, 1.0661e-03,\n",
       "         1.0661e-03, 1.0661e-03, 2.1322e-03, 1.4606e-01, 1.0661e-03, 1.0661e-03,\n",
       "         1.0661e-03, 1.0661e-03, 1.0661e-03, 1.5991e-02, 1.0661e-03, 1.0661e-03,\n",
       "         1.0661e-03, 7.5693e-02, 4.2644e-03],\n",
       "        [2.8090e-03, 6.1798e-02, 3.0899e-02, 3.3708e-02, 4.7753e-02, 2.8090e-03,\n",
       "         2.8090e-03, 1.9663e-02, 8.4270e-03, 1.1236e-02, 8.4270e-03, 5.6180e-03,\n",
       "         2.4157e-01, 8.9888e-02, 4.4944e-02, 8.4270e-03, 8.4270e-03, 2.8090e-03,\n",
       "         1.1798e-01, 1.0112e-01, 3.3708e-02, 1.4045e-02, 1.9663e-02, 2.8090e-02,\n",
       "         1.6854e-02, 1.4045e-02, 2.2472e-02],\n",
       "        [2.2173e-03, 3.0820e-01, 2.2173e-03, 2.2173e-03, 2.2173e-03, 1.8182e-01,\n",
       "         2.2173e-03, 2.2173e-03, 9.3126e-02, 4.8780e-02, 2.2173e-03, 2.2173e-03,\n",
       "         2.2173e-03, 2.2173e-03, 2.2173e-03, 5.7650e-02, 2.2173e-03, 2.2173e-03,\n",
       "         2.4834e-01, 8.8692e-03, 2.2173e-03, 8.8692e-03, 2.2173e-03, 2.2173e-03,\n",
       "         2.2173e-03, 4.4346e-03, 2.2173e-03],\n",
       "        [1.0309e-02, 5.1546e-02, 1.0309e-02, 1.0309e-02, 1.0309e-02, 1.0309e-02,\n",
       "         1.0309e-02, 1.0309e-02, 1.0309e-02, 3.0928e-02, 1.0309e-02, 1.0309e-02,\n",
       "         1.0309e-02, 1.0309e-02, 1.0309e-02, 1.0309e-02, 1.0309e-02, 1.0309e-02,\n",
       "         1.0309e-02, 1.0309e-02, 1.0309e-02, 6.7010e-01, 1.0309e-02, 1.0309e-02,\n",
       "         1.0309e-02, 1.0309e-02, 1.0309e-02],\n",
       "        [7.3638e-04, 2.8719e-01, 7.3638e-04, 7.3638e-04, 7.3638e-04, 1.4801e-01,\n",
       "         7.3638e-04, 7.3638e-04, 5.2283e-02, 1.1929e-01, 7.3638e-04, 7.3638e-04,\n",
       "         7.3638e-04, 3.6819e-03, 7.3638e-04, 2.2975e-01, 7.3638e-04, 7.3638e-04,\n",
       "         2.2091e-03, 7.3638e-04, 7.3638e-04, 6.7010e-02, 7.3638e-04, 7.3638e-04,\n",
       "         7.3638e-04, 7.7320e-02, 7.3638e-04],\n",
       "        [5.8548e-04, 2.9391e-01, 5.8548e-04, 1.5808e-02, 5.8548e-04, 8.4309e-02,\n",
       "         5.8548e-04, 5.8548e-04, 1.9965e-01, 7.8454e-02, 5.8548e-04, 3.1616e-02,\n",
       "         1.1124e-02, 7.6112e-03, 1.7564e-03, 7.1429e-02, 5.8548e-03, 5.8548e-04,\n",
       "         1.0539e-02, 5.8548e-04, 7.6698e-02, 5.9133e-02, 5.2693e-03, 5.8548e-03,\n",
       "         5.8548e-04, 3.5129e-02, 5.8548e-04],\n",
       "        [9.5877e-04, 3.0968e-01, 9.5877e-04, 9.5877e-04, 9.5877e-04, 1.4477e-01,\n",
       "         9.5877e-04, 9.5877e-04, 8.2454e-02, 7.8619e-02, 9.5877e-04, 9.5877e-04,\n",
       "         9.5877e-04, 9.5877e-04, 9.5877e-04, 9.1083e-02, 9.5877e-04, 9.5877e-04,\n",
       "         1.4382e-01, 9.5877e-04, 9.5877e-04, 2.1093e-02, 1.9175e-03, 9.5877e-04,\n",
       "         9.5877e-04, 1.0451e-01, 5.7526e-03],\n",
       "        [1.0638e-02, 1.0638e-02, 1.0638e-02, 3.1915e-02, 1.0638e-02, 1.0638e-02,\n",
       "         1.0638e-02, 6.3830e-02, 1.0638e-02, 2.1277e-02, 1.0638e-02, 1.0638e-02,\n",
       "         1.2766e-01, 4.2553e-02, 1.4894e-01, 1.0638e-02, 2.1277e-02, 1.0638e-02,\n",
       "         1.7021e-01, 6.3830e-02, 6.3830e-02, 1.0638e-02, 1.0638e-02, 1.0638e-02,\n",
       "         1.0638e-02, 1.0638e-02, 7.4468e-02],\n",
       "        [2.8986e-03, 2.9275e-01, 2.8986e-03, 2.8986e-03, 2.8986e-03, 1.5652e-01,\n",
       "         2.8986e-03, 2.8986e-03, 2.8986e-03, 4.0290e-01, 2.8986e-03, 2.8986e-03,\n",
       "         1.4493e-02, 2.8986e-03, 2.8986e-03, 3.1884e-02, 2.8986e-03, 2.8986e-03,\n",
       "         1.1594e-02, 2.8986e-03, 2.8986e-03, 8.6957e-03, 2.8986e-03, 2.8986e-03,\n",
       "         2.8986e-03, 2.6087e-02, 2.8986e-03],\n",
       "        [3.3898e-03, 1.9661e-01, 3.3898e-03, 3.3898e-03, 3.3898e-03, 1.7966e-01,\n",
       "         3.3898e-03, 3.3898e-03, 8.1356e-02, 2.4746e-01, 3.3898e-03, 3.3898e-03,\n",
       "         3.3898e-03, 3.3898e-03, 3.3898e-03, 4.4068e-02, 3.3898e-03, 3.3898e-03,\n",
       "         6.1017e-02, 3.3898e-03, 3.3898e-03, 1.0169e-02, 3.3898e-03, 3.3898e-03,\n",
       "         3.3898e-03, 1.1525e-01, 3.3898e-03],\n",
       "        [7.6923e-03, 3.1538e-01, 7.6923e-03, 7.6923e-03, 7.6923e-03, 8.4615e-02,\n",
       "         7.6923e-03, 7.6923e-03, 1.5385e-02, 1.3846e-01, 7.6923e-03, 7.6923e-03,\n",
       "         7.6923e-03, 7.6923e-03, 7.6923e-03, 4.6154e-02, 7.6923e-03, 7.6923e-03,\n",
       "         7.6923e-03, 1.5385e-02, 7.6923e-03, 2.3077e-02, 7.6923e-03, 7.6923e-03,\n",
       "         1.5385e-02, 1.3077e-01, 8.4615e-02],\n",
       "        [2.2222e-03, 3.9778e-01, 2.2222e-03, 2.2222e-03, 2.2222e-03, 1.0000e-01,\n",
       "         2.2222e-03, 2.2222e-03, 2.2222e-03, 8.0000e-02, 2.2222e-03, 2.2222e-03,\n",
       "         8.8889e-03, 2.2222e-03, 2.2222e-03, 1.7111e-01, 2.2222e-03, 2.2222e-03,\n",
       "         2.2222e-03, 1.7778e-02, 2.2222e-03, 1.7333e-01, 6.6667e-03, 2.2222e-03,\n",
       "         2.2222e-03, 2.2222e-03, 4.4444e-03],\n",
       "        [1.3055e-03, 4.6214e-01, 1.3055e-03, 1.3055e-03, 1.3055e-03, 1.5535e-01,\n",
       "         1.3055e-03, 1.3055e-03, 3.1332e-02, 9.6606e-02, 1.3055e-03, 1.3055e-03,\n",
       "         5.2219e-03, 3.9164e-03, 1.3055e-03, 7.7023e-02, 1.3055e-03, 1.3055e-03,\n",
       "         1.3055e-03, 6.5274e-03, 1.3055e-03, 4.4386e-02, 1.3055e-03, 1.3055e-03,\n",
       "         1.3055e-03, 9.5300e-02, 1.3055e-03]])"
      ]
     },
     "execution_count": 7,
     "metadata": {},
     "output_type": "execute_result"
    }
   ],
   "execution_count": 7
  },
  {
   "metadata": {
    "ExecuteTime": {
     "end_time": "2025-06-12T15:31:52.400711Z",
     "start_time": "2025-06-12T15:31:52.395071Z"
    }
   },
   "cell_type": "code",
   "source": [
    "for i in range(10):\n",
    "    ix = 0\n",
    "    out = ['.', '.']\n",
    "    while True:\n",
    "        ix = torch.multinomial(P[stoi[out[-2]], stoi[out[-1]]], 1, replacement=True).item()\n",
    "        if ix == 0:\n",
    "            break\n",
    "        out.append(itos[ix])\n",
    "    print(*out, sep=\"\")"
   ],
   "id": "4c7d19158bffa562",
   "outputs": [
    {
     "name": "stdout",
     "output_type": "stream",
     "text": [
      "..windribbiasir\n",
      "..jessin\n",
      "..luagunxjdryknoak\n",
      "..ruva\n",
      "..ina\n",
      "..sht\n",
      "..kailealailla\n",
      "..damseill\n",
      "..zarjeen\n",
      "..davien\n"
     ]
    }
   ],
   "execution_count": 8
  },
  {
   "metadata": {
    "ExecuteTime": {
     "end_time": "2025-06-12T15:31:53.314525Z",
     "start_time": "2025-06-12T15:31:52.712808Z"
    }
   },
   "cell_type": "code",
   "source": [
    "import matplotlib.pyplot as plt\n",
    "\n",
    "plt.imshow(P[0])\n",
    "plt.colorbar()"
   ],
   "id": "dba61a256b16da72",
   "outputs": [
    {
     "data": {
      "text/plain": [
       "<matplotlib.colorbar.Colorbar at 0x10c5b13d0>"
      ]
     },
     "execution_count": 9,
     "metadata": {},
     "output_type": "execute_result"
    },
    {
     "data": {
      "text/plain": [
       "<Figure size 640x480 with 2 Axes>"
      ],
      "image/png": "[encoded data removed]"
     },
     "metadata": {},
     "output_type": "display_data"
    }
   ],
   "execution_count": 9
  },
  {
   "metadata": {
    "ExecuteTime": {
     "end_time": "2025-06-12T15:31:53.334221Z",
     "start_time": "2025-06-12T15:31:53.330991Z"
    }
   },
   "cell_type": "code",
   "source": "P[0][0]",
   "id": "3a15aa021064a3c7",
   "outputs": [
    {
     "data": {
      "text/plain": [
       "tensor([3.8982e-05, 1.3495e-01, 4.0619e-02, 4.8104e-02, 5.2976e-02, 4.9234e-02,\n",
       "        1.2084e-02, 2.1596e-02, 2.6975e-02, 1.9530e-02, 7.5118e-02, 9.2270e-02,\n",
       "        4.7363e-02, 7.9250e-02, 3.5551e-02, 1.2864e-02, 1.6567e-02, 2.7677e-03,\n",
       "        5.1924e-02, 6.5567e-02, 3.9644e-02, 2.6508e-03, 1.2435e-02, 1.0486e-02,\n",
       "        4.0541e-03, 1.6528e-02, 2.8847e-02])"
      ]
     },
     "execution_count": 10,
     "metadata": {},
     "output_type": "execute_result"
    }
   ],
   "execution_count": 10
  },
  {
   "metadata": {
    "ExecuteTime": {
     "end_time": "2025-06-12T15:31:53.532686Z",
     "start_time": "2025-06-12T15:31:53.384628Z"
    }
   },
   "cell_type": "code",
   "source": [
    "# loss\n",
    "nll = 0.0\n",
    "n = 0\n",
    "for w in words_dev:\n",
    "    word = \"..\" + w + \".\"\n",
    "    for c1, c2, c3 in zip(word, word[1:], word[2:]):\n",
    "        prob = P[stoi[c1], stoi[c2], stoi[c3]]\n",
    "        nll += -prob.log()\n",
    "        n += 1\n",
    "print(f\"{nll=}, {nll/n}\")"
   ],
   "id": "8f3924c0cb19fdc5",
   "outputs": [
    {
     "name": "stdout",
     "output_type": "stream",
     "text": [
      "nll=tensor(101806.9531), 2.2256290912628174\n"
     ]
    }
   ],
   "execution_count": 11
  },
  {
   "metadata": {},
   "cell_type": "markdown",
   "source": "# E02",
   "id": "8a66364833f1747f"
  },
  {
   "metadata": {
    "ExecuteTime": {
     "end_time": "2025-06-12T15:31:53.567069Z",
     "start_time": "2025-06-12T15:31:53.546150Z"
    }
   },
   "cell_type": "code",
   "source": [
    "idx = torch.randint(high=len(words), size=(len(words),))\n",
    "split_test = int(.8 * len(words))\n",
    "idx_test = idx[:split_test]\n",
    "idx_dev = idx[split_test: ]\n",
    "\n",
    "words_test = [words[i] for i in idx_test]\n",
    "words_dev = [words[i] for i in idx_dev]"
   ],
   "id": "6a52488917b5fdb2",
   "outputs": [],
   "execution_count": 12
  },
  {
   "metadata": {
    "ExecuteTime": {
     "end_time": "2025-06-12T15:31:53.597263Z",
     "start_time": "2025-06-12T15:31:53.589569Z"
    }
   },
   "cell_type": "code",
   "source": "words_dev",
   "id": "43d29edb7ffda727",
   "outputs": [
    {
     "data": {
      "text/plain": [
       "['aryeh',\n",
       " 'avree',\n",
       " 'syriyah',\n",
       " 'kadan',\n",
       " 'caldwell',\n",
       " 'olan',\n",
       " 'tyreon',\n",
       " 'bryar',\n",
       " 'shanelle',\n",
       " 'shraga',\n",
       " 'maxx',\n",
       " 'kharson',\n",
       " 'dhalia',\n",
       " 'blesson',\n",
       " 'theory',\n",
       " 'darleth',\n",
       " 'yared',\n",
       " 'faduma',\n",
       " 'hakan',\n",
       " 'credence',\n",
       " 'kaeden',\n",
       " 'christo',\n",
       " 'muhammadmustafa',\n",
       " 'mikayel',\n",
       " 'dayon',\n",
       " 'tierra',\n",
       " 'jermya',\n",
       " 'jossiah',\n",
       " 'ahmia',\n",
       " 'kinzlee',\n",
       " 'imogen',\n",
       " 'anaisha',\n",
       " 'nestor',\n",
       " 'antonio',\n",
       " 'ilyssa',\n",
       " 'bentlee',\n",
       " 'taheem',\n",
       " 'dekota',\n",
       " 'raydan',\n",
       " 'larayah',\n",
       " 'arpit',\n",
       " 'trustin',\n",
       " 'murat',\n",
       " 'willamena',\n",
       " 'athens',\n",
       " 'kaisyn',\n",
       " 'tylasia',\n",
       " 'arkin',\n",
       " 'zaylah',\n",
       " 'joss',\n",
       " 'coda',\n",
       " 'banyan',\n",
       " 'mellani',\n",
       " 'zyriah',\n",
       " 'mavin',\n",
       " 'ayelen',\n",
       " 'keviana',\n",
       " 'bianka',\n",
       " 'amram',\n",
       " 'mohan',\n",
       " 'rawley',\n",
       " 'imaad',\n",
       " 'saransh',\n",
       " 'dwade',\n",
       " 'isadore',\n",
       " 'karri',\n",
       " 'norianna',\n",
       " 'berl',\n",
       " 'shylynn',\n",
       " 'pranav',\n",
       " 'javeah',\n",
       " 'dexton',\n",
       " 'hugh',\n",
       " 'agamjot',\n",
       " 'pressley',\n",
       " 'morireoluwa',\n",
       " 'azadeh',\n",
       " 'drue',\n",
       " 'leslie',\n",
       " 'braelin',\n",
       " 'tyonna',\n",
       " 'malykai',\n",
       " 'enas',\n",
       " 'anyely',\n",
       " 'aerion',\n",
       " 'zaylon',\n",
       " 'iana',\n",
       " 'jazmynn',\n",
       " 'baani',\n",
       " 'hamed',\n",
       " 'barnabas',\n",
       " 'bentlee',\n",
       " 'emme',\n",
       " 'ellijah',\n",
       " 'amylee',\n",
       " 'braylynn',\n",
       " 'winni',\n",
       " 'adis',\n",
       " 'aizlyn',\n",
       " 'khalesi',\n",
       " 'ohanna',\n",
       " 'caleesi',\n",
       " 'tenley',\n",
       " 'nathan',\n",
       " 'rosalia',\n",
       " 'arah',\n",
       " 'jazelle',\n",
       " 'wafa',\n",
       " 'darcey',\n",
       " 'lamarr',\n",
       " 'shyam',\n",
       " 'anysia',\n",
       " 'hadessah',\n",
       " 'sohana',\n",
       " 'jairon',\n",
       " 'maryelizabeth',\n",
       " 'airah',\n",
       " 'kaleth',\n",
       " 'annaelle',\n",
       " 'kavya',\n",
       " 'mckinley',\n",
       " 'janelys',\n",
       " 'ahrie',\n",
       " 'momoko',\n",
       " 'solon',\n",
       " 'amil',\n",
       " 'junyi',\n",
       " 'veera',\n",
       " 'chloe',\n",
       " 'taylea',\n",
       " 'dorrell',\n",
       " 'aria',\n",
       " 'aiden',\n",
       " 'ilse',\n",
       " 'kayelyn',\n",
       " 'riki',\n",
       " 'akeem',\n",
       " 'airam',\n",
       " 'jazarah',\n",
       " 'tenaya',\n",
       " 'jerian',\n",
       " 'cortland',\n",
       " 'chas',\n",
       " 'hamzah',\n",
       " 'nahom',\n",
       " 'jaymie',\n",
       " 'dunya',\n",
       " 'vickie',\n",
       " 'till',\n",
       " 'khassidy',\n",
       " 'amita',\n",
       " 'dresean',\n",
       " 'anaiz',\n",
       " 'kenndi',\n",
       " 'merriam',\n",
       " 'kelyn',\n",
       " 'korie',\n",
       " 'elia',\n",
       " 'eufemia',\n",
       " 'hasen',\n",
       " 'jad',\n",
       " 'ardin',\n",
       " 'macyn',\n",
       " 'adaira',\n",
       " 'ridwan',\n",
       " 'zihan',\n",
       " 'getsemani',\n",
       " 'navah',\n",
       " 'aison',\n",
       " 'idil',\n",
       " 'kadiatou',\n",
       " 'lesandro',\n",
       " 'kitt',\n",
       " 'baruch',\n",
       " 'razia',\n",
       " 'kailash',\n",
       " 'loanna',\n",
       " 'anaisabel',\n",
       " 'elisandro',\n",
       " 'kally',\n",
       " 'sultan',\n",
       " 'levan',\n",
       " 'baleigh',\n",
       " 'camelia',\n",
       " 'esvin',\n",
       " 'lucille',\n",
       " 'elenah',\n",
       " 'abrienne',\n",
       " 'flower',\n",
       " 'shabazz',\n",
       " 'makenley',\n",
       " 'raahim',\n",
       " 'kileigh',\n",
       " 'jeyleen',\n",
       " 'avante',\n",
       " 'elisandro',\n",
       " 'imari',\n",
       " 'fayrouz',\n",
       " 'moziah',\n",
       " 'jayvian',\n",
       " 'jephthah',\n",
       " 'keiton',\n",
       " 'lola',\n",
       " 'calogero',\n",
       " 'cailie',\n",
       " 'maloni',\n",
       " 'elyzabeth',\n",
       " 'kesia',\n",
       " 'janelys',\n",
       " 'railey',\n",
       " 'rizzo',\n",
       " 'keela',\n",
       " 'daimen',\n",
       " 'sreenika',\n",
       " 'mickenzie',\n",
       " 'kaylum',\n",
       " 'rayen',\n",
       " 'masa',\n",
       " 'deetya',\n",
       " 'jahari',\n",
       " 'zin',\n",
       " 'kynli',\n",
       " 'dylan',\n",
       " 'esli',\n",
       " 'abdurrehman',\n",
       " 'grace',\n",
       " 'jaylianni',\n",
       " 'merit',\n",
       " 'saryia',\n",
       " 'sachin',\n",
       " 'draxton',\n",
       " 'ayo',\n",
       " 'ulyses',\n",
       " 'syon',\n",
       " 'tillian',\n",
       " 'jakai',\n",
       " 'avanicole',\n",
       " 'walt',\n",
       " 'rudi',\n",
       " 'anakyn',\n",
       " 'dolly',\n",
       " 'jahzir',\n",
       " 'wilder',\n",
       " 'jhenae',\n",
       " 'jhoselyn',\n",
       " 'iyani',\n",
       " 'eleven',\n",
       " 'lyfe',\n",
       " 'diandre',\n",
       " 'kodah',\n",
       " 'rona',\n",
       " 'mikylah',\n",
       " 'chevy',\n",
       " 'vaughn',\n",
       " 'alexis',\n",
       " 'jaylee',\n",
       " 'catheryn',\n",
       " 'mairany',\n",
       " 'lanie',\n",
       " 'frida',\n",
       " 'kalynn',\n",
       " 'alfie',\n",
       " 'michele',\n",
       " 'kaileb',\n",
       " 'chaim',\n",
       " 'josimar',\n",
       " 'minal',\n",
       " 'annayah',\n",
       " 'zamarah',\n",
       " 'iryna',\n",
       " 'bernardino',\n",
       " 'zirah',\n",
       " 'maybelle',\n",
       " 'iridessa',\n",
       " 'oxley',\n",
       " 'jan',\n",
       " 'amahd',\n",
       " 'alice',\n",
       " 'kohler',\n",
       " 'jasiya',\n",
       " 'kyonna',\n",
       " 'maclain',\n",
       " 'kyrsten',\n",
       " 'marsean',\n",
       " 'briony',\n",
       " 'akhilles',\n",
       " 'lesley',\n",
       " 'saheed',\n",
       " 'evanna',\n",
       " 'khyle',\n",
       " 'chella',\n",
       " 'skylie',\n",
       " 'germani',\n",
       " 'macarthur',\n",
       " 'adilen',\n",
       " 'corinthia',\n",
       " 'kais',\n",
       " 'teighan',\n",
       " 'jamarie',\n",
       " 'keva',\n",
       " 'vallon',\n",
       " 'mallary',\n",
       " 'chriss',\n",
       " 'kymoni',\n",
       " 'jianni',\n",
       " 'rio',\n",
       " 'antonella',\n",
       " 'daisi',\n",
       " 'ellison',\n",
       " 'lucion',\n",
       " 'kenniel',\n",
       " 'jazzmine',\n",
       " 'karizma',\n",
       " 'talin',\n",
       " 'heaven',\n",
       " 'tabassum',\n",
       " 'mariaguadalupe',\n",
       " 'zien',\n",
       " 'nazair',\n",
       " 'tanvik',\n",
       " 'axel',\n",
       " 'briston',\n",
       " 'zacarri',\n",
       " 'makeda',\n",
       " 'stevi',\n",
       " 'georgina',\n",
       " 'emrys',\n",
       " 'niloufar',\n",
       " 'deanna',\n",
       " 'matrim',\n",
       " 'xana',\n",
       " 'boyd',\n",
       " 'terriona',\n",
       " 'mazie',\n",
       " 'desi',\n",
       " 'leahna',\n",
       " 'jayquan',\n",
       " 'minette',\n",
       " 'kasey',\n",
       " 'alheli',\n",
       " 'rye',\n",
       " 'anthonie',\n",
       " 'mariel',\n",
       " 'karlos',\n",
       " 'skylen',\n",
       " 'salem',\n",
       " 'emerick',\n",
       " 'rozalee',\n",
       " 'arrow',\n",
       " 'leasia',\n",
       " 'suzy',\n",
       " 'jefferson',\n",
       " 'yusif',\n",
       " 'rosalena',\n",
       " 'jasson',\n",
       " 'stokely',\n",
       " 'taiyari',\n",
       " 'christo',\n",
       " 'drake',\n",
       " 'dahir',\n",
       " 'wyatt',\n",
       " 'kemery',\n",
       " 'tremir',\n",
       " 'mercedez',\n",
       " 'nene',\n",
       " 'fenn',\n",
       " 'aaryn',\n",
       " 'charvi',\n",
       " 'jazari',\n",
       " 'adelie',\n",
       " 'aika',\n",
       " 'justin',\n",
       " 'numair',\n",
       " 'ellie',\n",
       " 'gabrial',\n",
       " 'neel',\n",
       " 'romyn',\n",
       " 'tiegan',\n",
       " 'yenifer',\n",
       " 'zierre',\n",
       " 'keani',\n",
       " 'naina',\n",
       " 'edison',\n",
       " 'mayarose',\n",
       " 'dakayla',\n",
       " 'jaylan',\n",
       " 'romy',\n",
       " 'bay',\n",
       " 'xaiden',\n",
       " 'joely',\n",
       " 'tasmia',\n",
       " 'adrijana',\n",
       " 'annasofia',\n",
       " 'mylayah',\n",
       " 'jilliana',\n",
       " 'jaydis',\n",
       " 'vera',\n",
       " 'khadra',\n",
       " 'maki',\n",
       " 'kayli',\n",
       " 'loukya',\n",
       " 'eiliana',\n",
       " 'shloima',\n",
       " 'emric',\n",
       " 'benicio',\n",
       " 'aisla',\n",
       " 'liany',\n",
       " 'alexey',\n",
       " 'quintavious',\n",
       " 'kelian',\n",
       " 'anely',\n",
       " 'eli',\n",
       " 'reylynn',\n",
       " 'kartik',\n",
       " 'oaklyn',\n",
       " 'daisean',\n",
       " 'meliyah',\n",
       " 'quetzalli',\n",
       " 'xaidyn',\n",
       " 'kaeo',\n",
       " 'deivid',\n",
       " 'rene',\n",
       " 'johnmark',\n",
       " 'zohaan',\n",
       " 'embrey',\n",
       " 'jozie',\n",
       " 'girl',\n",
       " 'giulia',\n",
       " 'naliya',\n",
       " 'annali',\n",
       " 'riggs',\n",
       " 'brooke',\n",
       " 'kamorah',\n",
       " 'waylynn',\n",
       " 'arica',\n",
       " 'sasha',\n",
       " 'rontrell',\n",
       " 'sieanna',\n",
       " 'kailum',\n",
       " 'aasha',\n",
       " 'ollie',\n",
       " 'zuree',\n",
       " 'ashlen',\n",
       " 'sema',\n",
       " 'benelli',\n",
       " 'jentrie',\n",
       " 'jace',\n",
       " 'pressley',\n",
       " 'parris',\n",
       " 'easton',\n",
       " 'lillyann',\n",
       " 'aianna',\n",
       " 'mehnoor',\n",
       " 'asad',\n",
       " 'tally',\n",
       " 'guillermo',\n",
       " 'keinan',\n",
       " 'miaisabella',\n",
       " 'elnora',\n",
       " 'henslee',\n",
       " 'evangaline',\n",
       " 'kenzee',\n",
       " 'leiah',\n",
       " 'shaya',\n",
       " 'raylyn',\n",
       " 'johndaniel',\n",
       " 'keller',\n",
       " 'alejandra',\n",
       " 'calvert',\n",
       " 'linus',\n",
       " 'syier',\n",
       " 'jaryia',\n",
       " 'haygen',\n",
       " 'gynesis',\n",
       " 'halie',\n",
       " 'azadeh',\n",
       " 'tanae',\n",
       " 'haislynn',\n",
       " 'joannah',\n",
       " 'oryn',\n",
       " 'azlan',\n",
       " 'helene',\n",
       " 'jehan',\n",
       " 'jarrod',\n",
       " 'kanan',\n",
       " 'thorne',\n",
       " 'kamsiyochukwu',\n",
       " 'caily',\n",
       " 'alinah',\n",
       " 'faduma',\n",
       " 'grier',\n",
       " 'jaxxyn',\n",
       " 'mercedez',\n",
       " 'auralia',\n",
       " 'hatem',\n",
       " 'alaa',\n",
       " 'ngun',\n",
       " 'jennyfer',\n",
       " 'paisley',\n",
       " 'jiayi',\n",
       " 'laylamarie',\n",
       " 'kriya',\n",
       " 'caleah',\n",
       " 'jemuel',\n",
       " 'adama',\n",
       " 'iris',\n",
       " 'lanora',\n",
       " 'eros',\n",
       " 'seylah',\n",
       " 'laryah',\n",
       " 'jordann',\n",
       " 'albi',\n",
       " 'edrielle',\n",
       " 'rupert',\n",
       " 'dezman',\n",
       " 'faizon',\n",
       " 'kenta',\n",
       " 'batoul',\n",
       " 'blessen',\n",
       " 'aianna',\n",
       " 'jediah',\n",
       " 'rosemari',\n",
       " 'percival',\n",
       " 'eshani',\n",
       " 'asheton',\n",
       " 'rona',\n",
       " 'armonie',\n",
       " 'joseluis',\n",
       " 'afif',\n",
       " 'jadah',\n",
       " 'dior',\n",
       " 'keo',\n",
       " 'carmelo',\n",
       " 'auryn',\n",
       " 'kyrian',\n",
       " 'youssef',\n",
       " 'blaikley',\n",
       " 'akai',\n",
       " 'sun',\n",
       " 'hadassa',\n",
       " 'haydee',\n",
       " 'zeya',\n",
       " 'israella',\n",
       " 'kayaan',\n",
       " 'sophiya',\n",
       " 'theodore',\n",
       " 'josef',\n",
       " 'vismaya',\n",
       " 'daniyal',\n",
       " 'aerial',\n",
       " 'kerigan',\n",
       " 'druv',\n",
       " 'empress',\n",
       " 'davi',\n",
       " 'sonya',\n",
       " 'kentucky',\n",
       " 'leylany',\n",
       " 'shahmeer',\n",
       " 'obai',\n",
       " 'behrett',\n",
       " 'evelena',\n",
       " 'keela',\n",
       " 'renesme',\n",
       " 'niah',\n",
       " 'cathy',\n",
       " 'odin',\n",
       " 'emalee',\n",
       " 'supreme',\n",
       " 'masa',\n",
       " 'vadim',\n",
       " 'honey',\n",
       " 'hakim',\n",
       " 'karleigh',\n",
       " 'milania',\n",
       " 'zahria',\n",
       " 'walker',\n",
       " 'kylah',\n",
       " 'barren',\n",
       " 'zavian',\n",
       " 'maeven',\n",
       " 'alyjah',\n",
       " 'angelis',\n",
       " 'chrisangel',\n",
       " 'evan',\n",
       " 'eziah',\n",
       " 'amine',\n",
       " 'malanni',\n",
       " 'tavi',\n",
       " 'keighan',\n",
       " 'ibtisam',\n",
       " 'jhony',\n",
       " 'deangelo',\n",
       " 'khaila',\n",
       " 'sihaam',\n",
       " 'emmani',\n",
       " 'kendel',\n",
       " 'tirrell',\n",
       " 'noella',\n",
       " 'lakelynn',\n",
       " 'garland',\n",
       " 'azoria',\n",
       " 'sohail',\n",
       " 'kalyna',\n",
       " 'lucien',\n",
       " 'tycho',\n",
       " 'nihal',\n",
       " 'raeshawn',\n",
       " 'amary',\n",
       " 'leddy',\n",
       " 'cecilie',\n",
       " 'arabela',\n",
       " 'allee',\n",
       " 'amarissa',\n",
       " 'austyn',\n",
       " 'dmir',\n",
       " 'rumi',\n",
       " 'penelope',\n",
       " 'kaleya',\n",
       " 'jacky',\n",
       " 'davarian',\n",
       " 'amouri',\n",
       " 'jabryson',\n",
       " 'jermari',\n",
       " 'amayas',\n",
       " 'siddhi',\n",
       " 'orest',\n",
       " 'jhadiel',\n",
       " 'alexia',\n",
       " 'hadlei',\n",
       " 'soraya',\n",
       " 'anson',\n",
       " 'kourtnee',\n",
       " 'heitor',\n",
       " 'jasmynn',\n",
       " 'kayde',\n",
       " 'keely',\n",
       " 'davyan',\n",
       " 'abdihakim',\n",
       " 'amarion',\n",
       " 'shaqir',\n",
       " 'ellyn',\n",
       " 'kadyn',\n",
       " 'abril',\n",
       " 'havannah',\n",
       " 'summit',\n",
       " 'tyus',\n",
       " 'emberli',\n",
       " 'dirk',\n",
       " 'ryliegh',\n",
       " 'kassadi',\n",
       " 'donavon',\n",
       " 'maebri',\n",
       " 'pendleton',\n",
       " 'milcah',\n",
       " 'neena',\n",
       " 'zailey',\n",
       " 'ramaya',\n",
       " 'ryah',\n",
       " 'jibreel',\n",
       " 'mesa',\n",
       " 'arisa',\n",
       " 'kaisa',\n",
       " 'sutherland',\n",
       " 'keior',\n",
       " 'iven',\n",
       " 'delano',\n",
       " 'caymen',\n",
       " 'rane',\n",
       " 'dreamer',\n",
       " 'kyrae',\n",
       " 'safaa',\n",
       " 'yuma',\n",
       " 'corrin',\n",
       " 'roselynn',\n",
       " 'ahmirah',\n",
       " 'tahani',\n",
       " 'kenzlie',\n",
       " 'chetan',\n",
       " 'christalyn',\n",
       " 'abimelec',\n",
       " 'sadiq',\n",
       " 'khadra',\n",
       " 'josep',\n",
       " 'savian',\n",
       " 'xzander',\n",
       " 'cainaan',\n",
       " 'lania',\n",
       " 'tynlee',\n",
       " 'kaleesi',\n",
       " 'chantelle',\n",
       " 'tylin',\n",
       " 'azelynn',\n",
       " 'wally',\n",
       " 'adyn',\n",
       " 'nyeema',\n",
       " 'taha',\n",
       " 'benjamyn',\n",
       " 'urvi',\n",
       " 'aziyah',\n",
       " 'bronn',\n",
       " 'jodi',\n",
       " 'daejah',\n",
       " 'tim',\n",
       " 'nyriah',\n",
       " 'yeiren',\n",
       " 'makar',\n",
       " 'azelia',\n",
       " 'michonne',\n",
       " 'enok',\n",
       " 'teyonna',\n",
       " 'feyre',\n",
       " 'rozalynn',\n",
       " 'chasity',\n",
       " 'zeek',\n",
       " 'aamir',\n",
       " 'aeriana',\n",
       " 'lacey',\n",
       " 'jaye',\n",
       " 'sophya',\n",
       " 'kirby',\n",
       " 'bleu',\n",
       " 'karine',\n",
       " 'shamara',\n",
       " 'annaleise',\n",
       " 'ahaan',\n",
       " 'afrah',\n",
       " 'alexus',\n",
       " 'thorn',\n",
       " 'elizajane',\n",
       " 'ashvik',\n",
       " 'slater',\n",
       " 'trishan',\n",
       " 'indica',\n",
       " 'beauman',\n",
       " 'whitley',\n",
       " 'era',\n",
       " 'kealii',\n",
       " 'kairo',\n",
       " 'talin',\n",
       " 'serena',\n",
       " 'mylarose',\n",
       " 'stokely',\n",
       " 'masyn',\n",
       " 'aydian',\n",
       " 'ivyana',\n",
       " 'astella',\n",
       " 'kailie',\n",
       " 'larenz',\n",
       " 'clayson',\n",
       " 'teagan',\n",
       " 'vallerie',\n",
       " 'saphira',\n",
       " 'takumi',\n",
       " 'irish',\n",
       " 'meshach',\n",
       " 'othman',\n",
       " 'ramsi',\n",
       " 'iliyah',\n",
       " 'hector',\n",
       " 'nao',\n",
       " 'bryaire',\n",
       " 'ayrin',\n",
       " 'corri',\n",
       " 'dameon',\n",
       " 'aarianna',\n",
       " 'terrel',\n",
       " 'dominic',\n",
       " 'josette',\n",
       " 'zaliah',\n",
       " 'margret',\n",
       " 'damarcus',\n",
       " 'paxton',\n",
       " 'ilianna',\n",
       " 'zaymir',\n",
       " 'daenerys',\n",
       " 'jadarrius',\n",
       " 'grady',\n",
       " 'krimson',\n",
       " 'edel',\n",
       " 'kelaya',\n",
       " 'kelaiah',\n",
       " 'shanelly',\n",
       " 'colbie',\n",
       " 'antione',\n",
       " 'aissa',\n",
       " 'saviour',\n",
       " 'loujain',\n",
       " 'josten',\n",
       " 'hathaway',\n",
       " 'vincente',\n",
       " 'nicolau',\n",
       " 'wissam',\n",
       " 'indee',\n",
       " 'dalyn',\n",
       " 'maizee',\n",
       " 'bilen',\n",
       " 'haja',\n",
       " 'berklee',\n",
       " 'leyani',\n",
       " 'jenevieve',\n",
       " 'neji',\n",
       " 'tevin',\n",
       " 'camdyn',\n",
       " 'atif',\n",
       " 'amonte',\n",
       " 'konnor',\n",
       " 'jessy',\n",
       " 'osiris',\n",
       " 'bassy',\n",
       " 'ibaad',\n",
       " 'astella',\n",
       " 'dayson',\n",
       " 'kinleigh',\n",
       " 'aitana',\n",
       " 'brittlyn',\n",
       " 'avyon',\n",
       " 'miking',\n",
       " 'opal',\n",
       " 'zeb',\n",
       " 'vayah',\n",
       " 'lio',\n",
       " 'malaki',\n",
       " 'kandace',\n",
       " 'addalie',\n",
       " 'copper',\n",
       " 'perrin',\n",
       " 'zev',\n",
       " 'aalayah',\n",
       " 'saran',\n",
       " 'holiday',\n",
       " 'amya',\n",
       " 'lennon',\n",
       " 'bee',\n",
       " 'lovell',\n",
       " 'jaasritha',\n",
       " 'grasyn',\n",
       " 'daveyon',\n",
       " 'abelardo',\n",
       " 'rion',\n",
       " 'kayton',\n",
       " 'hayli',\n",
       " 'berend',\n",
       " 'dilara',\n",
       " 'adelayda',\n",
       " 'eddie',\n",
       " 'emslee',\n",
       " 'genovia',\n",
       " 'artyom',\n",
       " 'cyla',\n",
       " 'shameek',\n",
       " 'arjuna',\n",
       " 'kieron',\n",
       " 'arrison',\n",
       " 'xandra',\n",
       " 'jericho',\n",
       " 'bernadette',\n",
       " 'naliyah',\n",
       " 'eiza',\n",
       " 'hades',\n",
       " 'merriam',\n",
       " 'vidhaan',\n",
       " 'jozlynn',\n",
       " 'cozette',\n",
       " 'kahlan',\n",
       " 'sosuke',\n",
       " 'viola',\n",
       " 'dao',\n",
       " 'eladia',\n",
       " 'royce',\n",
       " 'luci',\n",
       " 'elleanna',\n",
       " 'loyal',\n",
       " 'zakariyya',\n",
       " 'caidyn',\n",
       " 'kymiah',\n",
       " 'anand',\n",
       " 'kensi',\n",
       " 'amiylah',\n",
       " 'aryanna',\n",
       " 'tahir',\n",
       " 'nashira',\n",
       " 'blakely',\n",
       " 'ronel',\n",
       " 'quavon',\n",
       " 'brixtyn',\n",
       " 'juna',\n",
       " 'monet',\n",
       " 'bilge',\n",
       " 'geno',\n",
       " 'levy',\n",
       " 'kamdynn',\n",
       " 'kabir',\n",
       " 'ryanna',\n",
       " 'yulenny',\n",
       " 'irah',\n",
       " 'millena',\n",
       " 'khloe',\n",
       " 'zafirah',\n",
       " 'chimdindu',\n",
       " 'yerick',\n",
       " 'elaia',\n",
       " 'jansel',\n",
       " 'keanan',\n",
       " 'mable',\n",
       " 'lenden',\n",
       " 'crimson',\n",
       " 'zephaniah',\n",
       " 'ousmane',\n",
       " 'aeneas',\n",
       " 'oden',\n",
       " 'consuelo',\n",
       " 'lochlyn',\n",
       " 'mikeyla',\n",
       " 'mccartney',\n",
       " 'ollin',\n",
       " 'elissa',\n",
       " 'hisham',\n",
       " 'viana',\n",
       " 'rayne',\n",
       " 'aubriel',\n",
       " 'lyannie',\n",
       " 'bia',\n",
       " 'sanii',\n",
       " 'khilan',\n",
       " 'wednesday',\n",
       " 'veyda',\n",
       " 'shaima',\n",
       " 'adalaide',\n",
       " 'kazumi',\n",
       " 'yasira',\n",
       " 'lissandro',\n",
       " 'morad',\n",
       " 'hamed',\n",
       " 'sushant',\n",
       " 'clarabella',\n",
       " 'syren',\n",
       " 'lamicheal',\n",
       " 'yodahe',\n",
       " 'kathan',\n",
       " 'mariell',\n",
       " 'jenice',\n",
       " 'kelyn',\n",
       " 'yinuo',\n",
       " 'zavion',\n",
       " 'mumtaz',\n",
       " 'marylouise',\n",
       " 'kattleya',\n",
       " 'osvin',\n",
       " 'juniel',\n",
       " 'dagen',\n",
       " 'jabdiel',\n",
       " 'aaryav',\n",
       " 'huckleberry',\n",
       " 'ahlai',\n",
       " 'greylynn',\n",
       " 'elysha',\n",
       " 'bayla',\n",
       " 'stokely',\n",
       " 'dalina',\n",
       " 'portland',\n",
       " 'ryker',\n",
       " 'colby',\n",
       " 'rana',\n",
       " 'cecily',\n",
       " 'tiahna',\n",
       " 'cyrie',\n",
       " 'milee',\n",
       " 'jozeph',\n",
       " 'olana',\n",
       " 'brendalynn',\n",
       " 'kelian',\n",
       " 'roha',\n",
       " 'traiden',\n",
       " 'justis',\n",
       " 'ahlias',\n",
       " 'maahi',\n",
       " 'gurbani',\n",
       " 'dasean',\n",
       " 'lennyn',\n",
       " 'zahra',\n",
       " 'ayaz',\n",
       " 'niklaus',\n",
       " 'ashby',\n",
       " 'khlo',\n",
       " 'makailyn',\n",
       " 'savvi',\n",
       " 'lelah',\n",
       " 'daly',\n",
       " 'kyliegh',\n",
       " 'sharaya',\n",
       " 'raynie',\n",
       " 'johnie',\n",
       " 'emeka',\n",
       " 'dessie',\n",
       " 'nohea',\n",
       " 'amaranth',\n",
       " 'ansley',\n",
       " 'stellarose',\n",
       " 'juliocesar',\n",
       " 'bahati',\n",
       " ...]"
      ]
     },
     "execution_count": 13,
     "metadata": {},
     "output_type": "execute_result"
    }
   ],
   "execution_count": 13
  },
  {
   "metadata": {},
   "cell_type": "markdown",
   "source": "## Bigram Model (Probabilistic)",
   "id": "850c1dd7c3b3ee81"
  },
  {
   "metadata": {
    "ExecuteTime": {
     "end_time": "2025-06-12T15:31:54.402493Z",
     "start_time": "2025-06-12T15:31:53.636602Z"
    }
   },
   "cell_type": "code",
   "source": [
    "Nbi = torch.zeros([27, 27])\n",
    "for w in words:\n",
    "    word = \".\" + w + \".\"\n",
    "    for c1, c2 in zip(word, word[1:]):\n",
    "        Nbi[stoi[c1], stoi[c2]] += 1\n",
    "N"
   ],
   "id": "a5d28a632008a8d5",
   "outputs": [
    {
     "data": {
      "text/plain": [
       "tensor([[[   1, 3462, 1042,  ...,  104,  424,  740],\n",
       "         [   1,  160,  161,  ...,   19,  154,  123],\n",
       "         [   1,  126,    1,  ...,    1,    5,    1],\n",
       "         ...,\n",
       "         [   1,   41,    1,  ...,    2,   17,   11],\n",
       "         [   1,  179,    1,  ...,    1,    1,    2],\n",
       "         [   1,  354,    1,  ...,    1,   73,    1]],\n",
       "\n",
       "        [[   1,    1,    1,  ...,    1,    1,    1],\n",
       "         [  26,    1,    4,  ...,    1,   19,   11],\n",
       "         [  29,   22,   12,  ...,    1,   14,    1],\n",
       "         ...,\n",
       "         [   8,    7,    1,  ...,   14,    5,    3],\n",
       "         [ 122,  336,   12,  ...,    1,   11,   24],\n",
       "         [  30,   91,    1,  ...,    1,   16,   17]],\n",
       "\n",
       "        [[   1,    1,    1,  ...,    1,    1,    1],\n",
       "         [  46,    4,    8,  ...,    4,   24,    5],\n",
       "         [   2,    6,    1,  ...,    1,    5,    1],\n",
       "         ...,\n",
       "         [   1,    1,    1,  ...,    1,    1,    1],\n",
       "         [  40,    7,    3,  ...,    1,    1,    1],\n",
       "         [   1,    1,    1,  ...,    1,    1,    1]],\n",
       "\n",
       "        ...,\n",
       "\n",
       "        [[   1,    1,    1,  ...,    1,    1,    1],\n",
       "         [   8,    1,    1,  ...,    1,   10,    1],\n",
       "         [   1,    1,    1,  ...,    1,    1,    1],\n",
       "         ...,\n",
       "         [  10,    2,    1,  ...,    1,    4,    1],\n",
       "         [   5,    6,    1,  ...,    1,    1,    1],\n",
       "         [   1,   17,    1,  ...,    1,    1,    1]],\n",
       "\n",
       "        [[   1,    1,    1,  ...,    1,    1,    1],\n",
       "         [ 577,   40,    8,  ...,    3,    9,   10],\n",
       "         [   3,    2,    1,  ...,    1,    1,    1],\n",
       "         ...,\n",
       "         [  31,    1,    1,  ...,    2,    1,    1],\n",
       "         [   1,   17,    1,  ...,    1,    1,    1],\n",
       "         [   3,   18,    1,  ...,    1,    1,    1]],\n",
       "\n",
       "        [[   1,    1,    1,  ...,    1,    1,    1],\n",
       "         [  73,   13,   37,  ...,    3,   80,    6],\n",
       "         [   1,    1,    1,  ...,    1,    1,    1],\n",
       "         ...,\n",
       "         [   1,    1,    1,  ...,    1,    1,    1],\n",
       "         [  27,   30,    1,  ...,    1,    1,    1],\n",
       "         [   3,   15,    1,  ...,    1,    5,    1]]], dtype=torch.int32)"
      ]
     },
     "execution_count": 14,
     "metadata": {},
     "output_type": "execute_result"
    }
   ],
   "execution_count": 14
  },
  {
   "metadata": {
    "ExecuteTime": {
     "end_time": "2025-06-12T15:31:54.422579Z",
     "start_time": "2025-06-12T15:31:54.416663Z"
    }
   },
   "cell_type": "code",
   "source": [
    "Pbi = (Nbi + 0).float()\n",
    "Pbi /= Pbi.sum(1, keepdim=True)\n",
    "Pbi"
   ],
   "id": "4ba7a5c647fc4cc6",
   "outputs": [
    {
     "data": {
      "text/plain": [
       "tensor([[0.0000e+00, 1.3767e-01, 4.0770e-02, 4.8138e-02, 5.2758e-02, 4.7794e-02,\n",
       "         1.3018e-02, 2.0885e-02, 2.7284e-02, 1.8450e-02, 7.5610e-02, 9.2498e-02,\n",
       "         4.9074e-02, 7.9231e-02, 3.5776e-02, 1.2300e-02, 1.6077e-02, 2.8720e-03,\n",
       "         5.1166e-02, 6.4153e-02, 4.0833e-02, 2.4350e-03, 1.1738e-02, 9.5839e-03,\n",
       "         4.1832e-03, 1.6702e-02, 2.9001e-02],\n",
       "        [1.9596e-01, 1.6408e-02, 1.5966e-02, 1.3870e-02, 3.0751e-02, 2.0422e-02,\n",
       "         3.9546e-03, 4.9579e-03, 6.8821e-02, 4.8694e-02, 5.1645e-03, 1.6763e-02,\n",
       "         7.4605e-02, 4.8222e-02, 1.6048e-01, 1.8592e-03, 2.4199e-03, 1.7707e-03,\n",
       "         9.6326e-02, 3.2994e-02, 2.0274e-02, 1.1244e-02, 2.4613e-02, 4.7514e-03,\n",
       "         5.3711e-03, 6.0499e-02, 1.2838e-02],\n",
       "        [4.3100e-02, 1.2136e-01, 1.4367e-02, 3.7807e-04, 2.4575e-02, 2.4764e-01,\n",
       "         0.0000e+00, 0.0000e+00, 1.5501e-02, 8.2042e-02, 3.7807e-04, 0.0000e+00,\n",
       "         3.8941e-02, 0.0000e+00, 1.5123e-03, 3.9698e-02, 0.0000e+00, 0.0000e+00,\n",
       "         3.1834e-01, 3.0246e-03, 7.5614e-04, 1.7013e-02, 0.0000e+00, 0.0000e+00,\n",
       "         0.0000e+00, 3.1380e-02, 0.0000e+00],\n",
       "        [2.7463e-02, 2.3075e-01, 0.0000e+00, 1.1891e-02, 2.8313e-04, 1.5600e-01,\n",
       "         0.0000e+00, 5.6625e-04, 1.8800e-01, 7.6727e-02, 8.4938e-04, 8.9468e-02,\n",
       "         3.2843e-02, 0.0000e+00, 0.0000e+00, 1.0759e-01, 2.8313e-04, 3.1144e-03,\n",
       "         2.1518e-02, 1.4156e-03, 9.9094e-03, 9.9094e-03, 0.0000e+00, 0.0000e+00,\n",
       "         8.4938e-04, 2.9445e-02, 1.1325e-03],\n",
       "        [9.3886e-02, 2.3708e-01, 1.8195e-04, 5.4585e-04, 2.7111e-02, 2.3344e-01,\n",
       "         9.0975e-04, 4.5488e-03, 2.1470e-02, 1.2263e-01, 1.6376e-03, 5.4585e-04,\n",
       "         1.0917e-02, 5.4585e-03, 5.6405e-03, 6.8777e-02, 0.0000e+00, 1.8195e-04,\n",
       "         7.7147e-02, 5.2766e-03, 7.2780e-04, 1.6739e-02, 3.0932e-03, 4.1849e-03,\n",
       "         0.0000e+00, 5.7678e-02, 1.8195e-04],\n",
       "        [1.9503e-01, 3.3247e-02, 5.9247e-03, 7.4916e-03, 1.8802e-02, 6.2234e-02,\n",
       "         4.0151e-03, 6.1206e-03, 7.4426e-03, 4.0053e-02, 2.6930e-03, 8.7157e-03,\n",
       "         1.5904e-01, 3.7654e-02, 1.3098e-01, 1.3171e-02, 4.0640e-03, 6.8550e-04,\n",
       "         9.5872e-02, 4.2158e-02, 2.8399e-02, 3.3785e-03, 2.2671e-02, 2.4482e-03,\n",
       "         6.4633e-03, 5.2392e-02, 8.8626e-03],\n",
       "        [8.8398e-02, 2.6740e-01, 0.0000e+00, 0.0000e+00, 0.0000e+00, 1.3591e-01,\n",
       "         4.8619e-02, 1.1050e-03, 1.1050e-03, 1.7680e-01, 0.0000e+00, 2.2099e-03,\n",
       "         2.2099e-02, 0.0000e+00, 4.4199e-03, 6.6298e-02, 0.0000e+00, 0.0000e+00,\n",
       "         1.2597e-01, 6.6298e-03, 1.9890e-02, 1.1050e-02, 0.0000e+00, 4.4199e-03,\n",
       "         0.0000e+00, 1.5470e-02, 2.2099e-03],\n",
       "        [5.6046e-02, 1.7125e-01, 1.5568e-03, 0.0000e+00, 9.8599e-03, 1.7333e-01,\n",
       "         5.1894e-04, 1.2974e-02, 1.8682e-01, 9.8599e-02, 1.5568e-03, 0.0000e+00,\n",
       "         1.6606e-02, 3.1136e-03, 1.4011e-02, 4.3072e-02, 0.0000e+00, 0.0000e+00,\n",
       "         1.0431e-01, 1.5568e-02, 1.6087e-02, 4.4110e-02, 5.1894e-04, 1.3492e-02,\n",
       "         0.0000e+00, 1.6087e-02, 5.1894e-04],\n",
       "        [3.1631e-01, 2.9464e-01, 1.0504e-03, 2.6261e-04, 3.1513e-03, 8.8498e-02,\n",
       "         2.6261e-04, 2.6261e-04, 1.3130e-04, 9.5720e-02, 1.1817e-03, 3.8078e-03,\n",
       "         2.4291e-02, 1.5362e-02, 1.8120e-02, 3.7684e-02, 1.3130e-04, 1.3130e-04,\n",
       "         2.6786e-02, 4.0704e-03, 9.3225e-03, 2.1796e-02, 5.1208e-03, 1.3130e-03,\n",
       "         0.0000e+00, 2.7967e-02, 2.6261e-03],\n",
       "        [1.4061e-01, 1.3813e-01, 6.2143e-03, 2.8755e-02, 2.4857e-02, 9.3385e-02,\n",
       "         5.7059e-03, 2.4179e-02, 5.3669e-03, 4.6325e-03, 4.2935e-03, 2.5140e-02,\n",
       "         7.5984e-02, 2.4123e-02, 1.2011e-01, 3.3218e-02, 2.9942e-03, 2.9377e-03,\n",
       "         4.7963e-02, 7.4346e-02, 3.0563e-02, 6.1578e-03, 1.5197e-02, 4.5195e-04,\n",
       "         5.0280e-03, 4.4009e-02, 1.5649e-02],\n",
       "        [2.4483e-02, 5.0793e-01, 3.4483e-04, 1.3793e-03, 1.3793e-03, 1.5172e-01,\n",
       "         0.0000e+00, 0.0000e+00, 1.5517e-02, 4.1034e-02, 6.8966e-04, 6.8966e-04,\n",
       "         3.1034e-03, 1.7241e-03, 6.8966e-04, 1.6517e-01, 3.4483e-04, 0.0000e+00,\n",
       "         3.7931e-03, 2.4138e-03, 6.8966e-04, 6.9655e-02, 1.7241e-03, 2.0690e-03,\n",
       "         0.0000e+00, 3.4483e-03, 0.0000e+00],\n",
       "        [7.2024e-02, 3.4345e-01, 3.9683e-04, 3.9683e-04, 3.9683e-04, 1.7758e-01,\n",
       "         1.9841e-04, 0.0000e+00, 6.0913e-02, 1.0099e-01, 3.9683e-04, 3.9683e-03,\n",
       "         2.7579e-02, 1.7857e-03, 5.1587e-03, 6.8254e-02, 0.0000e+00, 0.0000e+00,\n",
       "         2.1627e-02, 1.8849e-02, 3.3730e-03, 9.9206e-03, 3.9683e-04, 6.7460e-03,\n",
       "         0.0000e+00, 7.5198e-02, 3.9683e-04],\n",
       "        [9.4140e-02, 1.8792e-01, 3.7255e-03, 1.7911e-03, 9.8868e-03, 2.0927e-01,\n",
       "         1.5762e-03, 4.2986e-04, 1.3612e-03, 1.7768e-01, 4.2986e-04, 1.7194e-03,\n",
       "         9.6361e-02, 4.2986e-03, 1.0030e-03, 4.9577e-02, 1.0747e-03, 2.1493e-04,\n",
       "         1.2896e-03, 6.7345e-03, 5.5165e-03, 2.3212e-02, 5.1583e-03, 1.1463e-03,\n",
       "         0.0000e+00, 1.1377e-01, 7.1644e-04],\n",
       "        [7.7687e-02, 3.8994e-01, 1.6862e-02, 7.6784e-03, 3.6134e-03, 1.2316e-01,\n",
       "         1.5056e-04, 0.0000e+00, 7.5279e-04, 1.8910e-01, 1.0539e-03, 1.5056e-04,\n",
       "         7.5279e-04, 2.5294e-02, 3.0111e-03, 6.8052e-02, 5.7212e-03, 0.0000e+00,\n",
       "         1.4604e-02, 5.2695e-03, 6.0223e-04, 2.0927e-02, 4.5167e-04, 3.0111e-04,\n",
       "         0.0000e+00, 4.3210e-02, 1.6561e-03],\n",
       "        [3.6902e-01, 1.6244e-01, 4.3651e-04, 1.1622e-02, 3.8413e-02, 7.4153e-02,\n",
       "         6.0021e-04, 1.4896e-02, 1.4187e-03, 9.4123e-02, 2.4008e-03, 3.1647e-03,\n",
       "         1.0640e-02, 1.0367e-03, 1.0400e-01, 2.7064e-02, 2.7282e-04, 1.0913e-04,\n",
       "         2.4008e-03, 1.5169e-02, 2.4172e-02, 5.2382e-03, 3.0010e-03, 6.0021e-04,\n",
       "         3.2739e-04, 2.5372e-02, 7.9118e-03],\n",
       "        [1.0776e-01, 1.8780e-02, 1.7646e-02, 1.4369e-02, 2.3948e-02, 1.6637e-02,\n",
       "         4.2854e-03, 5.5458e-03, 2.1553e-02, 8.6967e-03, 2.0166e-03, 8.5707e-03,\n",
       "         7.8019e-02, 3.2896e-02, 3.0388e-01, 1.4495e-02, 1.1974e-02, 3.7812e-04,\n",
       "         1.3348e-01, 6.3524e-02, 1.4873e-02, 3.4661e-02, 2.2183e-02, 1.4369e-02,\n",
       "         5.6718e-03, 1.2982e-02, 6.8062e-03],\n",
       "        [3.2164e-02, 2.0370e-01, 1.9493e-03, 9.7466e-04, 0.0000e+00, 1.9201e-01,\n",
       "         9.7466e-04, 0.0000e+00, 1.9883e-01, 5.9454e-02, 9.7466e-04, 9.7466e-04,\n",
       "         1.5595e-02, 9.7466e-04, 9.7466e-04, 5.7505e-02, 3.8012e-02, 0.0000e+00,\n",
       "         1.4717e-01, 1.5595e-02, 1.6569e-02, 3.8986e-03, 0.0000e+00, 0.0000e+00,\n",
       "         0.0000e+00, 1.1696e-02, 0.0000e+00],\n",
       "        [1.0294e-01, 4.7794e-02, 0.0000e+00, 0.0000e+00, 0.0000e+00, 3.6765e-03,\n",
       "         0.0000e+00, 0.0000e+00, 0.0000e+00, 4.7794e-02, 0.0000e+00, 0.0000e+00,\n",
       "         3.6765e-03, 7.3529e-03, 0.0000e+00, 7.3529e-03, 0.0000e+00, 0.0000e+00,\n",
       "         3.6765e-03, 7.3529e-03, 0.0000e+00, 7.5735e-01, 0.0000e+00, 1.1029e-02,\n",
       "         0.0000e+00, 0.0000e+00, 0.0000e+00],\n",
       "        [1.0843e-01, 1.8551e-01, 3.2283e-03, 7.7953e-03, 1.4724e-02, 1.3362e-01,\n",
       "         7.0866e-04, 5.9843e-03, 9.5276e-03, 2.3882e-01, 1.9685e-03, 7.0866e-03,\n",
       "         3.2520e-02, 1.2756e-02, 1.1024e-02, 6.8425e-02, 1.1024e-03, 1.2598e-03,\n",
       "         3.3465e-02, 1.4961e-02, 1.6378e-02, 1.9843e-02, 6.2992e-03, 1.6535e-03,\n",
       "         2.3622e-04, 6.0866e-02, 1.8110e-03],\n",
       "        [1.4421e-01, 1.4816e-01, 2.5907e-03, 7.4019e-03, 1.1103e-03, 1.0906e-01,\n",
       "         2.4673e-04, 2.4673e-04, 1.5852e-01, 8.4382e-02, 2.4673e-04, 1.0116e-02,\n",
       "         3.4419e-02, 1.1103e-02, 2.9608e-03, 6.5507e-02, 6.2916e-03, 1.2337e-04,\n",
       "         6.7851e-03, 5.6871e-02, 9.4375e-02, 2.2823e-02, 1.7271e-03, 2.9608e-03,\n",
       "         0.0000e+00, 2.6524e-02, 1.2337e-03],\n",
       "        [8.6715e-02, 1.8438e-01, 1.7953e-04, 3.0521e-03, 0.0000e+00, 1.2855e-01,\n",
       "         3.5907e-04, 3.5907e-04, 1.1616e-01, 9.5512e-02, 5.3860e-04, 0.0000e+00,\n",
       "         2.4057e-02, 7.1813e-04, 3.9497e-03, 1.1975e-01, 0.0000e+00, 0.0000e+00,\n",
       "         6.3196e-02, 6.2837e-03, 6.7145e-02, 1.4004e-02, 2.6930e-03, 1.9749e-03,\n",
       "         3.5907e-04, 6.1221e-02, 1.8851e-02],\n",
       "        [4.9442e-02, 5.1994e-02, 3.2855e-02, 3.2855e-02, 4.3381e-02, 5.3907e-02,\n",
       "         6.0606e-03, 1.4992e-02, 1.8501e-02, 3.8596e-02, 4.4657e-03, 2.9665e-02,\n",
       "         9.6013e-02, 4.9123e-02, 8.7719e-02, 3.1898e-03, 5.1037e-03, 3.1898e-03,\n",
       "         1.3206e-01, 1.5120e-01, 2.6156e-02, 9.5694e-04, 1.1802e-02, 2.7432e-02,\n",
       "         1.0845e-02, 4.1467e-03, 1.4354e-02],\n",
       "        [3.4201e-02, 2.4951e-01, 3.8865e-04, 0.0000e+00, 3.8865e-04, 2.2075e-01,\n",
       "         0.0000e+00, 0.0000e+00, 3.8865e-04, 3.5406e-01, 0.0000e+00, 1.1660e-03,\n",
       "         5.4411e-03, 0.0000e+00, 3.1092e-03, 5.9464e-02, 0.0000e+00, 0.0000e+00,\n",
       "         1.8655e-02, 0.0000e+00, 0.0000e+00, 2.7206e-03, 2.7206e-03, 0.0000e+00,\n",
       "         0.0000e+00, 4.7027e-02, 0.0000e+00],\n",
       "        [5.4898e-02, 3.0140e-01, 1.0764e-03, 0.0000e+00, 8.6114e-03, 1.6039e-01,\n",
       "         2.1529e-03, 1.0764e-03, 2.4758e-02, 1.5931e-01, 0.0000e+00, 6.4586e-03,\n",
       "         1.3994e-02, 2.1529e-03, 6.2433e-02, 3.8751e-02, 0.0000e+00, 0.0000e+00,\n",
       "         2.3681e-02, 2.1529e-02, 8.6114e-03, 2.6911e-02, 0.0000e+00, 2.1529e-03,\n",
       "         0.0000e+00, 7.8579e-02, 1.0764e-03],\n",
       "        [2.3529e-01, 1.4778e-01, 1.4347e-03, 5.7389e-03, 7.1736e-03, 5.1650e-02,\n",
       "         4.3042e-03, 0.0000e+00, 1.4347e-03, 1.4634e-01, 0.0000e+00, 0.0000e+00,\n",
       "         5.5954e-02, 1.4347e-03, 1.4347e-03, 5.8824e-02, 0.0000e+00, 0.0000e+00,\n",
       "         0.0000e+00, 4.4476e-02, 1.0043e-01, 7.1736e-03, 0.0000e+00, 4.3042e-03,\n",
       "         5.4519e-02, 4.3042e-02, 2.7260e-02],\n",
       "        [2.0530e-01, 2.1921e-01, 2.7619e-03, 1.1764e-02, 2.7823e-02, 3.0790e-02,\n",
       "         1.2275e-03, 3.0687e-03, 2.2504e-03, 1.9640e-02, 2.3527e-03, 8.7971e-03,\n",
       "         1.1293e-01, 1.5139e-02, 1.8678e-01, 2.7721e-02, 1.5344e-03, 6.1375e-04,\n",
       "         2.9767e-02, 4.1019e-02, 1.0638e-02, 1.4423e-02, 1.0843e-02, 4.0917e-04,\n",
       "         2.8642e-03, 2.3527e-03, 7.9787e-03],\n",
       "        [6.6722e-02, 3.5863e-01, 1.6681e-03, 8.3403e-04, 8.3403e-04, 1.5555e-01,\n",
       "         0.0000e+00, 4.1701e-04, 1.7932e-02, 1.5179e-01, 8.3403e-04, 8.3403e-04,\n",
       "         5.1293e-02, 1.4595e-02, 1.6681e-03, 4.5872e-02, 8.3403e-04, 0.0000e+00,\n",
       "         1.3344e-02, 1.6681e-03, 1.6681e-03, 3.0442e-02, 8.3403e-04, 1.2510e-03,\n",
       "         4.1701e-04, 6.1301e-02, 1.8766e-02]])"
      ]
     },
     "execution_count": 15,
     "metadata": {},
     "output_type": "execute_result"
    }
   ],
   "execution_count": 15
  },
  {
   "metadata": {
    "ExecuteTime": {
     "end_time": "2025-06-12T15:31:54.484749Z",
     "start_time": "2025-06-12T15:31:54.480525Z"
    }
   },
   "cell_type": "code",
   "source": [
    "for i in range(5):\n",
    "    ix = 0\n",
    "    out = []\n",
    "    while True:\n",
    "        ix = torch.multinomial(Pbi[ix], 1, True).item()\n",
    "        if ix == 0:\n",
    "            break\n",
    "        out.append(itos[ix])\n",
    "    print(*out, sep=\"\")"
   ],
   "id": "1491394fdfb622db",
   "outputs": [
    {
     "name": "stdout",
     "output_type": "stream",
     "text": [
      "yn\n",
      "li\n",
      "konnacerindilezly\n",
      "kostaarmaryananil\n",
      "egrucel\n"
     ]
    }
   ],
   "execution_count": 16
  },
  {
   "metadata": {
    "ExecuteTime": {
     "end_time": "2025-06-12T15:31:54.586410Z",
     "start_time": "2025-06-12T15:31:54.583323Z"
    }
   },
   "cell_type": "code",
   "source": "Pbi[0]",
   "id": "d2fbf20f372852a1",
   "outputs": [
    {
     "data": {
      "text/plain": [
       "tensor([0.0000, 0.1377, 0.0408, 0.0481, 0.0528, 0.0478, 0.0130, 0.0209, 0.0273,\n",
       "        0.0184, 0.0756, 0.0925, 0.0491, 0.0792, 0.0358, 0.0123, 0.0161, 0.0029,\n",
       "        0.0512, 0.0642, 0.0408, 0.0024, 0.0117, 0.0096, 0.0042, 0.0167, 0.0290])"
      ]
     },
     "execution_count": 17,
     "metadata": {},
     "output_type": "execute_result"
    }
   ],
   "execution_count": 17
  },
  {
   "metadata": {
    "ExecuteTime": {
     "end_time": "2025-06-12T15:31:54.779073Z",
     "start_time": "2025-06-12T15:31:54.651236Z"
    }
   },
   "cell_type": "code",
   "source": [
    "# loss\n",
    "nll = 0.\n",
    "n = 0\n",
    "for w in words_dev:\n",
    "    word = \".\" + w + \".\"\n",
    "    for ch1, ch2 in zip(word, word[1:]):\n",
    "        probs = Pbi[stoi[ch1], stoi[ch2]]\n",
    "        nll += -probs.log()\n",
    "        n += 1\n",
    "print(f\"{nll=}, {nll/n}\")"
   ],
   "id": "253996cca68723b4",
   "outputs": [
    {
     "name": "stdout",
     "output_type": "stream",
     "text": [
      "nll=tensor(111505.2109), 2.449479579925537\n"
     ]
    }
   ],
   "execution_count": 18
  },
  {
   "metadata": {},
   "cell_type": "markdown",
   "source": [
    "## Single Neuron Prediction\n",
    "Bi-gram"
   ],
   "id": "b78900eeebf60343"
  },
  {
   "metadata": {
    "ExecuteTime": {
     "end_time": "2025-06-12T15:31:54.841141Z",
     "start_time": "2025-06-12T15:31:54.793843Z"
    }
   },
   "cell_type": "code",
   "source": [
    "xs, ys = [], []\n",
    "for w in words:\n",
    "    word = '.' + w + '.'\n",
    "    for x, y in zip(word, word[1:]):\n",
    "        xs.append(stoi[x])\n",
    "        ys.append(stoi[y])\n",
    "xs[:5], ys[:5]"
   ],
   "id": "660876cef374007b",
   "outputs": [
    {
     "data": {
      "text/plain": [
       "([0, 5, 13, 13, 1], [5, 13, 13, 1, 0])"
      ]
     },
     "execution_count": 19,
     "metadata": {},
     "output_type": "execute_result"
    }
   ],
   "execution_count": 19
  },
  {
   "metadata": {
    "ExecuteTime": {
     "end_time": "2025-06-12T15:31:54.896829Z",
     "start_time": "2025-06-12T15:31:54.865138Z"
    }
   },
   "cell_type": "code",
   "source": [
    "import torch.nn.functional as F\n",
    "\n",
    "xenc = F.one_hot(torch.tensor(xs), num_classes=27).float()\n",
    "xenc.dtype"
   ],
   "id": "2b37e45d6c6fc3d",
   "outputs": [
    {
     "data": {
      "text/plain": [
       "torch.float32"
      ]
     },
     "execution_count": 20,
     "metadata": {},
     "output_type": "execute_result"
    }
   ],
   "execution_count": 20
  },
  {
   "metadata": {
    "ExecuteTime": {
     "end_time": "2025-06-12T15:31:54.953330Z",
     "start_time": "2025-06-12T15:31:54.949025Z"
    }
   },
   "cell_type": "code",
   "source": [
    "W = torch.randn((27, 27), requires_grad=True)\n",
    "W.shape"
   ],
   "id": "ac8dddfde49c2613",
   "outputs": [
    {
     "data": {
      "text/plain": [
       "torch.Size([27, 27])"
      ]
     },
     "execution_count": 21,
     "metadata": {},
     "output_type": "execute_result"
    }
   ],
   "execution_count": 21
  },
  {
   "metadata": {
    "ExecuteTime": {
     "end_time": "2025-06-12T15:31:55.830593Z",
     "start_time": "2025-06-12T15:31:55.003712Z"
    }
   },
   "cell_type": "code",
   "source": [
    "for i in range(20):\n",
    "    logits = xenc @ W\n",
    "    counts = logits.exp()\n",
    "    probs = counts / counts.sum(1, keepdim=True)\n",
    "\n",
    "    loss = -probs[torch.arange(len(xs)), ys].log().mean()\n",
    "    print(i+1, loss.item(), sep=\": \")\n",
    "\n",
    "    W.grad = None\n",
    "    loss.backward()\n",
    "    W.data -= 50 * W.grad\n"
   ],
   "id": "c93fed78d697694c",
   "outputs": [
    {
     "name": "stdout",
     "output_type": "stream",
     "text": [
      "1: 3.6826417446136475\n",
      "2: 3.3336760997772217\n",
      "3: 3.1303117275238037\n",
      "4: 3.0052669048309326\n",
      "5: 2.914548873901367\n",
      "6: 2.8463351726531982\n",
      "7: 2.794785499572754\n",
      "8: 2.7553188800811768\n",
      "9: 2.7243497371673584\n",
      "10: 2.6992852687835693\n",
      "11: 2.6784093379974365\n",
      "12: 2.660627841949463\n",
      "13: 2.6452343463897705\n",
      "14: 2.6317496299743652\n",
      "15: 2.619833469390869\n",
      "16: 2.609232187271118\n",
      "17: 2.599748134613037\n",
      "18: 2.5912230014801025\n",
      "19: 2.5835280418395996\n",
      "20: 2.576554298400879\n"
     ]
    }
   ],
   "execution_count": 22
  },
  {
   "metadata": {
    "ExecuteTime": {
     "end_time": "2025-06-12T15:31:55.856362Z",
     "start_time": "2025-06-12T15:31:55.851466Z"
    }
   },
   "cell_type": "code",
   "source": [
    "g = torch.Generator().manual_seed(2147483647)\n",
    "\n",
    "out = [\".\"]\n",
    "while True:\n",
    "    ix = stoi[out[-1]]\n",
    "    x = F.one_hot(torch.tensor([ix]), num_classes=27).float()\n",
    "    logits = x @ W\n",
    "    count = logits.exp()\n",
    "    prob = count / count.sum(1, keepdim=True)\n",
    "    pred = prob.multinomial(num_samples=1, replacement=True, generator=g)\n",
    "    out.append(itos[pred.item()])\n",
    "    if out[-1] == \".\":\n",
    "        break\n",
    "print(*out, sep=\"\")"
   ],
   "id": "2eefb7c3431600fd",
   "outputs": [
    {
     "name": "stdout",
     "output_type": "stream",
     "text": [
      ".cexza.\n"
     ]
    }
   ],
   "execution_count": 23
  },
  {
   "metadata": {},
   "cell_type": "markdown",
   "source": "Tri-gram",
   "id": "58d596d8b717ca01"
  },
  {
   "metadata": {
    "ExecuteTime": {
     "end_time": "2025-06-12T15:31:55.893323Z",
     "start_time": "2025-06-12T15:31:55.891134Z"
    }
   },
   "cell_type": "code",
   "source": [
    "sstoi = {}\n",
    "\n",
    "n = 0\n",
    "for i in range(27):\n",
    "    for j in range(27):\n",
    "        sstoi[(i, j)] = n\n",
    "        n += 1"
   ],
   "id": "816495a00558c731",
   "outputs": [],
   "execution_count": 24
  },
  {
   "metadata": {
    "ExecuteTime": {
     "end_time": "2025-06-12T15:31:55.989230Z",
     "start_time": "2025-06-12T15:31:55.929054Z"
    }
   },
   "cell_type": "code",
   "source": [
    "xss = []\n",
    "ys = []\n",
    "\n",
    "for w in words:\n",
    "    word = \"..\" + w + \".\"\n",
    "    for c1, c2, c3 in zip(word, word[1:], word[2:]):\n",
    "        xss.append(sstoi[(stoi[c1], stoi[c2])])\n",
    "        ys.append(stoi[c3])"
   ],
   "id": "5dc6594d1a27789",
   "outputs": [],
   "execution_count": 25
  },
  {
   "metadata": {
    "ExecuteTime": {
     "end_time": "2025-06-12T15:31:56.538493Z",
     "start_time": "2025-06-12T15:31:56.007775Z"
    }
   },
   "cell_type": "code",
   "source": [
    "xs = F.one_hot(torch.tensor(xss), num_classes=n).float()\n",
    "W = torch.randn([729, 27], requires_grad=True)"
   ],
   "id": "32e28d0854127d38",
   "outputs": [],
   "execution_count": 26
  },
  {
   "metadata": {
    "ExecuteTime": {
     "end_time": "2025-06-12T15:31:57.480132Z",
     "start_time": "2025-06-12T15:31:56.562203Z"
    }
   },
   "cell_type": "code",
   "source": [
    "\n",
    "for i in range(10):\n",
    "    logits = xs @ W\n",
    "    counts = logits.exp()\n",
    "    probs = counts / counts.sum(1, keepdim=True)\n",
    "\n",
    "    loss = -probs[torch.arange(len(xs)), ys].log().mean()\n",
    "    print(i, loss, sep=\": \")\n",
    "    W.grad = None\n",
    "    loss.backward()\n",
    "    W.data -= 50 * W.grad\n"
   ],
   "id": "2d56a5a1f798ece4",
   "outputs": [
    {
     "name": "stdout",
     "output_type": "stream",
     "text": [
      "0: tensor(3.7340, grad_fn=<NegBackward0>)\n",
      "1: tensor(3.6505, grad_fn=<NegBackward0>)\n",
      "2: tensor(3.5822, grad_fn=<NegBackward0>)\n",
      "3: tensor(3.5218, grad_fn=<NegBackward0>)\n",
      "4: tensor(3.4673, grad_fn=<NegBackward0>)\n",
      "5: tensor(3.4172, grad_fn=<NegBackward0>)\n",
      "6: tensor(3.3707, grad_fn=<NegBackward0>)\n",
      "7: tensor(3.3275, grad_fn=<NegBackward0>)\n",
      "8: tensor(3.2871, grad_fn=<NegBackward0>)\n",
      "9: tensor(3.2495, grad_fn=<NegBackward0>)\n"
     ]
    }
   ],
   "execution_count": 27
  },
  {
   "metadata": {
    "ExecuteTime": {
     "end_time": "2025-06-12T15:31:57.504632Z",
     "start_time": "2025-06-12T15:31:57.502689Z"
    }
   },
   "cell_type": "code",
   "source": "out = [\".\", \".\"]",
   "id": "f3f8eaaaaa398373",
   "outputs": [],
   "execution_count": 28
  },
  {
   "metadata": {
    "ExecuteTime": {
     "end_time": "2025-06-12T15:31:57.542673Z",
     "start_time": "2025-06-12T15:31:57.539830Z"
    }
   },
   "cell_type": "code",
   "source": "xs.shape",
   "id": "96c4453649e24c78",
   "outputs": [
    {
     "data": {
      "text/plain": [
       "torch.Size([228146, 729])"
      ]
     },
     "execution_count": 29,
     "metadata": {},
     "output_type": "execute_result"
    }
   ],
   "execution_count": 29
  },
  {
   "metadata": {
    "ExecuteTime": {
     "end_time": "2025-06-12T15:31:57.587886Z",
     "start_time": "2025-06-12T15:31:57.584765Z"
    }
   },
   "cell_type": "code",
   "source": [
    "t = torch.tensor([[1, 2, 3], [12, 13, 14]])\n",
    "s = torch.tensor([[1, 2], [2, 3], [3, 4]])\n",
    "t @ s"
   ],
   "id": "f8b2c41941148aa3",
   "outputs": [
    {
     "data": {
      "text/plain": [
       "tensor([[ 14,  20],\n",
       "        [ 80, 119]])"
      ]
     },
     "execution_count": 30,
     "metadata": {},
     "output_type": "execute_result"
    }
   ],
   "execution_count": 30
  },
  {
   "metadata": {
    "ExecuteTime": {
     "end_time": "2025-06-12T15:31:57.656291Z",
     "start_time": "2025-06-12T15:31:57.651566Z"
    }
   },
   "cell_type": "code",
   "source": [
    "out = ['.', '.']\n",
    "while True:\n",
    "    ix = sstoi[(stoi[out[-2]], stoi[out[-1]])]\n",
    "    x = F.one_hot(torch.tensor([ix]), num_classes=n).float()\n",
    "    logits = x @ W\n",
    "    count = logits.exp()\n",
    "    probs = count / count.sum(1, keepdim=True)\n",
    "    pred = probs.multinomial(1, True).item()\n",
    "    out.append(itos[pred])\n",
    "    if out[-1] == '.':\n",
    "        break\n",
    "print(*out, sep=\"\")"
   ],
   "id": "d5deceb6b7a52071",
   "outputs": [
    {
     "name": "stdout",
     "output_type": "stream",
     "text": [
      "..cr.\n"
     ]
    }
   ],
   "execution_count": 31
  },
  {
   "metadata": {},
   "cell_type": "markdown",
   "source": [
    "### 1x54 approach\n",
    "TODO"
   ],
   "id": "ed082d66b76194c"
  },
  {
   "metadata": {
    "ExecuteTime": {
     "end_time": "2025-06-12T15:36:08.285860Z",
     "start_time": "2025-06-12T15:35:39.235018Z"
    }
   },
   "cell_type": "code",
   "source": [
    "xs = []\n",
    "ys = []\n",
    "for w in words:\n",
    "    word = \"..\" + w + \".\"\n",
    "    for c1, c2, c3 in zip(word, word[1:], word[2:]):\n",
    "        ys.append(stoi[c3])\n",
    "        x1 = list(F.one_hot(torch.tensor(stoi[c1]), num_classes=27).data)\n",
    "        x1.extend(list(F.one_hot(torch.tensor(stoi[c2]), num_classes=27).data))\n",
    "        xs.append(x1)\n",
    "        # print(len(xs[len(xs)-1]))\n",
    "\n",
    "\n",
    "# print(xs[0])\n",
    "# xs_f = torch.tensor([xs])\n",
    "ys = torch.tensor(ys)\n",
    "xs = torch.tensor(xs).float()\n"
   ],
   "id": "55c61cd66ae6dab2",
   "outputs": [],
   "execution_count": 46
  },
  {
   "metadata": {
    "ExecuteTime": {
     "end_time": "2025-06-12T15:36:08.463027Z",
     "start_time": "2025-06-12T15:36:08.441394Z"
    }
   },
   "cell_type": "code",
   "source": "x1[:5]",
   "id": "89ab5a1a6bcfed07",
   "outputs": [
    {
     "data": {
      "text/plain": [
       "[tensor(0), tensor(0), tensor(0), tensor(0), tensor(0)]"
      ]
     },
     "execution_count": 47,
     "metadata": {},
     "output_type": "execute_result"
    }
   ],
   "execution_count": 47
  },
  {
   "metadata": {},
   "cell_type": "markdown",
   "source": [
    "x1 -> 27\n",
    "\n",
    "x2 -> 27\n",
    "\n",
    "x1 + x2 -> 54\n",
    "\n",
    "[[54], [54], ...]"
   ],
   "id": "a54250b372fb5e2"
  },
  {
   "metadata": {
    "ExecuteTime": {
     "end_time": "2025-06-12T15:36:08.563966Z",
     "start_time": "2025-06-12T15:36:08.557045Z"
    }
   },
   "cell_type": "code",
   "source": "W = torch.randn((54, 27), requires_grad=True)",
   "id": "98d3115cacd67723",
   "outputs": [],
   "execution_count": 48
  },
  {
   "metadata": {
    "ExecuteTime": {
     "end_time": "2025-06-12T15:37:42.598748Z",
     "start_time": "2025-06-12T15:37:42.134036Z"
    }
   },
   "cell_type": "code",
   "source": [
    "for i in range(20):\n",
    "    logits = xs @ W\n",
    "    counts = logits.exp()\n",
    "    probs = counts / counts.sum(1, keepdim=True)\n",
    "    loss = -probs[torch.arange(len(xs)), ys].log().mean() # TODO: IMPORTANT. loss function is wrong\n",
    "    print(i+1, loss, sep=\": \")\n",
    "\n",
    "\n",
    "    W.grad = None\n",
    "    loss.backward()\n",
    "    W.data -= 15 * W.grad\n",
    "# 2.3460"
   ],
   "id": "8deaf1fda824b240",
   "outputs": [
    {
     "name": "stdout",
     "output_type": "stream",
     "text": [
      "1: tensor(2.3463, grad_fn=<NegBackward0>)\n",
      "2: tensor(2.3463, grad_fn=<NegBackward0>)\n",
      "3: tensor(2.3462, grad_fn=<NegBackward0>)\n",
      "4: tensor(2.3462, grad_fn=<NegBackward0>)\n",
      "5: tensor(2.3462, grad_fn=<NegBackward0>)\n",
      "6: tensor(2.3462, grad_fn=<NegBackward0>)\n",
      "7: tensor(2.3462, grad_fn=<NegBackward0>)\n",
      "8: tensor(2.3462, grad_fn=<NegBackward0>)\n",
      "9: tensor(2.3461, grad_fn=<NegBackward0>)\n",
      "10: tensor(2.3461, grad_fn=<NegBackward0>)\n",
      "11: tensor(2.3461, grad_fn=<NegBackward0>)\n",
      "12: tensor(2.3461, grad_fn=<NegBackward0>)\n",
      "13: tensor(2.3461, grad_fn=<NegBackward0>)\n",
      "14: tensor(2.3461, grad_fn=<NegBackward0>)\n",
      "15: tensor(2.3460, grad_fn=<NegBackward0>)\n",
      "16: tensor(2.3460, grad_fn=<NegBackward0>)\n",
      "17: tensor(2.3460, grad_fn=<NegBackward0>)\n",
      "18: tensor(2.3460, grad_fn=<NegBackward0>)\n",
      "19: tensor(2.3460, grad_fn=<NegBackward0>)\n",
      "20: tensor(2.3460, grad_fn=<NegBackward0>)\n"
     ]
    }
   ],
   "execution_count": 78
  },
  {
   "metadata": {
    "ExecuteTime": {
     "end_time": "2025-06-12T15:38:01.271338Z",
     "start_time": "2025-06-12T15:38:01.267229Z"
    }
   },
   "cell_type": "code",
   "source": "xs.shape",
   "id": "87092355f59981e3",
   "outputs": [
    {
     "data": {
      "text/plain": [
       "torch.Size([228146, 54])"
      ]
     },
     "execution_count": 79,
     "metadata": {},
     "output_type": "execute_result"
    }
   ],
   "execution_count": 79
  },
  {
   "metadata": {
    "ExecuteTime": {
     "end_time": "2025-06-12T15:31:58.033262Z",
     "start_time": "2025-06-09T09:06:40.056640Z"
    }
   },
   "cell_type": "code",
   "source": [
    "# generator\n",
    "\n",
    "for w in words:\n",
    "    word = \"..\" + w + \".\"\n",
    "    n = 0\n",
    "    for c1, c2, c3 in zip(word, word[1:], word[2:]):\n",
    "        x = list(F.one_hot(stoi[c1]).data)\n",
    "        x.extend(list(F.one_hot(stoi[c1]).data))\n",
    "        logits = x @ W\n",
    "        counts = logits.exp()\n",
    "        probs = counts / counts.sum(1, keepdim=True)\n",
    "\n",
    "        # multinomial function to pick one\n",
    "        ix = probs.multinomial(num_samples=1, replacement=True)\n",
    "\n",
    "    break\n",
    "\n"
   ],
   "id": "f629b37b8bfb5d74",
   "outputs": [],
   "execution_count": null
  },
  {
   "metadata": {},
   "cell_type": "code",
   "outputs": [],
   "execution_count": null,
   "source": "",
   "id": "aef85c5b55c33bdf"
  }
 ],
 "metadata": {
  "kernelspec": {
   "display_name": "Python 3",
   "language": "python",
   "name": "python3"
  },
  "language_info": {
   "codemirror_mode": {
    "name": "ipython",
    "version": 2
   },
   "file_extension": ".py",
   "mimetype": "text/x-python",
   "name": "python",
   "nbconvert_exporter": "python",
   "pygments_lexer": "ipython2",
   "version": "2.7.6"
  }
 },
 "nbformat": 4,
 "nbformat_minor": 5
}
