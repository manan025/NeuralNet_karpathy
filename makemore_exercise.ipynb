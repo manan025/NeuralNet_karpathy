{
 "cells": [
  {
   "metadata": {},
   "cell_type": "markdown",
   "source": "# E01",
   "id": "9821fd641ad7db1a"
  },
  {
   "metadata": {},
   "cell_type": "markdown",
   "source": [
    "## Approach\n",
    "Find ix given the last two characters."
   ],
   "id": "12d4acc1cd2266dc"
  },
  {
   "cell_type": "code",
   "id": "initial_id",
   "metadata": {
    "collapsed": true,
    "ExecuteTime": {
     "end_time": "2025-06-13T09:06:48.992897Z",
     "start_time": "2025-06-13T09:06:48.153553Z"
    }
   },
   "source": [
    "from operator import concat\n",
    "\n",
    "import torch"
   ],
   "outputs": [],
   "execution_count": 1
  },
  {
   "metadata": {
    "ExecuteTime": {
     "end_time": "2025-06-13T09:06:49.059759Z",
     "start_time": "2025-06-13T09:06:49.054901Z"
    }
   },
   "cell_type": "code",
   "source": [
    "words = list(open('names.txt', 'r').read().splitlines())\n",
    "words[:3]"
   ],
   "id": "c873c3efd97d5c9f",
   "outputs": [
    {
     "data": {
      "text/plain": [
       "['emma', 'olivia', 'ava']"
      ]
     },
     "execution_count": 2,
     "metadata": {},
     "output_type": "execute_result"
    }
   ],
   "execution_count": 2
  },
  {
   "metadata": {
    "ExecuteTime": {
     "end_time": "2025-06-13T09:06:49.075749Z",
     "start_time": "2025-06-13T09:06:49.068337Z"
    }
   },
   "cell_type": "code",
   "source": [
    "l = ['.'] + sorted(set(i for w in words for i in w))\n",
    "stoi = {s: i for i, s in enumerate(l)}\n",
    "itos = {i: s for i, s in enumerate(l)}"
   ],
   "id": "d75349ea7b7c5010",
   "outputs": [],
   "execution_count": 3
  },
  {
   "metadata": {
    "ExecuteTime": {
     "end_time": "2025-06-13T09:06:49.144613Z",
     "start_time": "2025-06-13T09:06:49.089989Z"
    }
   },
   "cell_type": "code",
   "source": [
    "# E02\n",
    "idx = torch.randint(high=len(words), size=(len(words),))\n",
    "split_test = int(.8 * len(words))\n",
    "idx_test = idx[:split_test]\n",
    "idx_dev = idx[split_test: ]\n",
    "\n",
    "words_test = [words[i] for i in idx_test]\n",
    "words_dev = [words[i] for i in idx_dev]\n"
   ],
   "id": "392c2e1b7f28f9c8",
   "outputs": [],
   "execution_count": 4
  },
  {
   "metadata": {
    "ExecuteTime": {
     "end_time": "2025-06-13T09:06:49.933805Z",
     "start_time": "2025-06-13T09:06:49.157726Z"
    }
   },
   "cell_type": "code",
   "source": [
    "N = torch.zeros([27, 27, 27], dtype=torch.int32)\n",
    "for w in words_test:\n",
    "    word = \"..\" + w + \".\"\n",
    "    for c1, c2, c3 in zip(word, word[1:], word[2:]):\n",
    "        N[stoi[c1], stoi[c2], stoi[c3]] += 1\n",
    "N"
   ],
   "id": "e113af3e8dc4d6a",
   "outputs": [
    {
     "data": {
      "text/plain": [
       "tensor([[[   0, 3425, 1025,  ...,  104,  442,  731],\n",
       "         [   0,  143,  165,  ...,   15,  126,  117],\n",
       "         [   0,  134,    0,  ...,    0,    2,    0],\n",
       "         ...,\n",
       "         [   0,   40,    0,  ...,    1,   10,   11],\n",
       "         [   0,  219,    0,  ...,    0,    0,    1],\n",
       "         [   0,  368,    0,  ...,    0,   71,    2]],\n",
       "\n",
       "        [[   0,    0,    0,  ...,    0,    0,    0],\n",
       "         [  36,    0,    2,  ...,    0,   20,    5],\n",
       "         [  31,   24,   19,  ...,    0,    7,    0],\n",
       "         ...,\n",
       "         [   4,    3,    0,  ...,   10,   10,    4],\n",
       "         [ 134,  307,   14,  ...,    0,   13,   29],\n",
       "         [  21,   89,    0,  ...,    0,   11,   16]],\n",
       "\n",
       "        [[   0,    0,    0,  ...,    0,    0,    0],\n",
       "         [  32,    6,    2,  ...,    2,   28,    0],\n",
       "         [   0,    9,    0,  ...,    0,    4,    0],\n",
       "         ...,\n",
       "         [   0,    0,    0,  ...,    0,    0,    0],\n",
       "         [  42,    4,    0,  ...,    0,    0,    0],\n",
       "         [   0,    0,    0,  ...,    0,    0,    0]],\n",
       "\n",
       "        ...,\n",
       "\n",
       "        [[   0,    0,    0,  ...,    0,    0,    0],\n",
       "         [   4,    0,    1,  ...,    0,    7,    0],\n",
       "         [   0,    0,    0,  ...,    0,    1,    0],\n",
       "         ...,\n",
       "         [  12,    1,    0,  ...,    0,    1,    0],\n",
       "         [   4,    2,    0,  ...,    0,    0,    0],\n",
       "         [   0,   15,    0,  ...,    0,    0,    0]],\n",
       "\n",
       "        [[   0,    0,    0,  ...,    0,    0,    0],\n",
       "         [ 589,   41,    9,  ...,    1,    5,   19],\n",
       "         [   1,    1,    0,  ...,    0,    0,    0],\n",
       "         ...,\n",
       "         [  20,    1,    0,  ...,    0,    0,    0],\n",
       "         [   0,   15,    0,  ...,    0,    0,    0],\n",
       "         [   1,   23,    0,  ...,    2,    0,    0]],\n",
       "\n",
       "        [[   0,    0,    0,  ...,    0,    0,    0],\n",
       "         [  70,    9,   35,  ...,    0,   78,    4],\n",
       "         [   0,    0,    0,  ...,    0,    0,    0],\n",
       "         ...,\n",
       "         [   2,    0,    0,  ...,    0,    0,    0],\n",
       "         [  21,   23,    0,  ...,    0,    0,    2],\n",
       "         [   2,   11,    0,  ...,    0,    5,    0]]], dtype=torch.int32)"
      ]
     },
     "execution_count": 5,
     "metadata": {},
     "output_type": "execute_result"
    }
   ],
   "execution_count": 5
  },
  {
   "metadata": {
    "ExecuteTime": {
     "end_time": "2025-06-13T09:06:49.946288Z",
     "start_time": "2025-06-13T09:06:49.943409Z"
    }
   },
   "cell_type": "code",
   "source": "N.shape",
   "id": "c7c9e5ba079d5e1",
   "outputs": [
    {
     "data": {
      "text/plain": [
       "torch.Size([27, 27, 27])"
      ]
     },
     "execution_count": 6,
     "metadata": {},
     "output_type": "execute_result"
    }
   ],
   "execution_count": 6
  },
  {
   "metadata": {
    "ExecuteTime": {
     "end_time": "2025-06-13T09:06:49.981003Z",
     "start_time": "2025-06-13T09:06:49.966336Z"
    }
   },
   "cell_type": "code",
   "source": [
    "N += 1\n",
    "P = N.float()\n",
    "P /= P.sum(2, keepdim=True)\n",
    "P[0]"
   ],
   "id": "eb584a3d02519847",
   "outputs": [
    {
     "data": {
      "text/plain": [
       "tensor([[3.8982e-05, 1.3355e-01, 3.9995e-02, 4.7870e-02, 5.2392e-02, 5.0014e-02,\n",
       "         1.2123e-02, 2.1440e-02, 2.7092e-02, 1.7230e-02, 7.5547e-02, 9.3712e-02,\n",
       "         5.0170e-02, 8.0108e-02, 3.5045e-02, 1.2513e-02, 1.6762e-02, 2.6118e-03,\n",
       "         5.2275e-02, 6.4671e-02, 4.0502e-02, 2.4169e-03, 1.1734e-02, 1.0291e-02,\n",
       "         4.0931e-03, 1.7269e-02, 2.8535e-02],\n",
       "        [2.8969e-04, 4.1715e-02, 4.8088e-02, 6.3731e-03, 8.1402e-02, 1.3905e-02,\n",
       "         5.5041e-03, 3.7659e-03, 1.8830e-02, 3.4762e-02, 5.7937e-03, 2.0857e-02,\n",
       "         1.4687e-01, 8.3140e-02, 1.3499e-01, 3.7659e-03, 2.8969e-03, 1.7381e-03,\n",
       "         1.1472e-01, 4.2584e-02, 2.0278e-02, 3.4762e-02, 5.5910e-02, 1.4484e-03,\n",
       "         4.6350e-03, 3.6790e-02, 3.4183e-02],\n",
       "        [9.5057e-04, 1.2833e-01, 9.5057e-04, 9.5057e-04, 9.5057e-04, 1.9582e-01,\n",
       "         9.5057e-04, 9.5057e-04, 5.7034e-03, 3.0418e-02, 9.5057e-04, 9.5057e-04,\n",
       "         7.3194e-02, 9.5057e-04, 9.5057e-04, 4.9430e-02, 9.5057e-04, 9.5057e-04,\n",
       "         4.8194e-01, 9.5057e-04, 9.5057e-04, 1.5209e-02, 9.5057e-04, 9.5057e-04,\n",
       "         9.5057e-04, 2.8517e-03, 9.5057e-04],\n",
       "        [7.9745e-04, 4.0351e-01, 7.9745e-04, 7.9745e-04, 7.9745e-04, 4.0670e-02,\n",
       "         7.9745e-04, 7.9745e-04, 2.1850e-01, 3.2695e-02, 3.9872e-03, 7.9745e-04,\n",
       "         5.6619e-02, 7.9745e-04, 7.9745e-04, 1.5391e-01, 7.9745e-04, 7.9745e-04,\n",
       "         3.5885e-02, 7.9745e-04, 7.9745e-04, 6.3796e-03, 7.9745e-04, 7.9745e-04,\n",
       "         7.9745e-04, 3.1898e-02, 3.1898e-03],\n",
       "        [7.2993e-04, 4.0438e-01, 7.2993e-04, 7.2993e-04, 7.2993e-04, 3.0584e-01,\n",
       "         7.2993e-04, 7.2993e-04, 2.2628e-02, 8.1022e-02, 3.6496e-03, 7.2993e-04,\n",
       "         2.9197e-03, 1.1679e-02, 2.1898e-03, 6.3504e-02, 7.2993e-04, 7.2993e-04,\n",
       "         4.8905e-02, 1.4599e-03, 7.2993e-04, 2.3358e-02, 1.4599e-03, 3.6496e-03,\n",
       "         7.2993e-04, 1.4599e-02, 7.2993e-04],\n",
       "        [7.6394e-04, 1.3751e-02, 1.0695e-02, 2.2918e-03, 5.8060e-02, 6.1115e-03,\n",
       "         3.8197e-03, 6.1115e-03, 5.3476e-03, 3.2086e-02, 1.5279e-03, 4.5837e-03,\n",
       "         3.0710e-01, 1.9862e-01, 3.1322e-02, 1.5279e-03, 7.6394e-03, 7.6394e-04,\n",
       "         5.4240e-02, 7.1811e-02, 1.0695e-02, 1.7571e-02, 9.6257e-02, 6.1115e-03,\n",
       "         7.6394e-03, 1.2223e-02, 3.1322e-02],\n",
       "        [2.9674e-03, 3.7389e-01, 2.9674e-03, 2.9674e-03, 2.9674e-03, 1.0682e-01,\n",
       "         2.9674e-03, 2.9674e-03, 2.9674e-03, 1.4243e-01, 2.9674e-03, 2.9674e-03,\n",
       "         7.1217e-02, 2.9674e-03, 2.9674e-03, 5.0445e-02, 2.9674e-03, 2.9674e-03,\n",
       "         1.5727e-01, 2.9674e-03, 2.9674e-03, 1.7804e-02, 2.9674e-03, 2.9674e-03,\n",
       "         2.9674e-03, 2.3739e-02, 2.9674e-03],\n",
       "        [1.7361e-03, 1.9965e-01, 1.7361e-03, 1.7361e-03, 1.7361e-03, 1.4757e-01,\n",
       "         1.7361e-03, 1.7361e-03, 1.3889e-02, 1.9792e-01, 1.7361e-03, 1.7361e-03,\n",
       "         1.9097e-02, 1.7361e-03, 1.7361e-03, 3.6458e-02, 1.7361e-03, 1.7361e-03,\n",
       "         2.4826e-01, 1.7361e-03, 1.7361e-03, 6.7708e-02, 1.7361e-03, 3.2986e-02,\n",
       "         1.7361e-03, 6.9444e-03, 1.7361e-03],\n",
       "        [1.3870e-03, 5.6588e-01, 1.3870e-03, 1.3870e-03, 1.3870e-03, 1.5257e-01,\n",
       "         1.3870e-03, 1.3870e-03, 1.3870e-03, 5.1318e-02, 1.3870e-03, 1.3870e-03,\n",
       "         1.3870e-03, 1.3870e-03, 1.3870e-03, 1.1234e-01, 1.3870e-03, 1.3870e-03,\n",
       "         9.7087e-03, 2.7739e-03, 1.3870e-03, 6.9348e-02, 1.3870e-03, 1.3870e-03,\n",
       "         1.3870e-03, 9.7087e-03, 1.3870e-03],\n",
       "        [2.1368e-03, 1.4957e-02, 2.3504e-02, 6.4103e-03, 2.9915e-02, 6.4103e-03,\n",
       "         2.1368e-02, 4.2735e-03, 1.2821e-02, 6.4103e-03, 2.1368e-03, 2.3504e-02,\n",
       "         1.0470e-01, 6.4103e-02, 1.0256e-01, 2.5641e-02, 4.2735e-03, 6.4103e-03,\n",
       "         9.8291e-02, 1.8803e-01, 4.2735e-02, 2.1368e-03, 7.4786e-02, 2.1368e-03,\n",
       "         8.5470e-03, 2.3504e-02, 9.8291e-02],\n",
       "        [5.0916e-04, 5.1069e-01, 5.0916e-04, 1.5275e-03, 1.0183e-03, 1.6701e-01,\n",
       "         5.0916e-04, 5.0916e-04, 1.7821e-02, 2.9532e-02, 1.0183e-03, 1.5275e-03,\n",
       "         2.0367e-03, 5.0916e-04, 5.0916e-04, 1.7668e-01, 1.0183e-03, 5.0916e-04,\n",
       "         3.5642e-03, 1.5275e-03, 1.0183e-03, 7.3320e-02, 1.5275e-03, 5.0916e-04,\n",
       "         5.0916e-04, 4.0733e-03, 5.0916e-04],\n",
       "        [4.1152e-04, 4.2963e-01, 4.1152e-04, 4.1152e-04, 8.2305e-04, 1.9794e-01,\n",
       "         4.1152e-04, 4.1152e-04, 8.0247e-02, 8.1893e-02, 2.0576e-03, 4.1152e-04,\n",
       "         7.4074e-03, 4.1152e-03, 9.8765e-03, 5.8025e-02, 4.1152e-04, 4.1152e-04,\n",
       "         3.2922e-02, 8.2305e-04, 4.1152e-04, 6.1728e-03, 8.2305e-04, 4.5267e-03,\n",
       "         4.1152e-04, 7.8189e-02, 4.1152e-04],\n",
       "        [7.6161e-04, 3.0008e-01, 7.6161e-04, 7.6161e-04, 7.6161e-04, 2.4296e-01,\n",
       "         7.6161e-04, 7.6161e-04, 7.6161e-04, 1.5765e-01, 1.5232e-03, 7.6161e-04,\n",
       "         4.5697e-03, 7.6161e-04, 7.6161e-04, 1.1120e-01, 7.6161e-04, 7.6161e-04,\n",
       "         7.6161e-04, 7.6161e-04, 7.6161e-04, 1.0282e-01, 7.6161e-04, 7.6161e-04,\n",
       "         7.6161e-04, 6.4737e-02, 7.6161e-04],\n",
       "        [4.8054e-04, 5.6271e-01, 4.8054e-04, 2.2585e-02, 9.6108e-04, 1.2206e-01,\n",
       "         4.8054e-04, 4.8054e-04, 9.6108e-04, 1.4656e-01, 1.4416e-03, 4.8054e-04,\n",
       "         4.8054e-04, 4.8054e-04, 4.8054e-04, 7.0159e-02, 4.8054e-04, 4.8054e-04,\n",
       "         4.8054e-04, 4.8054e-04, 4.8054e-04, 2.8352e-02, 4.8054e-04, 4.8054e-04,\n",
       "         4.8054e-04, 3.6040e-02, 4.8054e-04],\n",
       "        [1.0811e-03, 4.1405e-01, 1.0811e-03, 1.0811e-03, 2.1622e-03, 1.4162e-01,\n",
       "         1.0811e-03, 4.3243e-03, 3.2432e-03, 2.0000e-01, 1.0811e-03, 1.0811e-03,\n",
       "         1.0811e-03, 1.0811e-03, 1.0811e-03, 1.1568e-01, 1.0811e-03, 1.0811e-03,\n",
       "         1.0811e-03, 1.0811e-03, 1.0811e-03, 2.1622e-02, 1.0811e-03, 1.0811e-03,\n",
       "         1.0811e-03, 7.5676e-02, 3.2432e-03],\n",
       "        [2.8818e-03, 6.6282e-02, 3.1700e-02, 5.1873e-02, 3.7464e-02, 2.8818e-03,\n",
       "         2.8818e-03, 8.6455e-03, 1.4409e-02, 8.6455e-03, 8.6455e-03, 1.1527e-02,\n",
       "         2.3919e-01, 7.2046e-02, 3.4582e-02, 1.4409e-02, 8.6455e-03, 2.8818e-03,\n",
       "         1.0663e-01, 8.9337e-02, 5.4755e-02, 1.1527e-02, 8.6455e-03, 4.6110e-02,\n",
       "         1.1527e-02, 8.6455e-03, 4.3228e-02],\n",
       "        [2.1930e-03, 3.3333e-01, 2.1930e-03, 2.1930e-03, 2.1930e-03, 1.6667e-01,\n",
       "         4.3860e-03, 2.1930e-03, 7.2368e-02, 7.4561e-02, 2.1930e-03, 2.1930e-03,\n",
       "         4.3860e-03, 2.1930e-03, 2.1930e-03, 5.4825e-02, 2.1930e-03, 2.1930e-03,\n",
       "         2.2807e-01, 6.5789e-03, 2.1930e-03, 6.5789e-03, 2.1930e-03, 2.1930e-03,\n",
       "         2.1930e-03, 1.3158e-02, 2.1930e-03],\n",
       "        [1.0753e-02, 3.2258e-02, 1.0753e-02, 1.0753e-02, 1.0753e-02, 1.0753e-02,\n",
       "         1.0753e-02, 1.0753e-02, 1.0753e-02, 3.2258e-02, 1.0753e-02, 1.0753e-02,\n",
       "         1.0753e-02, 1.0753e-02, 1.0753e-02, 1.0753e-02, 1.0753e-02, 1.0753e-02,\n",
       "         1.0753e-02, 1.0753e-02, 1.0753e-02, 6.5591e-01, 1.0753e-02, 3.2258e-02,\n",
       "         1.0753e-02, 1.0753e-02, 1.0753e-02],\n",
       "        [7.3153e-04, 2.4433e-01, 7.3153e-04, 7.3153e-04, 7.3153e-04, 1.7776e-01,\n",
       "         7.3153e-04, 7.3153e-04, 7.1690e-02, 1.2875e-01, 2.1946e-03, 7.3153e-04,\n",
       "         7.3153e-04, 2.1946e-03, 7.3153e-04, 2.2604e-01, 7.3153e-04, 7.3153e-04,\n",
       "         7.3153e-04, 7.3153e-04, 7.3153e-04, 7.0227e-02, 7.3153e-04, 1.4631e-03,\n",
       "         7.3153e-04, 6.2911e-02, 7.3153e-04],\n",
       "        [5.9347e-04, 2.7062e-01, 5.9347e-04, 1.0682e-02, 5.9347e-04, 8.7834e-02,\n",
       "         5.9347e-04, 5.9347e-04, 2.2374e-01, 9.1395e-02, 5.9347e-04, 2.3145e-02,\n",
       "         8.9021e-03, 2.9674e-03, 3.5608e-03, 7.4777e-02, 1.2463e-02, 5.9347e-04,\n",
       "         7.1217e-03, 5.9347e-04, 6.8249e-02, 6.8843e-02, 4.1543e-03, 7.7151e-03,\n",
       "         5.9347e-04, 2.6706e-02, 1.7804e-03],\n",
       "        [9.3897e-04, 3.2488e-01, 9.3897e-04, 9.3897e-04, 9.3897e-04, 1.3615e-01,\n",
       "         9.3897e-04, 9.3897e-04, 6.1033e-02, 8.3568e-02, 2.8169e-03, 9.3897e-04,\n",
       "         9.3897e-04, 9.3897e-04, 9.3897e-04, 8.7324e-02, 9.3897e-04, 9.3897e-04,\n",
       "         1.6150e-01, 2.8169e-03, 9.3897e-04, 1.0329e-02, 1.8779e-03, 3.7559e-03,\n",
       "         9.3897e-04, 9.6714e-02, 1.4085e-02],\n",
       "        [1.1364e-02, 1.1364e-02, 4.5455e-02, 2.2727e-02, 1.1364e-02, 1.1364e-02,\n",
       "         1.1364e-02, 3.4091e-02, 1.1364e-02, 3.4091e-02, 1.1364e-02, 1.1364e-02,\n",
       "         1.3636e-01, 9.0909e-02, 7.9545e-02, 1.1364e-02, 2.2727e-02, 1.1364e-02,\n",
       "         2.1591e-01, 4.5455e-02, 2.2727e-02, 1.1364e-02, 1.1364e-02, 2.2727e-02,\n",
       "         1.1364e-02, 1.1364e-02, 6.8182e-02],\n",
       "        [3.0581e-03, 2.8135e-01, 3.0581e-03, 3.0581e-03, 3.0581e-03, 2.0795e-01,\n",
       "         3.0581e-03, 3.0581e-03, 3.0581e-03, 3.9144e-01, 3.0581e-03, 3.0581e-03,\n",
       "         1.2232e-02, 3.0581e-03, 3.0581e-03, 1.2232e-02, 3.0581e-03, 3.0581e-03,\n",
       "         3.0581e-03, 3.0581e-03, 3.0581e-03, 6.1162e-03, 3.0581e-03, 3.0581e-03,\n",
       "         3.0581e-03, 2.7523e-02, 3.0581e-03],\n",
       "        [3.4483e-03, 2.3448e-01, 3.4483e-03, 3.4483e-03, 3.4483e-03, 1.5862e-01,\n",
       "         3.4483e-03, 3.4483e-03, 6.8966e-02, 2.6897e-01, 3.4483e-03, 3.4483e-03,\n",
       "         3.4483e-03, 3.4483e-03, 3.4483e-03, 3.1034e-02, 3.4483e-03, 3.4483e-03,\n",
       "         5.5172e-02, 3.4483e-03, 3.4483e-03, 1.3793e-02, 3.4483e-03, 3.4483e-03,\n",
       "         3.4483e-03, 1.0345e-01, 3.4483e-03],\n",
       "        [7.6336e-03, 3.1298e-01, 7.6336e-03, 7.6336e-03, 7.6336e-03, 7.6336e-02,\n",
       "         7.6336e-03, 7.6336e-03, 7.6336e-03, 1.9084e-01, 7.6336e-03, 7.6336e-03,\n",
       "         7.6336e-03, 7.6336e-03, 7.6336e-03, 7.6336e-02, 7.6336e-03, 7.6336e-03,\n",
       "         7.6336e-03, 7.6336e-03, 7.6336e-03, 7.6336e-03, 7.6336e-03, 7.6336e-03,\n",
       "         1.5267e-02, 8.3969e-02, 9.1603e-02],\n",
       "        [2.1322e-03, 4.6908e-01, 2.1322e-03, 2.1322e-03, 2.1322e-03, 1.0874e-01,\n",
       "         2.1322e-03, 2.1322e-03, 2.1322e-03, 7.4627e-02, 2.1322e-03, 2.1322e-03,\n",
       "         8.5288e-03, 2.1322e-03, 4.2644e-03, 1.3646e-01, 2.1322e-03, 2.1322e-03,\n",
       "         2.1322e-03, 1.4925e-02, 2.1322e-03, 1.3433e-01, 8.5288e-03, 2.1322e-03,\n",
       "         2.1322e-03, 2.1322e-03, 4.2644e-03],\n",
       "        [1.3193e-03, 4.8681e-01, 1.3193e-03, 1.3193e-03, 1.3193e-03, 1.3852e-01,\n",
       "         1.3193e-03, 1.3193e-03, 3.6939e-02, 8.5752e-02, 1.3193e-03, 1.3193e-03,\n",
       "         2.6385e-03, 1.3193e-03, 1.3193e-03, 6.9921e-02, 1.3193e-03, 1.3193e-03,\n",
       "         1.3193e-03, 2.6385e-03, 1.3193e-03, 5.5409e-02, 1.3193e-03, 1.3193e-03,\n",
       "         1.3193e-03, 9.4987e-02, 3.9578e-03]])"
      ]
     },
     "execution_count": 7,
     "metadata": {},
     "output_type": "execute_result"
    }
   ],
   "execution_count": 7
  },
  {
   "metadata": {
    "ExecuteTime": {
     "end_time": "2025-06-13T09:06:50.013276Z",
     "start_time": "2025-06-13T09:06:50.007113Z"
    }
   },
   "cell_type": "code",
   "source": [
    "for i in range(10):\n",
    "    ix = 0\n",
    "    out = ['.', '.']\n",
    "    while True:\n",
    "        ix = torch.multinomial(P[stoi[out[-2]], stoi[out[-1]]], 1, replacement=True).item()\n",
    "        if ix == 0:\n",
    "            break\n",
    "        out.append(itos[ix])\n",
    "    print(*out, sep=\"\")"
   ],
   "id": "4c7d19158bffa562",
   "outputs": [
    {
     "name": "stdout",
     "output_type": "stream",
     "text": [
      "..colyn\n",
      "..hxgystelanna\n",
      "..sathm\n",
      "..lethiya\n",
      "..karishtifnpaxpipczpqase\n",
      "..isleeley\n",
      "..ren\n",
      "..davoryel\n",
      "..vana\n",
      "..macarobinenni\n"
     ]
    }
   ],
   "execution_count": 8
  },
  {
   "metadata": {
    "ExecuteTime": {
     "end_time": "2025-06-13T09:06:50.605160Z",
     "start_time": "2025-06-13T09:06:50.047848Z"
    }
   },
   "cell_type": "code",
   "source": [
    "import matplotlib.pyplot as plt\n",
    "\n",
    "plt.imshow(P[0])\n",
    "plt.colorbar()"
   ],
   "id": "dba61a256b16da72",
   "outputs": [
    {
     "data": {
      "text/plain": [
       "<matplotlib.colorbar.Colorbar at 0x122b95dc0>"
      ]
     },
     "execution_count": 9,
     "metadata": {},
     "output_type": "execute_result"
    },
    {
     "data": {
      "text/plain": [
       "<Figure size 640x480 with 2 Axes>"
      ],
      "image/png": "[encoded data removed]"
     },
     "metadata": {},
     "output_type": "display_data"
    }
   ],
   "execution_count": 9
  },
  {
   "metadata": {
    "ExecuteTime": {
     "end_time": "2025-06-13T09:06:50.642659Z",
     "start_time": "2025-06-13T09:06:50.639103Z"
    }
   },
   "cell_type": "code",
   "source": "P[0][0]",
   "id": "3a15aa021064a3c7",
   "outputs": [
    {
     "data": {
      "text/plain": [
       "tensor([3.8982e-05, 1.3355e-01, 3.9995e-02, 4.7870e-02, 5.2392e-02, 5.0014e-02,\n",
       "        1.2123e-02, 2.1440e-02, 2.7092e-02, 1.7230e-02, 7.5547e-02, 9.3712e-02,\n",
       "        5.0170e-02, 8.0108e-02, 3.5045e-02, 1.2513e-02, 1.6762e-02, 2.6118e-03,\n",
       "        5.2275e-02, 6.4671e-02, 4.0502e-02, 2.4169e-03, 1.1734e-02, 1.0291e-02,\n",
       "        4.0931e-03, 1.7269e-02, 2.8535e-02])"
      ]
     },
     "execution_count": 10,
     "metadata": {},
     "output_type": "execute_result"
    }
   ],
   "execution_count": 10
  },
  {
   "metadata": {
    "ExecuteTime": {
     "end_time": "2025-06-13T09:06:50.864199Z",
     "start_time": "2025-06-13T09:06:50.714952Z"
    }
   },
   "cell_type": "code",
   "source": [
    "# loss\n",
    "nll = 0.0\n",
    "n = 0\n",
    "for w in words_dev:\n",
    "    word = \"..\" + w + \".\"\n",
    "    for c1, c2, c3 in zip(word, word[1:], word[2:]):\n",
    "        prob = P[stoi[c1], stoi[c2], stoi[c3]]\n",
    "        nll += -prob.log()\n",
    "        n += 1\n",
    "print(f\"{nll=}, {nll/n}\")"
   ],
   "id": "8f3924c0cb19fdc5",
   "outputs": [
    {
     "name": "stdout",
     "output_type": "stream",
     "text": [
      "nll=tensor(101640.9375), 2.2304842472076416\n"
     ]
    }
   ],
   "execution_count": 11
  },
  {
   "metadata": {},
   "cell_type": "markdown",
   "source": "# E02",
   "id": "8a66364833f1747f"
  },
  {
   "metadata": {
    "ExecuteTime": {
     "end_time": "2025-06-13T09:06:50.898936Z",
     "start_time": "2025-06-13T09:06:50.876307Z"
    }
   },
   "cell_type": "code",
   "source": [
    "idx = torch.randint(high=len(words), size=(len(words),))\n",
    "split_test = int(.8 * len(words))\n",
    "idx_test = idx[:split_test]\n",
    "idx_dev = idx[split_test: ]\n",
    "\n",
    "words_test = [words[i] for i in idx_test]\n",
    "words_dev = [words[i] for i in idx_dev]"
   ],
   "id": "6a52488917b5fdb2",
   "outputs": [],
   "execution_count": 12
  },
  {
   "metadata": {
    "ExecuteTime": {
     "end_time": "2025-06-13T09:06:50.916425Z",
     "start_time": "2025-06-13T09:06:50.908856Z"
    }
   },
   "cell_type": "code",
   "source": "words_dev",
   "id": "43d29edb7ffda727",
   "outputs": [
    {
     "data": {
      "text/plain": [
       "['raelin',\n",
       " 'skye',\n",
       " 'mico',\n",
       " 'adelita',\n",
       " 'shaheer',\n",
       " 'jalia',\n",
       " 'derionna',\n",
       " 'tarah',\n",
       " 'neyla',\n",
       " 'embry',\n",
       " 'miqueas',\n",
       " 'caire',\n",
       " 'tiegan',\n",
       " 'harley',\n",
       " 'loralai',\n",
       " 'mayer',\n",
       " 'mileva',\n",
       " 'trinityrose',\n",
       " 'dalbert',\n",
       " 'khyler',\n",
       " 'ragnar',\n",
       " 'natan',\n",
       " 'eridani',\n",
       " 'jaquay',\n",
       " 'jhonatan',\n",
       " 'kosta',\n",
       " 'yarexi',\n",
       " 'rigdon',\n",
       " 'srihitha',\n",
       " 'millicent',\n",
       " 'kowen',\n",
       " 'madisynn',\n",
       " 'adaira',\n",
       " 'nalla',\n",
       " 'xela',\n",
       " 'olamiposi',\n",
       " 'massimo',\n",
       " 'kamar',\n",
       " 'ifrah',\n",
       " 'wilson',\n",
       " 'daya',\n",
       " 'portlyn',\n",
       " 'catalea',\n",
       " 'arihan',\n",
       " 'naika',\n",
       " 'arbor',\n",
       " 'jayana',\n",
       " 'nyra',\n",
       " 'braileigh',\n",
       " 'aliya',\n",
       " 'danny',\n",
       " 'gulianna',\n",
       " 'felicitas',\n",
       " 'skyleigh',\n",
       " 'honestee',\n",
       " 'jacy',\n",
       " 'dalaya',\n",
       " 'alia',\n",
       " 'samar',\n",
       " 'evers',\n",
       " 'blakelee',\n",
       " 'rhaegar',\n",
       " 'isaack',\n",
       " 'masyn',\n",
       " 'adryel',\n",
       " 'myson',\n",
       " 'makenah',\n",
       " 'ryka',\n",
       " 'leeum',\n",
       " 'damiyah',\n",
       " 'rhenn',\n",
       " 'dutchess',\n",
       " 'kenn',\n",
       " 'merrin',\n",
       " 'avrianna',\n",
       " 'adir',\n",
       " 'sahej',\n",
       " 'amy',\n",
       " 'suhaylah',\n",
       " 'mehdi',\n",
       " 'alissia',\n",
       " 'shamere',\n",
       " 'raia',\n",
       " 'ivori',\n",
       " 'arabela',\n",
       " 'abraxas',\n",
       " 'taysom',\n",
       " 'adeola',\n",
       " 'cartier',\n",
       " 'braysen',\n",
       " 'nathali',\n",
       " 'zamar',\n",
       " 'jalyric',\n",
       " 'alena',\n",
       " 'mirakle',\n",
       " 'kristi',\n",
       " 'cole',\n",
       " 'swan',\n",
       " 'miroslav',\n",
       " 'ozil',\n",
       " 'maleya',\n",
       " 'angelika',\n",
       " 'liviya',\n",
       " 'enzo',\n",
       " 'hakim',\n",
       " 'brelyn',\n",
       " 'nakoma',\n",
       " 'jeison',\n",
       " 'alyjah',\n",
       " 'embry',\n",
       " 'ora',\n",
       " 'artemus',\n",
       " 'paulino',\n",
       " 'tyla',\n",
       " 'renly',\n",
       " 'kaizleigh',\n",
       " 'emersyn',\n",
       " 'maryclaire',\n",
       " 'milee',\n",
       " 'hafiza',\n",
       " 'phoebie',\n",
       " 'fred',\n",
       " 'elyria',\n",
       " 'aryonna',\n",
       " 'oluwatobi',\n",
       " 'tabita',\n",
       " 'ennis',\n",
       " 'talin',\n",
       " 'xzavier',\n",
       " 'karielys',\n",
       " 'kennley',\n",
       " 'dasir',\n",
       " 'kaydee',\n",
       " 'jader',\n",
       " 'winson',\n",
       " 'rosaleah',\n",
       " 'bee',\n",
       " 'maycen',\n",
       " 'ziann',\n",
       " 'kyna',\n",
       " 'madyline',\n",
       " 'andersen',\n",
       " 'avayla',\n",
       " 'findley',\n",
       " 'croix',\n",
       " 'pacey',\n",
       " 'daylynn',\n",
       " 'xaylen',\n",
       " 'kaeo',\n",
       " 'jeramie',\n",
       " 'claudio',\n",
       " 'italia',\n",
       " 'jamar',\n",
       " 'zorawar',\n",
       " 'kallum',\n",
       " 'emilie',\n",
       " 'kharlie',\n",
       " 'dyanna',\n",
       " 'reghan',\n",
       " 'tristian',\n",
       " 'meghana',\n",
       " 'eduar',\n",
       " 'britain',\n",
       " 'logyn',\n",
       " 'zophia',\n",
       " 'lawson',\n",
       " 'analucia',\n",
       " 'zyanya',\n",
       " 'meg',\n",
       " 'aadhyasri',\n",
       " 'aissata',\n",
       " 'knoxlee',\n",
       " 'jamiere',\n",
       " 'londyn',\n",
       " 'passion',\n",
       " 'poe',\n",
       " 'bowden',\n",
       " 'estevan',\n",
       " 'daimon',\n",
       " 'auri',\n",
       " 'anselm',\n",
       " 'yahweh',\n",
       " 'sumaya',\n",
       " 'tyre',\n",
       " 'gigi',\n",
       " 'elianna',\n",
       " 'jett',\n",
       " 'swan',\n",
       " 'cerise',\n",
       " 'leala',\n",
       " 'sherwood',\n",
       " 'samina',\n",
       " 'tyion',\n",
       " 'perrion',\n",
       " 'luken',\n",
       " 'journeigh',\n",
       " 'radha',\n",
       " 'alinea',\n",
       " 'kentavious',\n",
       " 'cordero',\n",
       " 'jerard',\n",
       " 'dimitri',\n",
       " 'jahnae',\n",
       " 'rarity',\n",
       " 'siaosi',\n",
       " 'eldon',\n",
       " 'wynter',\n",
       " 'tirzah',\n",
       " 'leonardo',\n",
       " 'ryley',\n",
       " 'kordell',\n",
       " 'laylanie',\n",
       " 'zeferino',\n",
       " 'tito',\n",
       " 'lexiana',\n",
       " 'graclynn',\n",
       " 'malayiah',\n",
       " 'brier',\n",
       " 'indya',\n",
       " 'karrson',\n",
       " 'tylah',\n",
       " 'millena',\n",
       " 'henrique',\n",
       " 'vihaan',\n",
       " 'dezire',\n",
       " 'wellesley',\n",
       " 'marymargaret',\n",
       " 'markia',\n",
       " 'zoeey',\n",
       " 'jadarrius',\n",
       " 'kahlia',\n",
       " 'antione',\n",
       " 'krishav',\n",
       " 'armaya',\n",
       " 'sima',\n",
       " 'jamol',\n",
       " 'annakate',\n",
       " 'krissy',\n",
       " 'airianna',\n",
       " 'galilea',\n",
       " 'zuleika',\n",
       " 'lilykate',\n",
       " 'jaxlyn',\n",
       " 'arlind',\n",
       " 'chloey',\n",
       " 'jozlynn',\n",
       " 'samaiya',\n",
       " 'jaymin',\n",
       " 'luca',\n",
       " 'zeplyn',\n",
       " 'asuka',\n",
       " 'dolores',\n",
       " 'tenuun',\n",
       " 'malanii',\n",
       " 'antavious',\n",
       " 'ceejay',\n",
       " 'tyke',\n",
       " 'croix',\n",
       " 'mahathi',\n",
       " 'genesi',\n",
       " 'willie',\n",
       " 'elaf',\n",
       " 'avelynn',\n",
       " 'lailany',\n",
       " 'alvina',\n",
       " 'daleysa',\n",
       " 'anahi',\n",
       " 'shyanne',\n",
       " 'zahid',\n",
       " 'jolie',\n",
       " 'parishay',\n",
       " 'envy',\n",
       " 'zolah',\n",
       " 'rajay',\n",
       " 'brandy',\n",
       " 'ifeanyichukwu',\n",
       " 'stanislaw',\n",
       " 'genesis',\n",
       " 'layali',\n",
       " 'rosaisela',\n",
       " 'venancio',\n",
       " 'jazzmine',\n",
       " 'kmya',\n",
       " 'jamaree',\n",
       " 'nancy',\n",
       " 'roran',\n",
       " 'amel',\n",
       " 'domingo',\n",
       " 'miamor',\n",
       " 'dulcinea',\n",
       " 'adalae',\n",
       " 'rosilyn',\n",
       " 'estreya',\n",
       " 'tera',\n",
       " 'erion',\n",
       " 'edoardo',\n",
       " 'vallery',\n",
       " 'reece',\n",
       " 'lestat',\n",
       " 'casten',\n",
       " 'imaan',\n",
       " 'skyleigh',\n",
       " 'lio',\n",
       " 'milly',\n",
       " 'alayssa',\n",
       " 'myrikal',\n",
       " 'fabian',\n",
       " 'jayleen',\n",
       " 'aksha',\n",
       " 'issabelle',\n",
       " 'akhai',\n",
       " 'remeigh',\n",
       " 'lowen',\n",
       " 'kriv',\n",
       " 'tennessee',\n",
       " 'lyons',\n",
       " 'avamae',\n",
       " 'selassie',\n",
       " 'khris',\n",
       " 'kowen',\n",
       " 'elvis',\n",
       " 'zakaiya',\n",
       " 'minah',\n",
       " 'kershaw',\n",
       " 'chayce',\n",
       " 'devyn',\n",
       " 'leeroy',\n",
       " 'lucien',\n",
       " 'aitan',\n",
       " 'zhyair',\n",
       " 'samira',\n",
       " 'zhavia',\n",
       " 'amitai',\n",
       " 'emiline',\n",
       " 'azalyn',\n",
       " 'rwby',\n",
       " 'haizley',\n",
       " 'daymian',\n",
       " 'acey',\n",
       " 'gamal',\n",
       " 'javion',\n",
       " 'myrical',\n",
       " 'brancen',\n",
       " 'aubriel',\n",
       " 'rahman',\n",
       " 'aulani',\n",
       " 'mohammadali',\n",
       " 'loretta',\n",
       " 'humphrey',\n",
       " 'avagrace',\n",
       " 'nikko',\n",
       " 'jraya',\n",
       " 'cody',\n",
       " 'alexandrya',\n",
       " 'jalaiyah',\n",
       " 'bana',\n",
       " 'liza',\n",
       " 'aldin',\n",
       " 'jeremyah',\n",
       " 'breyonna',\n",
       " 'dredyn',\n",
       " 'divine',\n",
       " 'acsa',\n",
       " 'seriyah',\n",
       " 'rylynne',\n",
       " 'miken',\n",
       " 'danthony',\n",
       " 'orlin',\n",
       " 'jozef',\n",
       " 'islay',\n",
       " 'ander',\n",
       " 'batu',\n",
       " 'amer',\n",
       " 'jiyana',\n",
       " 'iqlas',\n",
       " 'jacquelyne',\n",
       " 'haskell',\n",
       " 'mariapaz',\n",
       " 'lyana',\n",
       " 'marycruz',\n",
       " 'caleena',\n",
       " 'coalson',\n",
       " 'swaraj',\n",
       " 'zaydee',\n",
       " 'haneef',\n",
       " 'alyxander',\n",
       " 'raylyn',\n",
       " 'daelon',\n",
       " 'bralyn',\n",
       " 'addy',\n",
       " 'maclynn',\n",
       " 'avanicole',\n",
       " 'gyan',\n",
       " 'cerys',\n",
       " 'kaci',\n",
       " 'jaiyanna',\n",
       " 'kelian',\n",
       " 'yulieth',\n",
       " 'elija',\n",
       " 'elodie',\n",
       " 'ishaanvi',\n",
       " 'caylem',\n",
       " 'niel',\n",
       " 'shubh',\n",
       " 'connor',\n",
       " 'miciah',\n",
       " 'christyan',\n",
       " 'alaina',\n",
       " 'bella',\n",
       " 'ainara',\n",
       " 'jhonny',\n",
       " 'niccolas',\n",
       " 'rateel',\n",
       " 'zahyan',\n",
       " 'alvina',\n",
       " 'sami',\n",
       " 'blas',\n",
       " 'daedalus',\n",
       " 'alarik',\n",
       " 'azrael',\n",
       " 'ilaan',\n",
       " 'ayira',\n",
       " 'fallon',\n",
       " 'ceyda',\n",
       " 'armon',\n",
       " 'ariya',\n",
       " 'sicilia',\n",
       " 'riyan',\n",
       " 'sylvan',\n",
       " 'tiwatope',\n",
       " 'kohlson',\n",
       " 'meiling',\n",
       " 'leyland',\n",
       " 'sarang',\n",
       " 'kaislyn',\n",
       " 'gayle',\n",
       " 'jewelz',\n",
       " 'maidah',\n",
       " 'jaivian',\n",
       " 'dieter',\n",
       " 'rashaan',\n",
       " 'mana',\n",
       " 'yu',\n",
       " 'malahki',\n",
       " 'smayan',\n",
       " 'evalisse',\n",
       " 'caydren',\n",
       " 'sakeena',\n",
       " 'nanette',\n",
       " 'alaila',\n",
       " 'crislynn',\n",
       " 'azalea',\n",
       " 'analie',\n",
       " 'sicily',\n",
       " 'elizah',\n",
       " 'fayga',\n",
       " 'nechama',\n",
       " 'benaiah',\n",
       " 'reanna',\n",
       " 'graciella',\n",
       " 'clarisa',\n",
       " 'catherine',\n",
       " 'yohanes',\n",
       " 'jaseon',\n",
       " 'kalaysia',\n",
       " 'loryn',\n",
       " 'penn',\n",
       " 'dalida',\n",
       " 'tovia',\n",
       " 'steele',\n",
       " 'franz',\n",
       " 'jordanny',\n",
       " 'cashel',\n",
       " 'garett',\n",
       " 'zorie',\n",
       " 'rayland',\n",
       " 'harlei',\n",
       " 'cornelio',\n",
       " 'jasper',\n",
       " 'annecy',\n",
       " 'zailey',\n",
       " 'caliope',\n",
       " 'bento',\n",
       " 'lamonte',\n",
       " 'evana',\n",
       " 'chanze',\n",
       " 'zaydie',\n",
       " 'amour',\n",
       " 'babyboy',\n",
       " 'mawa',\n",
       " 'lou',\n",
       " 'buddy',\n",
       " 'messiah',\n",
       " 'kyrell',\n",
       " 'lorraine',\n",
       " 'kailia',\n",
       " 'abriah',\n",
       " 'davier',\n",
       " 'paytynn',\n",
       " 'naydelin',\n",
       " 'grayer',\n",
       " 'jazell',\n",
       " 'reese',\n",
       " 'torvi',\n",
       " 'orhan',\n",
       " 'deziah',\n",
       " 'collier',\n",
       " 'josian',\n",
       " 'genesee',\n",
       " 'ramiah',\n",
       " 'jaziel',\n",
       " 'dana',\n",
       " 'josep',\n",
       " 'dasean',\n",
       " 'annaliese',\n",
       " 'homer',\n",
       " 'lyniah',\n",
       " 'tabita',\n",
       " 'dionta',\n",
       " 'queenie',\n",
       " 'eliora',\n",
       " 'azori',\n",
       " 'laurelle',\n",
       " 'mosiah',\n",
       " 'tylar',\n",
       " 'madox',\n",
       " 'rajvi',\n",
       " 'khalayah',\n",
       " 'aly',\n",
       " 'andrianna',\n",
       " 'julieanne',\n",
       " 'swar',\n",
       " 'ilina',\n",
       " 'marli',\n",
       " 'amery',\n",
       " 'cruz',\n",
       " 'marylynn',\n",
       " 'alisanne',\n",
       " 'emran',\n",
       " 'jerel',\n",
       " 'toluwanimi',\n",
       " 'ryon',\n",
       " 'maclynn',\n",
       " 'oluwatoni',\n",
       " 'ivana',\n",
       " 'aj',\n",
       " 'ataleigh',\n",
       " 'abdulaziz',\n",
       " 'eseta',\n",
       " 'paisly',\n",
       " 'adrie',\n",
       " 'mana',\n",
       " 'cevyn',\n",
       " 'breighton',\n",
       " 'tinlee',\n",
       " 'hilton',\n",
       " 'dior',\n",
       " 'selena',\n",
       " 'kaynon',\n",
       " 'keion',\n",
       " 'andoni',\n",
       " 'antron',\n",
       " 'alynn',\n",
       " 'kaw',\n",
       " 'waelyn',\n",
       " 'tahera',\n",
       " 'laiklynn',\n",
       " 'madicyn',\n",
       " 'juleah',\n",
       " 'syniah',\n",
       " 'jarian',\n",
       " 'makenzi',\n",
       " 'sabre',\n",
       " 'sirine',\n",
       " 'cyann',\n",
       " 'phillip',\n",
       " 'taevion',\n",
       " 'debanhi',\n",
       " 'keshun',\n",
       " 'ahsan',\n",
       " 'carly',\n",
       " 'layken',\n",
       " 'jamarie',\n",
       " 'porter',\n",
       " 'aury',\n",
       " 'irelyn',\n",
       " 'yannis',\n",
       " 'ilijah',\n",
       " 'swecha',\n",
       " 'traiden',\n",
       " 'amillia',\n",
       " 'takota',\n",
       " 'anelisse',\n",
       " 'hilo',\n",
       " 'nouman',\n",
       " 'zenon',\n",
       " 'mykael',\n",
       " 'ransom',\n",
       " 'dace',\n",
       " 'silvano',\n",
       " 'johnson',\n",
       " 'tanna',\n",
       " 'khari',\n",
       " 'caliya',\n",
       " 'ellyott',\n",
       " 'lamontae',\n",
       " 'estin',\n",
       " 'ehren',\n",
       " 'lawayne',\n",
       " 'zae',\n",
       " 'emett',\n",
       " 'muad',\n",
       " 'sitara',\n",
       " 'alastar',\n",
       " 'ethan',\n",
       " 'fenna',\n",
       " 'makenzie',\n",
       " 'kamor',\n",
       " 'thierno',\n",
       " 'lachlann',\n",
       " 'leoncio',\n",
       " 'zelenia',\n",
       " 'deandrea',\n",
       " 'alastair',\n",
       " 'jentry',\n",
       " 'leba',\n",
       " 'rosaisela',\n",
       " 'addelyne',\n",
       " 'avelynn',\n",
       " 'greta',\n",
       " 'malichi',\n",
       " 'aela',\n",
       " 'lucette',\n",
       " 'norberto',\n",
       " 'kendrie',\n",
       " 'zendayah',\n",
       " 'thad',\n",
       " 'jerred',\n",
       " 'davy',\n",
       " 'dheeran',\n",
       " 'bandon',\n",
       " 'maaya',\n",
       " 'jenica',\n",
       " 'kyndell',\n",
       " 'izyaan',\n",
       " 'juaquin',\n",
       " 'jesiah',\n",
       " 'jahsir',\n",
       " 'naylin',\n",
       " 'kayzleigh',\n",
       " 'alexzavier',\n",
       " 'zahid',\n",
       " 'ruman',\n",
       " 'akif',\n",
       " 'steven',\n",
       " 'jenavieve',\n",
       " 'camara',\n",
       " 'shiv',\n",
       " 'indra',\n",
       " 'julianne',\n",
       " 'olamide',\n",
       " 'ezequiel',\n",
       " 'zaydn',\n",
       " 'amarie',\n",
       " 'ambrose',\n",
       " 'baylin',\n",
       " 'kaizer',\n",
       " 'kailynn',\n",
       " 'onika',\n",
       " 'stone',\n",
       " 'samuella',\n",
       " 'alyrica',\n",
       " 'dawit',\n",
       " 'adore',\n",
       " 'lyndell',\n",
       " 'dmitri',\n",
       " 'kyle',\n",
       " 'aldahir',\n",
       " 'dempsey',\n",
       " 'aalam',\n",
       " 'dex',\n",
       " 'cindi',\n",
       " 'jakia',\n",
       " 'deaundre',\n",
       " 'dalyla',\n",
       " 'elmin',\n",
       " 'milarose',\n",
       " 'lucienne',\n",
       " 'adelena',\n",
       " 'brexley',\n",
       " 'catalena',\n",
       " 'karder',\n",
       " 'poseidon',\n",
       " 'adeliza',\n",
       " 'lucifer',\n",
       " 'owin',\n",
       " 'jedd',\n",
       " 'treva',\n",
       " 'emri',\n",
       " 'ariadne',\n",
       " 'caylani',\n",
       " 'trayven',\n",
       " 'azza',\n",
       " 'shanel',\n",
       " 'kayliyah',\n",
       " 'tyrael',\n",
       " 'bhavika',\n",
       " 'dillinger',\n",
       " 'marius',\n",
       " 'camiah',\n",
       " 'meleana',\n",
       " 'mylena',\n",
       " 'bezaleel',\n",
       " 'arcadia',\n",
       " 'azyla',\n",
       " 'skyelynn',\n",
       " 'alexiana',\n",
       " 'assan',\n",
       " 'tayven',\n",
       " 'fishel',\n",
       " 'prisha',\n",
       " 'baron',\n",
       " 'rhylan',\n",
       " 'jerald',\n",
       " 'raylynn',\n",
       " 'miamor',\n",
       " 'pele',\n",
       " 'tyliah',\n",
       " 'razaan',\n",
       " 'ciarra',\n",
       " 'novalise',\n",
       " 'dewan',\n",
       " 'zeva',\n",
       " 'minha',\n",
       " 'mckinzie',\n",
       " 'roselie',\n",
       " 'torin',\n",
       " 'livi',\n",
       " 'lanae',\n",
       " 'azaan',\n",
       " 'mikayel',\n",
       " 'timber',\n",
       " 'abbygail',\n",
       " 'zeplynn',\n",
       " 'elan',\n",
       " 'bracen',\n",
       " 'caelan',\n",
       " 'aroyalty',\n",
       " 'corrina',\n",
       " 'joash',\n",
       " 'georgeanna',\n",
       " 'adiana',\n",
       " 'kvon',\n",
       " 'alyse',\n",
       " 'zee',\n",
       " 'aafiya',\n",
       " 'merly',\n",
       " 'edin',\n",
       " 'nakyia',\n",
       " 'davone',\n",
       " 'shravan',\n",
       " 'sirking',\n",
       " 'jameir',\n",
       " 'milleigh',\n",
       " 'dallon',\n",
       " 'britta',\n",
       " 'eleonore',\n",
       " 'manal',\n",
       " 'jaloni',\n",
       " 'salsabil',\n",
       " 'sultana',\n",
       " 'allis',\n",
       " 'bill',\n",
       " 'jerney',\n",
       " 'roselind',\n",
       " 'cameryn',\n",
       " 'rahil',\n",
       " 'jeorge',\n",
       " 'esley',\n",
       " 'dakshith',\n",
       " 'clarisse',\n",
       " 'avereigh',\n",
       " 'kaiyah',\n",
       " 'markia',\n",
       " 'harmony',\n",
       " 'jaylani',\n",
       " 'jaiyce',\n",
       " 'ean',\n",
       " 'rachit',\n",
       " 'yovani',\n",
       " 'furaha',\n",
       " 'kengo',\n",
       " 'neelah',\n",
       " 'miley',\n",
       " 'semir',\n",
       " 'yaretsi',\n",
       " 'basel',\n",
       " 'isolde',\n",
       " 'donal',\n",
       " 'milen',\n",
       " 'nirvik',\n",
       " 'jayde',\n",
       " 'jatavion',\n",
       " 'jamaurion',\n",
       " 'sorrel',\n",
       " 'talayiah',\n",
       " 'akari',\n",
       " 'yamilett',\n",
       " 'derreck',\n",
       " 'hilal',\n",
       " 'shulem',\n",
       " 'lajla',\n",
       " 'amiriah',\n",
       " 'landan',\n",
       " 'jalynn',\n",
       " 'jerelyn',\n",
       " 'jaleyah',\n",
       " 'tarryn',\n",
       " 'jaskirat',\n",
       " 'savaya',\n",
       " 'kenzly',\n",
       " 'ozan',\n",
       " 'zahra',\n",
       " 'niles',\n",
       " 'cale',\n",
       " 'neeva',\n",
       " 'avayla',\n",
       " 'eytan',\n",
       " 'hernan',\n",
       " 'aleenah',\n",
       " 'shavonne',\n",
       " 'brigette',\n",
       " 'wali',\n",
       " 'nysa',\n",
       " 'marik',\n",
       " 'daman',\n",
       " 'rossi',\n",
       " 'bransen',\n",
       " 'horus',\n",
       " 'katheryn',\n",
       " 'aagam',\n",
       " 'nyzier',\n",
       " 'torrin',\n",
       " 'angelina',\n",
       " 'barton',\n",
       " 'neidy',\n",
       " 'michelina',\n",
       " 'anaria',\n",
       " 'jaiyon',\n",
       " 'greydon',\n",
       " 'conagher',\n",
       " 'ifeanyichukwu',\n",
       " 'stylez',\n",
       " 'dinero',\n",
       " 'issah',\n",
       " 'shivank',\n",
       " 'ayonna',\n",
       " 'akeylah',\n",
       " 'ayela',\n",
       " 'ridhaan',\n",
       " 'avyay',\n",
       " 'bayleigh',\n",
       " 'paulett',\n",
       " 'wellesley',\n",
       " 'lyris',\n",
       " 'wilton',\n",
       " 'oriana',\n",
       " 'metztli',\n",
       " 'braylynn',\n",
       " 'mckynna',\n",
       " 'amenah',\n",
       " 'tailey',\n",
       " 'giorgi',\n",
       " 'leviathan',\n",
       " 'tatum',\n",
       " 'faithe',\n",
       " 'miyon',\n",
       " 'jernee',\n",
       " 'adeliah',\n",
       " 'demetria',\n",
       " 'golden',\n",
       " 'dawud',\n",
       " 'jamella',\n",
       " 'isabell',\n",
       " 'nouf',\n",
       " 'kap',\n",
       " 'siaan',\n",
       " 'jsean',\n",
       " 'karsynn',\n",
       " 'analyah',\n",
       " 'leighlani',\n",
       " 'zaelynn',\n",
       " 'azarius',\n",
       " 'yashvi',\n",
       " 'jaleeya',\n",
       " 'keyleen',\n",
       " 'ameria',\n",
       " 'taiga',\n",
       " 'myangel',\n",
       " 'navi',\n",
       " 'keizer',\n",
       " 'javontay',\n",
       " 'nashawn',\n",
       " 'kiryn',\n",
       " 'mohammadali',\n",
       " 'maniya',\n",
       " 'analyse',\n",
       " 'lyllah',\n",
       " 'dietrich',\n",
       " 'kayari',\n",
       " 'kandyce',\n",
       " 'ezrael',\n",
       " 'parnika',\n",
       " 'mosley',\n",
       " 'jayon',\n",
       " 'glen',\n",
       " 'jacobi',\n",
       " 'danthony',\n",
       " 'adelisa',\n",
       " 'jimma',\n",
       " 'phoenyx',\n",
       " 'chrisley',\n",
       " 'aasim',\n",
       " 'javoni',\n",
       " 'lasean',\n",
       " 'amrom',\n",
       " 'zaida',\n",
       " 'dontavia',\n",
       " 'yui',\n",
       " 'dilani',\n",
       " 'sirjames',\n",
       " 'isidor',\n",
       " 'alisyn',\n",
       " 'odynn',\n",
       " 'yariel',\n",
       " 'lorne',\n",
       " 'amit',\n",
       " 'keili',\n",
       " 'amaury',\n",
       " 'brydan',\n",
       " 'camdyn',\n",
       " 'roseleigh',\n",
       " 'alexia',\n",
       " 'creedon',\n",
       " 'glenn',\n",
       " 'pierson',\n",
       " 'hrishaan',\n",
       " 'yamileth',\n",
       " 'phong',\n",
       " 'dmyah',\n",
       " 'xitlalli',\n",
       " 'stanley',\n",
       " 'kento',\n",
       " 'aislynn',\n",
       " 'eton',\n",
       " 'maybel',\n",
       " 'drax',\n",
       " 'krizal',\n",
       " 'eliette',\n",
       " 'samridh',\n",
       " 'ema',\n",
       " 'dela',\n",
       " 'brennex',\n",
       " 'kendrik',\n",
       " 'nayani',\n",
       " 'adonai',\n",
       " 'natsumi',\n",
       " 'jadelyn',\n",
       " 'mylove',\n",
       " 'molly',\n",
       " 'narumi',\n",
       " 'kaesyn',\n",
       " 'victorious',\n",
       " 'ellynor',\n",
       " 'asadbek',\n",
       " 'kory',\n",
       " 'akasha',\n",
       " 'jailyn',\n",
       " 'dannay',\n",
       " 'azlynn',\n",
       " 'janalise',\n",
       " 'graci',\n",
       " 'carolena',\n",
       " 'soriah',\n",
       " 'lancelot',\n",
       " 'jaxson',\n",
       " 'emila',\n",
       " 'alanys',\n",
       " 'malani',\n",
       " 'katiana',\n",
       " 'caris',\n",
       " 'ranger',\n",
       " 'aima',\n",
       " 'cathleen',\n",
       " 'jones',\n",
       " 'powell',\n",
       " 'eevee',\n",
       " 'mea',\n",
       " 'ilianny',\n",
       " 'elioenai',\n",
       " ...]"
      ]
     },
     "execution_count": 13,
     "metadata": {},
     "output_type": "execute_result"
    }
   ],
   "execution_count": 13
  },
  {
   "metadata": {},
   "cell_type": "markdown",
   "source": "## Bigram Model (Probabilistic)",
   "id": "850c1dd7c3b3ee81"
  },
  {
   "metadata": {
    "ExecuteTime": {
     "end_time": "2025-06-13T09:06:51.700011Z",
     "start_time": "2025-06-13T09:06:50.933282Z"
    }
   },
   "cell_type": "code",
   "source": [
    "Nbi = torch.zeros([27, 27])\n",
    "for w in words:\n",
    "    word = \".\" + w + \".\"\n",
    "    for c1, c2 in zip(word, word[1:]):\n",
    "        Nbi[stoi[c1], stoi[c2]] += 1\n",
    "N"
   ],
   "id": "a5d28a632008a8d5",
   "outputs": [
    {
     "data": {
      "text/plain": [
       "tensor([[[   1, 3426, 1026,  ...,  105,  443,  732],\n",
       "         [   1,  144,  166,  ...,   16,  127,  118],\n",
       "         [   1,  135,    1,  ...,    1,    3,    1],\n",
       "         ...,\n",
       "         [   1,   41,    1,  ...,    2,   11,   12],\n",
       "         [   1,  220,    1,  ...,    1,    1,    2],\n",
       "         [   1,  369,    1,  ...,    1,   72,    3]],\n",
       "\n",
       "        [[   1,    1,    1,  ...,    1,    1,    1],\n",
       "         [  37,    1,    3,  ...,    1,   21,    6],\n",
       "         [  32,   25,   20,  ...,    1,    8,    1],\n",
       "         ...,\n",
       "         [   5,    4,    1,  ...,   11,   11,    5],\n",
       "         [ 135,  308,   15,  ...,    1,   14,   30],\n",
       "         [  22,   90,    1,  ...,    1,   12,   17]],\n",
       "\n",
       "        [[   1,    1,    1,  ...,    1,    1,    1],\n",
       "         [  33,    7,    3,  ...,    3,   29,    1],\n",
       "         [   1,   10,    1,  ...,    1,    5,    1],\n",
       "         ...,\n",
       "         [   1,    1,    1,  ...,    1,    1,    1],\n",
       "         [  43,    5,    1,  ...,    1,    1,    1],\n",
       "         [   1,    1,    1,  ...,    1,    1,    1]],\n",
       "\n",
       "        ...,\n",
       "\n",
       "        [[   1,    1,    1,  ...,    1,    1,    1],\n",
       "         [   5,    1,    2,  ...,    1,    8,    1],\n",
       "         [   1,    1,    1,  ...,    1,    2,    1],\n",
       "         ...,\n",
       "         [  13,    2,    1,  ...,    1,    2,    1],\n",
       "         [   5,    3,    1,  ...,    1,    1,    1],\n",
       "         [   1,   16,    1,  ...,    1,    1,    1]],\n",
       "\n",
       "        [[   1,    1,    1,  ...,    1,    1,    1],\n",
       "         [ 590,   42,   10,  ...,    2,    6,   20],\n",
       "         [   2,    2,    1,  ...,    1,    1,    1],\n",
       "         ...,\n",
       "         [  21,    2,    1,  ...,    1,    1,    1],\n",
       "         [   1,   16,    1,  ...,    1,    1,    1],\n",
       "         [   2,   24,    1,  ...,    3,    1,    1]],\n",
       "\n",
       "        [[   1,    1,    1,  ...,    1,    1,    1],\n",
       "         [  71,   10,   36,  ...,    1,   79,    5],\n",
       "         [   1,    1,    1,  ...,    1,    1,    1],\n",
       "         ...,\n",
       "         [   3,    1,    1,  ...,    1,    1,    1],\n",
       "         [  22,   24,    1,  ...,    1,    1,    3],\n",
       "         [   3,   12,    1,  ...,    1,    6,    1]]], dtype=torch.int32)"
      ]
     },
     "execution_count": 14,
     "metadata": {},
     "output_type": "execute_result"
    }
   ],
   "execution_count": 14
  },
  {
   "metadata": {
    "ExecuteTime": {
     "end_time": "2025-06-13T09:06:51.718925Z",
     "start_time": "2025-06-13T09:06:51.713686Z"
    }
   },
   "cell_type": "code",
   "source": [
    "Pbi = (Nbi + 0).float()\n",
    "Pbi /= Pbi.sum(1, keepdim=True)\n",
    "Pbi"
   ],
   "id": "4ba7a5c647fc4cc6",
   "outputs": [
    {
     "data": {
      "text/plain": [
       "tensor([[0.0000e+00, 1.3767e-01, 4.0770e-02, 4.8138e-02, 5.2758e-02, 4.7794e-02,\n",
       "         1.3018e-02, 2.0885e-02, 2.7284e-02, 1.8450e-02, 7.5610e-02, 9.2498e-02,\n",
       "         4.9074e-02, 7.9231e-02, 3.5776e-02, 1.2300e-02, 1.6077e-02, 2.8720e-03,\n",
       "         5.1166e-02, 6.4153e-02, 4.0833e-02, 2.4350e-03, 1.1738e-02, 9.5839e-03,\n",
       "         4.1832e-03, 1.6702e-02, 2.9001e-02],\n",
       "        [1.9596e-01, 1.6408e-02, 1.5966e-02, 1.3870e-02, 3.0751e-02, 2.0422e-02,\n",
       "         3.9546e-03, 4.9579e-03, 6.8821e-02, 4.8694e-02, 5.1645e-03, 1.6763e-02,\n",
       "         7.4605e-02, 4.8222e-02, 1.6048e-01, 1.8592e-03, 2.4199e-03, 1.7707e-03,\n",
       "         9.6326e-02, 3.2994e-02, 2.0274e-02, 1.1244e-02, 2.4613e-02, 4.7514e-03,\n",
       "         5.3711e-03, 6.0499e-02, 1.2838e-02],\n",
       "        [4.3100e-02, 1.2136e-01, 1.4367e-02, 3.7807e-04, 2.4575e-02, 2.4764e-01,\n",
       "         0.0000e+00, 0.0000e+00, 1.5501e-02, 8.2042e-02, 3.7807e-04, 0.0000e+00,\n",
       "         3.8941e-02, 0.0000e+00, 1.5123e-03, 3.9698e-02, 0.0000e+00, 0.0000e+00,\n",
       "         3.1834e-01, 3.0246e-03, 7.5614e-04, 1.7013e-02, 0.0000e+00, 0.0000e+00,\n",
       "         0.0000e+00, 3.1380e-02, 0.0000e+00],\n",
       "        [2.7463e-02, 2.3075e-01, 0.0000e+00, 1.1891e-02, 2.8313e-04, 1.5600e-01,\n",
       "         0.0000e+00, 5.6625e-04, 1.8800e-01, 7.6727e-02, 8.4938e-04, 8.9468e-02,\n",
       "         3.2843e-02, 0.0000e+00, 0.0000e+00, 1.0759e-01, 2.8313e-04, 3.1144e-03,\n",
       "         2.1518e-02, 1.4156e-03, 9.9094e-03, 9.9094e-03, 0.0000e+00, 0.0000e+00,\n",
       "         8.4938e-04, 2.9445e-02, 1.1325e-03],\n",
       "        [9.3886e-02, 2.3708e-01, 1.8195e-04, 5.4585e-04, 2.7111e-02, 2.3344e-01,\n",
       "         9.0975e-04, 4.5488e-03, 2.1470e-02, 1.2263e-01, 1.6376e-03, 5.4585e-04,\n",
       "         1.0917e-02, 5.4585e-03, 5.6405e-03, 6.8777e-02, 0.0000e+00, 1.8195e-04,\n",
       "         7.7147e-02, 5.2766e-03, 7.2780e-04, 1.6739e-02, 3.0932e-03, 4.1849e-03,\n",
       "         0.0000e+00, 5.7678e-02, 1.8195e-04],\n",
       "        [1.9503e-01, 3.3247e-02, 5.9247e-03, 7.4916e-03, 1.8802e-02, 6.2234e-02,\n",
       "         4.0151e-03, 6.1206e-03, 7.4426e-03, 4.0053e-02, 2.6930e-03, 8.7157e-03,\n",
       "         1.5904e-01, 3.7654e-02, 1.3098e-01, 1.3171e-02, 4.0640e-03, 6.8550e-04,\n",
       "         9.5872e-02, 4.2158e-02, 2.8399e-02, 3.3785e-03, 2.2671e-02, 2.4482e-03,\n",
       "         6.4633e-03, 5.2392e-02, 8.8626e-03],\n",
       "        [8.8398e-02, 2.6740e-01, 0.0000e+00, 0.0000e+00, 0.0000e+00, 1.3591e-01,\n",
       "         4.8619e-02, 1.1050e-03, 1.1050e-03, 1.7680e-01, 0.0000e+00, 2.2099e-03,\n",
       "         2.2099e-02, 0.0000e+00, 4.4199e-03, 6.6298e-02, 0.0000e+00, 0.0000e+00,\n",
       "         1.2597e-01, 6.6298e-03, 1.9890e-02, 1.1050e-02, 0.0000e+00, 4.4199e-03,\n",
       "         0.0000e+00, 1.5470e-02, 2.2099e-03],\n",
       "        [5.6046e-02, 1.7125e-01, 1.5568e-03, 0.0000e+00, 9.8599e-03, 1.7333e-01,\n",
       "         5.1894e-04, 1.2974e-02, 1.8682e-01, 9.8599e-02, 1.5568e-03, 0.0000e+00,\n",
       "         1.6606e-02, 3.1136e-03, 1.4011e-02, 4.3072e-02, 0.0000e+00, 0.0000e+00,\n",
       "         1.0431e-01, 1.5568e-02, 1.6087e-02, 4.4110e-02, 5.1894e-04, 1.3492e-02,\n",
       "         0.0000e+00, 1.6087e-02, 5.1894e-04],\n",
       "        [3.1631e-01, 2.9464e-01, 1.0504e-03, 2.6261e-04, 3.1513e-03, 8.8498e-02,\n",
       "         2.6261e-04, 2.6261e-04, 1.3130e-04, 9.5720e-02, 1.1817e-03, 3.8078e-03,\n",
       "         2.4291e-02, 1.5362e-02, 1.8120e-02, 3.7684e-02, 1.3130e-04, 1.3130e-04,\n",
       "         2.6786e-02, 4.0704e-03, 9.3225e-03, 2.1796e-02, 5.1208e-03, 1.3130e-03,\n",
       "         0.0000e+00, 2.7967e-02, 2.6261e-03],\n",
       "        [1.4061e-01, 1.3813e-01, 6.2143e-03, 2.8755e-02, 2.4857e-02, 9.3385e-02,\n",
       "         5.7059e-03, 2.4179e-02, 5.3669e-03, 4.6325e-03, 4.2935e-03, 2.5140e-02,\n",
       "         7.5984e-02, 2.4123e-02, 1.2011e-01, 3.3218e-02, 2.9942e-03, 2.9377e-03,\n",
       "         4.7963e-02, 7.4346e-02, 3.0563e-02, 6.1578e-03, 1.5197e-02, 4.5195e-04,\n",
       "         5.0280e-03, 4.4009e-02, 1.5649e-02],\n",
       "        [2.4483e-02, 5.0793e-01, 3.4483e-04, 1.3793e-03, 1.3793e-03, 1.5172e-01,\n",
       "         0.0000e+00, 0.0000e+00, 1.5517e-02, 4.1034e-02, 6.8966e-04, 6.8966e-04,\n",
       "         3.1034e-03, 1.7241e-03, 6.8966e-04, 1.6517e-01, 3.4483e-04, 0.0000e+00,\n",
       "         3.7931e-03, 2.4138e-03, 6.8966e-04, 6.9655e-02, 1.7241e-03, 2.0690e-03,\n",
       "         0.0000e+00, 3.4483e-03, 0.0000e+00],\n",
       "        [7.2024e-02, 3.4345e-01, 3.9683e-04, 3.9683e-04, 3.9683e-04, 1.7758e-01,\n",
       "         1.9841e-04, 0.0000e+00, 6.0913e-02, 1.0099e-01, 3.9683e-04, 3.9683e-03,\n",
       "         2.7579e-02, 1.7857e-03, 5.1587e-03, 6.8254e-02, 0.0000e+00, 0.0000e+00,\n",
       "         2.1627e-02, 1.8849e-02, 3.3730e-03, 9.9206e-03, 3.9683e-04, 6.7460e-03,\n",
       "         0.0000e+00, 7.5198e-02, 3.9683e-04],\n",
       "        [9.4140e-02, 1.8792e-01, 3.7255e-03, 1.7911e-03, 9.8868e-03, 2.0927e-01,\n",
       "         1.5762e-03, 4.2986e-04, 1.3612e-03, 1.7768e-01, 4.2986e-04, 1.7194e-03,\n",
       "         9.6361e-02, 4.2986e-03, 1.0030e-03, 4.9577e-02, 1.0747e-03, 2.1493e-04,\n",
       "         1.2896e-03, 6.7345e-03, 5.5165e-03, 2.3212e-02, 5.1583e-03, 1.1463e-03,\n",
       "         0.0000e+00, 1.1377e-01, 7.1644e-04],\n",
       "        [7.7687e-02, 3.8994e-01, 1.6862e-02, 7.6784e-03, 3.6134e-03, 1.2316e-01,\n",
       "         1.5056e-04, 0.0000e+00, 7.5279e-04, 1.8910e-01, 1.0539e-03, 1.5056e-04,\n",
       "         7.5279e-04, 2.5294e-02, 3.0111e-03, 6.8052e-02, 5.7212e-03, 0.0000e+00,\n",
       "         1.4604e-02, 5.2695e-03, 6.0223e-04, 2.0927e-02, 4.5167e-04, 3.0111e-04,\n",
       "         0.0000e+00, 4.3210e-02, 1.6561e-03],\n",
       "        [3.6902e-01, 1.6244e-01, 4.3651e-04, 1.1622e-02, 3.8413e-02, 7.4153e-02,\n",
       "         6.0021e-04, 1.4896e-02, 1.4187e-03, 9.4123e-02, 2.4008e-03, 3.1647e-03,\n",
       "         1.0640e-02, 1.0367e-03, 1.0400e-01, 2.7064e-02, 2.7282e-04, 1.0913e-04,\n",
       "         2.4008e-03, 1.5169e-02, 2.4172e-02, 5.2382e-03, 3.0010e-03, 6.0021e-04,\n",
       "         3.2739e-04, 2.5372e-02, 7.9118e-03],\n",
       "        [1.0776e-01, 1.8780e-02, 1.7646e-02, 1.4369e-02, 2.3948e-02, 1.6637e-02,\n",
       "         4.2854e-03, 5.5458e-03, 2.1553e-02, 8.6967e-03, 2.0166e-03, 8.5707e-03,\n",
       "         7.8019e-02, 3.2896e-02, 3.0388e-01, 1.4495e-02, 1.1974e-02, 3.7812e-04,\n",
       "         1.3348e-01, 6.3524e-02, 1.4873e-02, 3.4661e-02, 2.2183e-02, 1.4369e-02,\n",
       "         5.6718e-03, 1.2982e-02, 6.8062e-03],\n",
       "        [3.2164e-02, 2.0370e-01, 1.9493e-03, 9.7466e-04, 0.0000e+00, 1.9201e-01,\n",
       "         9.7466e-04, 0.0000e+00, 1.9883e-01, 5.9454e-02, 9.7466e-04, 9.7466e-04,\n",
       "         1.5595e-02, 9.7466e-04, 9.7466e-04, 5.7505e-02, 3.8012e-02, 0.0000e+00,\n",
       "         1.4717e-01, 1.5595e-02, 1.6569e-02, 3.8986e-03, 0.0000e+00, 0.0000e+00,\n",
       "         0.0000e+00, 1.1696e-02, 0.0000e+00],\n",
       "        [1.0294e-01, 4.7794e-02, 0.0000e+00, 0.0000e+00, 0.0000e+00, 3.6765e-03,\n",
       "         0.0000e+00, 0.0000e+00, 0.0000e+00, 4.7794e-02, 0.0000e+00, 0.0000e+00,\n",
       "         3.6765e-03, 7.3529e-03, 0.0000e+00, 7.3529e-03, 0.0000e+00, 0.0000e+00,\n",
       "         3.6765e-03, 7.3529e-03, 0.0000e+00, 7.5735e-01, 0.0000e+00, 1.1029e-02,\n",
       "         0.0000e+00, 0.0000e+00, 0.0000e+00],\n",
       "        [1.0843e-01, 1.8551e-01, 3.2283e-03, 7.7953e-03, 1.4724e-02, 1.3362e-01,\n",
       "         7.0866e-04, 5.9843e-03, 9.5276e-03, 2.3882e-01, 1.9685e-03, 7.0866e-03,\n",
       "         3.2520e-02, 1.2756e-02, 1.1024e-02, 6.8425e-02, 1.1024e-03, 1.2598e-03,\n",
       "         3.3465e-02, 1.4961e-02, 1.6378e-02, 1.9843e-02, 6.2992e-03, 1.6535e-03,\n",
       "         2.3622e-04, 6.0866e-02, 1.8110e-03],\n",
       "        [1.4421e-01, 1.4816e-01, 2.5907e-03, 7.4019e-03, 1.1103e-03, 1.0906e-01,\n",
       "         2.4673e-04, 2.4673e-04, 1.5852e-01, 8.4382e-02, 2.4673e-04, 1.0116e-02,\n",
       "         3.4419e-02, 1.1103e-02, 2.9608e-03, 6.5507e-02, 6.2916e-03, 1.2337e-04,\n",
       "         6.7851e-03, 5.6871e-02, 9.4375e-02, 2.2823e-02, 1.7271e-03, 2.9608e-03,\n",
       "         0.0000e+00, 2.6524e-02, 1.2337e-03],\n",
       "        [8.6715e-02, 1.8438e-01, 1.7953e-04, 3.0521e-03, 0.0000e+00, 1.2855e-01,\n",
       "         3.5907e-04, 3.5907e-04, 1.1616e-01, 9.5512e-02, 5.3860e-04, 0.0000e+00,\n",
       "         2.4057e-02, 7.1813e-04, 3.9497e-03, 1.1975e-01, 0.0000e+00, 0.0000e+00,\n",
       "         6.3196e-02, 6.2837e-03, 6.7145e-02, 1.4004e-02, 2.6930e-03, 1.9749e-03,\n",
       "         3.5907e-04, 6.1221e-02, 1.8851e-02],\n",
       "        [4.9442e-02, 5.1994e-02, 3.2855e-02, 3.2855e-02, 4.3381e-02, 5.3907e-02,\n",
       "         6.0606e-03, 1.4992e-02, 1.8501e-02, 3.8596e-02, 4.4657e-03, 2.9665e-02,\n",
       "         9.6013e-02, 4.9123e-02, 8.7719e-02, 3.1898e-03, 5.1037e-03, 3.1898e-03,\n",
       "         1.3206e-01, 1.5120e-01, 2.6156e-02, 9.5694e-04, 1.1802e-02, 2.7432e-02,\n",
       "         1.0845e-02, 4.1467e-03, 1.4354e-02],\n",
       "        [3.4201e-02, 2.4951e-01, 3.8865e-04, 0.0000e+00, 3.8865e-04, 2.2075e-01,\n",
       "         0.0000e+00, 0.0000e+00, 3.8865e-04, 3.5406e-01, 0.0000e+00, 1.1660e-03,\n",
       "         5.4411e-03, 0.0000e+00, 3.1092e-03, 5.9464e-02, 0.0000e+00, 0.0000e+00,\n",
       "         1.8655e-02, 0.0000e+00, 0.0000e+00, 2.7206e-03, 2.7206e-03, 0.0000e+00,\n",
       "         0.0000e+00, 4.7027e-02, 0.0000e+00],\n",
       "        [5.4898e-02, 3.0140e-01, 1.0764e-03, 0.0000e+00, 8.6114e-03, 1.6039e-01,\n",
       "         2.1529e-03, 1.0764e-03, 2.4758e-02, 1.5931e-01, 0.0000e+00, 6.4586e-03,\n",
       "         1.3994e-02, 2.1529e-03, 6.2433e-02, 3.8751e-02, 0.0000e+00, 0.0000e+00,\n",
       "         2.3681e-02, 2.1529e-02, 8.6114e-03, 2.6911e-02, 0.0000e+00, 2.1529e-03,\n",
       "         0.0000e+00, 7.8579e-02, 1.0764e-03],\n",
       "        [2.3529e-01, 1.4778e-01, 1.4347e-03, 5.7389e-03, 7.1736e-03, 5.1650e-02,\n",
       "         4.3042e-03, 0.0000e+00, 1.4347e-03, 1.4634e-01, 0.0000e+00, 0.0000e+00,\n",
       "         5.5954e-02, 1.4347e-03, 1.4347e-03, 5.8824e-02, 0.0000e+00, 0.0000e+00,\n",
       "         0.0000e+00, 4.4476e-02, 1.0043e-01, 7.1736e-03, 0.0000e+00, 4.3042e-03,\n",
       "         5.4519e-02, 4.3042e-02, 2.7260e-02],\n",
       "        [2.0530e-01, 2.1921e-01, 2.7619e-03, 1.1764e-02, 2.7823e-02, 3.0790e-02,\n",
       "         1.2275e-03, 3.0687e-03, 2.2504e-03, 1.9640e-02, 2.3527e-03, 8.7971e-03,\n",
       "         1.1293e-01, 1.5139e-02, 1.8678e-01, 2.7721e-02, 1.5344e-03, 6.1375e-04,\n",
       "         2.9767e-02, 4.1019e-02, 1.0638e-02, 1.4423e-02, 1.0843e-02, 4.0917e-04,\n",
       "         2.8642e-03, 2.3527e-03, 7.9787e-03],\n",
       "        [6.6722e-02, 3.5863e-01, 1.6681e-03, 8.3403e-04, 8.3403e-04, 1.5555e-01,\n",
       "         0.0000e+00, 4.1701e-04, 1.7932e-02, 1.5179e-01, 8.3403e-04, 8.3403e-04,\n",
       "         5.1293e-02, 1.4595e-02, 1.6681e-03, 4.5872e-02, 8.3403e-04, 0.0000e+00,\n",
       "         1.3344e-02, 1.6681e-03, 1.6681e-03, 3.0442e-02, 8.3403e-04, 1.2510e-03,\n",
       "         4.1701e-04, 6.1301e-02, 1.8766e-02]])"
      ]
     },
     "execution_count": 15,
     "metadata": {},
     "output_type": "execute_result"
    }
   ],
   "execution_count": 15
  },
  {
   "metadata": {
    "ExecuteTime": {
     "end_time": "2025-06-13T09:06:51.766334Z",
     "start_time": "2025-06-13T09:06:51.762708Z"
    }
   },
   "cell_type": "code",
   "source": [
    "for i in range(5):\n",
    "    ix = 0\n",
    "    out = []\n",
    "    while True:\n",
    "        ix = torch.multinomial(Pbi[ix], 1, True).item()\n",
    "        if ix == 0:\n",
    "            break\n",
    "        out.append(itos[ix])\n",
    "    print(*out, sep=\"\")"
   ],
   "id": "1491394fdfb622db",
   "outputs": [
    {
     "name": "stdout",
     "output_type": "stream",
     "text": [
      "je\n",
      "kosiy\n",
      "an\n",
      "t\n",
      "a\n"
     ]
    }
   ],
   "execution_count": 16
  },
  {
   "metadata": {
    "ExecuteTime": {
     "end_time": "2025-06-13T09:06:51.809828Z",
     "start_time": "2025-06-13T09:06:51.807123Z"
    }
   },
   "cell_type": "code",
   "source": "Pbi[0]",
   "id": "d2fbf20f372852a1",
   "outputs": [
    {
     "data": {
      "text/plain": [
       "tensor([0.0000, 0.1377, 0.0408, 0.0481, 0.0528, 0.0478, 0.0130, 0.0209, 0.0273,\n",
       "        0.0184, 0.0756, 0.0925, 0.0491, 0.0792, 0.0358, 0.0123, 0.0161, 0.0029,\n",
       "        0.0512, 0.0642, 0.0408, 0.0024, 0.0117, 0.0096, 0.0042, 0.0167, 0.0290])"
      ]
     },
     "execution_count": 17,
     "metadata": {},
     "output_type": "execute_result"
    }
   ],
   "execution_count": 17
  },
  {
   "metadata": {
    "ExecuteTime": {
     "end_time": "2025-06-13T09:06:51.987971Z",
     "start_time": "2025-06-13T09:06:51.858714Z"
    }
   },
   "cell_type": "code",
   "source": [
    "# loss\n",
    "nll = 0.\n",
    "n = 0\n",
    "for w in words_dev:\n",
    "    word = \".\" + w + \".\"\n",
    "    for ch1, ch2 in zip(word, word[1:]):\n",
    "        probs = Pbi[stoi[ch1], stoi[ch2]]\n",
    "        nll += -probs.log()\n",
    "        n += 1\n",
    "print(f\"{nll=}, {nll/n}\")"
   ],
   "id": "253996cca68723b4",
   "outputs": [
    {
     "name": "stdout",
     "output_type": "stream",
     "text": [
      "nll=tensor(112077.0156), 2.4474704265594482\n"
     ]
    }
   ],
   "execution_count": 18
  },
  {
   "metadata": {},
   "cell_type": "markdown",
   "source": [
    "## Single Neuron Prediction\n",
    "Bi-gram"
   ],
   "id": "b78900eeebf60343"
  },
  {
   "metadata": {
    "ExecuteTime": {
     "end_time": "2025-06-13T09:06:52.046483Z",
     "start_time": "2025-06-13T09:06:52.005989Z"
    }
   },
   "cell_type": "code",
   "source": [
    "xs, ys = [], []\n",
    "for w in words:\n",
    "    word = '.' + w + '.'\n",
    "    for x, y in zip(word, word[1:]):\n",
    "        xs.append(stoi[x])\n",
    "        ys.append(stoi[y])\n",
    "xs[:5], ys[:5]"
   ],
   "id": "660876cef374007b",
   "outputs": [
    {
     "data": {
      "text/plain": [
       "([0, 5, 13, 13, 1], [5, 13, 13, 1, 0])"
      ]
     },
     "execution_count": 19,
     "metadata": {},
     "output_type": "execute_result"
    }
   ],
   "execution_count": 19
  },
  {
   "metadata": {
    "ExecuteTime": {
     "end_time": "2025-06-13T09:06:52.095267Z",
     "start_time": "2025-06-13T09:06:52.062169Z"
    }
   },
   "cell_type": "code",
   "source": [
    "import torch.nn.functional as F\n",
    "\n",
    "xenc = F.one_hot(torch.tensor(xs), num_classes=27).float()\n",
    "xenc.dtype"
   ],
   "id": "2b37e45d6c6fc3d",
   "outputs": [
    {
     "data": {
      "text/plain": [
       "torch.float32"
      ]
     },
     "execution_count": 20,
     "metadata": {},
     "output_type": "execute_result"
    }
   ],
   "execution_count": 20
  },
  {
   "metadata": {
    "ExecuteTime": {
     "end_time": "2025-06-13T09:06:52.116873Z",
     "start_time": "2025-06-13T09:06:52.113772Z"
    }
   },
   "cell_type": "code",
   "source": [
    "W = torch.randn((27, 27), requires_grad=True)\n",
    "W.shape"
   ],
   "id": "ac8dddfde49c2613",
   "outputs": [
    {
     "data": {
      "text/plain": [
       "torch.Size([27, 27])"
      ]
     },
     "execution_count": 21,
     "metadata": {},
     "output_type": "execute_result"
    }
   ],
   "execution_count": 21
  },
  {
   "metadata": {
    "ExecuteTime": {
     "end_time": "2025-06-13T09:06:52.969673Z",
     "start_time": "2025-06-13T09:06:52.142267Z"
    }
   },
   "cell_type": "code",
   "source": [
    "for i in range(20):\n",
    "    logits = xenc @ W\n",
    "    counts = logits.exp()\n",
    "    probs = counts / counts.sum(1, keepdim=True)\n",
    "\n",
    "    loss = -probs[torch.arange(len(xs)), ys].log().mean()\n",
    "    print(i+1, loss.item(), sep=\": \")\n",
    "\n",
    "    W.grad = None\n",
    "    loss.backward()\n",
    "    W.data -= 50 * W.grad\n"
   ],
   "id": "c93fed78d697694c",
   "outputs": [
    {
     "name": "stdout",
     "output_type": "stream",
     "text": [
      "1: 3.867581844329834\n",
      "2: 3.425508737564087\n",
      "3: 3.1863834857940674\n",
      "4: 3.0349326133728027\n",
      "5: 2.9285175800323486\n",
      "6: 2.8519201278686523\n",
      "7: 2.7955069541931152\n",
      "8: 2.7531826496124268\n",
      "9: 2.720745086669922\n",
      "10: 2.6951000690460205\n",
      "11: 2.674128293991089\n",
      "12: 2.6564993858337402\n",
      "13: 2.6413896083831787\n",
      "14: 2.6282615661621094\n",
      "15: 2.6167361736297607\n",
      "16: 2.60653018951416\n",
      "17: 2.597424268722534\n",
      "18: 2.589244842529297\n",
      "19: 2.5818557739257812\n",
      "20: 2.575148105621338\n"
     ]
    }
   ],
   "execution_count": 22
  },
  {
   "metadata": {
    "ExecuteTime": {
     "end_time": "2025-06-13T09:06:52.993042Z",
     "start_time": "2025-06-13T09:06:52.988001Z"
    }
   },
   "cell_type": "code",
   "source": [
    "g = torch.Generator().manual_seed(2147483647)\n",
    "\n",
    "out = [\".\"]\n",
    "while True:\n",
    "    ix = stoi[out[-1]]\n",
    "    x = F.one_hot(torch.tensor([ix]), num_classes=27).float()\n",
    "    logits = x @ W\n",
    "    count = logits.exp()\n",
    "    prob = count / count.sum(1, keepdim=True)\n",
    "    pred = prob.multinomial(num_samples=1, replacement=True, generator=g)\n",
    "    out.append(itos[pred.item()])\n",
    "    if out[-1] == \".\":\n",
    "        break\n",
    "print(*out, sep=\"\")"
   ],
   "id": "2eefb7c3431600fd",
   "outputs": [
    {
     "name": "stdout",
     "output_type": "stream",
     "text": [
      ".cexbr.\n"
     ]
    }
   ],
   "execution_count": 23
  },
  {
   "metadata": {},
   "cell_type": "markdown",
   "source": "Tri-gram",
   "id": "58d596d8b717ca01"
  },
  {
   "metadata": {
    "ExecuteTime": {
     "end_time": "2025-06-13T09:06:53.024620Z",
     "start_time": "2025-06-13T09:06:53.022361Z"
    }
   },
   "cell_type": "code",
   "source": [
    "sstoi = {}\n",
    "\n",
    "n = 0\n",
    "for i in range(27):\n",
    "    for j in range(27):\n",
    "        sstoi[(i, j)] = n\n",
    "        n += 1"
   ],
   "id": "816495a00558c731",
   "outputs": [],
   "execution_count": 24
  },
  {
   "metadata": {
    "ExecuteTime": {
     "end_time": "2025-06-13T09:06:53.109473Z",
     "start_time": "2025-06-13T09:06:53.051611Z"
    }
   },
   "cell_type": "code",
   "source": [
    "xss = []\n",
    "ys = []\n",
    "\n",
    "for w in words:\n",
    "    word = \"..\" + w + \".\"\n",
    "    for c1, c2, c3 in zip(word, word[1:], word[2:]):\n",
    "        xss.append(sstoi[(stoi[c1], stoi[c2])])\n",
    "        ys.append(stoi[c3])"
   ],
   "id": "5dc6594d1a27789",
   "outputs": [],
   "execution_count": 25
  },
  {
   "metadata": {
    "ExecuteTime": {
     "end_time": "2025-06-13T09:06:53.631749Z",
     "start_time": "2025-06-13T09:06:53.127811Z"
    }
   },
   "cell_type": "code",
   "source": [
    "xs = F.one_hot(torch.tensor(xss), num_classes=n).float()\n",
    "W = torch.randn([729, 27], requires_grad=True)"
   ],
   "id": "32e28d0854127d38",
   "outputs": [],
   "execution_count": 26
  },
  {
   "metadata": {
    "ExecuteTime": {
     "end_time": "2025-06-13T09:06:54.535507Z",
     "start_time": "2025-06-13T09:06:53.649736Z"
    }
   },
   "cell_type": "code",
   "source": [
    "\n",
    "for i in range(10):\n",
    "    logits = xs @ W\n",
    "    counts = logits.exp()\n",
    "    probs = counts / counts.sum(1, keepdim=True)\n",
    "\n",
    "    loss = -probs[torch.arange(len(xs)), ys].log().mean()\n",
    "    print(i, loss, sep=\": \")\n",
    "    W.grad = None\n",
    "    loss.backward()\n",
    "    W.data -= 50 * W.grad\n"
   ],
   "id": "2d56a5a1f798ece4",
   "outputs": [
    {
     "name": "stdout",
     "output_type": "stream",
     "text": [
      "0: tensor(3.7796, grad_fn=<NegBackward0>)\n",
      "1: tensor(3.6660, grad_fn=<NegBackward0>)\n",
      "2: tensor(3.5908, grad_fn=<NegBackward0>)\n",
      "3: tensor(3.5274, grad_fn=<NegBackward0>)\n",
      "4: tensor(3.4705, grad_fn=<NegBackward0>)\n",
      "5: tensor(3.4186, grad_fn=<NegBackward0>)\n",
      "6: tensor(3.3711, grad_fn=<NegBackward0>)\n",
      "7: tensor(3.3273, grad_fn=<NegBackward0>)\n",
      "8: tensor(3.2870, grad_fn=<NegBackward0>)\n",
      "9: tensor(3.2497, grad_fn=<NegBackward0>)\n"
     ]
    }
   ],
   "execution_count": 27
  },
  {
   "metadata": {
    "ExecuteTime": {
     "end_time": "2025-06-13T09:06:54.556396Z",
     "start_time": "2025-06-13T09:06:54.554243Z"
    }
   },
   "cell_type": "code",
   "source": "out = [\".\", \".\"]",
   "id": "f3f8eaaaaa398373",
   "outputs": [],
   "execution_count": 28
  },
  {
   "metadata": {
    "ExecuteTime": {
     "end_time": "2025-06-13T09:06:54.579616Z",
     "start_time": "2025-06-13T09:06:54.577091Z"
    }
   },
   "cell_type": "code",
   "source": "xs.shape",
   "id": "96c4453649e24c78",
   "outputs": [
    {
     "data": {
      "text/plain": [
       "torch.Size([228146, 729])"
      ]
     },
     "execution_count": 29,
     "metadata": {},
     "output_type": "execute_result"
    }
   ],
   "execution_count": 29
  },
  {
   "metadata": {
    "ExecuteTime": {
     "end_time": "2025-06-13T09:06:54.603290Z",
     "start_time": "2025-06-13T09:06:54.600218Z"
    }
   },
   "cell_type": "code",
   "source": [
    "t = torch.tensor([[1, 2, 3], [12, 13, 14]])\n",
    "s = torch.tensor([[1, 2], [2, 3], [3, 4]])\n",
    "t @ s"
   ],
   "id": "f8b2c41941148aa3",
   "outputs": [
    {
     "data": {
      "text/plain": [
       "tensor([[ 14,  20],\n",
       "        [ 80, 119]])"
      ]
     },
     "execution_count": 30,
     "metadata": {},
     "output_type": "execute_result"
    }
   ],
   "execution_count": 30
  },
  {
   "metadata": {
    "ExecuteTime": {
     "end_time": "2025-06-13T09:06:54.663287Z",
     "start_time": "2025-06-13T09:06:54.658603Z"
    }
   },
   "cell_type": "code",
   "source": [
    "out = ['.', '.']\n",
    "while True:\n",
    "    ix = sstoi[(stoi[out[-2]], stoi[out[-1]])]\n",
    "    x = F.one_hot(torch.tensor([ix]), num_classes=n).float()\n",
    "    logits = x @ W\n",
    "    count = logits.exp()\n",
    "    probs = count / count.sum(1, keepdim=True)\n",
    "    pred = probs.multinomial(1, True).item()\n",
    "    out.append(itos[pred])\n",
    "    if out[-1] == '.':\n",
    "        break\n",
    "print(*out, sep=\"\")"
   ],
   "id": "d5deceb6b7a52071",
   "outputs": [
    {
     "name": "stdout",
     "output_type": "stream",
     "text": [
      "..jihdm.\n"
     ]
    }
   ],
   "execution_count": 31
  },
  {
   "metadata": {},
   "cell_type": "markdown",
   "source": [
    "### 1x54 approach\n",
    "TODO"
   ],
   "id": "ed082d66b76194c"
  },
  {
   "metadata": {
    "ExecuteTime": {
     "end_time": "2025-06-13T09:07:32.545467Z",
     "start_time": "2025-06-13T09:06:54.742546Z"
    }
   },
   "cell_type": "code",
   "source": [
    "xs = []\n",
    "ys = []\n",
    "for w in words:\n",
    "    word = \"..\" + w + \".\"\n",
    "    for c1, c2, c3 in zip(word, word[1:], word[2:]):\n",
    "        ys.append(stoi[c3])\n",
    "        x1 = list(F.one_hot(torch.tensor(stoi[c1]), num_classes=27).data)\n",
    "        x1.extend(list(F.one_hot(torch.tensor(stoi[c2]), num_classes=27).data))\n",
    "        xs.append(x1)\n",
    "        # print(len(xs[len(xs)-1]))\n",
    "\n",
    "\n",
    "# print(xs[0])\n",
    "# xs_f = torch.tensor([xs])\n",
    "ys = torch.tensor(ys)\n",
    "xs = torch.tensor(xs).float()\n"
   ],
   "id": "55c61cd66ae6dab2",
   "outputs": [],
   "execution_count": 32
  },
  {
   "metadata": {
    "ExecuteTime": {
     "end_time": "2025-06-13T09:07:32.598289Z",
     "start_time": "2025-06-13T09:07:32.594479Z"
    }
   },
   "cell_type": "code",
   "source": "x1[:5]",
   "id": "89ab5a1a6bcfed07",
   "outputs": [
    {
     "data": {
      "text/plain": [
       "[tensor(0), tensor(0), tensor(0), tensor(0), tensor(0)]"
      ]
     },
     "execution_count": 33,
     "metadata": {},
     "output_type": "execute_result"
    }
   ],
   "execution_count": 33
  },
  {
   "metadata": {},
   "cell_type": "markdown",
   "source": [
    "x1 -> 27\n",
    "\n",
    "x2 -> 27\n",
    "\n",
    "x1 + x2 -> 54\n",
    "\n",
    "[[54], [54], ...]"
   ],
   "id": "a54250b372fb5e2"
  },
  {
   "metadata": {
    "ExecuteTime": {
     "end_time": "2025-06-13T09:07:32.642078Z",
     "start_time": "2025-06-13T09:07:32.639854Z"
    }
   },
   "cell_type": "code",
   "source": "W = torch.randn((54, 27), requires_grad=True)",
   "id": "98d3115cacd67723",
   "outputs": [],
   "execution_count": 34
  },
  {
   "metadata": {
    "ExecuteTime": {
     "end_time": "2025-06-13T09:10:27.601818Z",
     "start_time": "2025-06-13T09:10:27.134590Z"
    }
   },
   "cell_type": "code",
   "source": [
    "for i in range(20):\n",
    "    logits = xs @ W\n",
    "    counts = logits.exp()\n",
    "    probs = counts / counts.sum(1, keepdim=True)\n",
    "    loss = -probs[torch.arange(len(xs)), ys].log().mean()\n",
    "    print(i+1, loss, sep=\": \")\n",
    "\n",
    "\n",
    "    W.grad = None\n",
    "    loss.backward()\n",
    "    W.data -= 10 * W.grad\n",
    "# 2.3455"
   ],
   "id": "8deaf1fda824b240",
   "outputs": [
    {
     "name": "stdout",
     "output_type": "stream",
     "text": [
      "1: tensor(2.3457, grad_fn=<NegBackward0>)\n",
      "2: tensor(2.3457, grad_fn=<NegBackward0>)\n",
      "3: tensor(2.3456, grad_fn=<NegBackward0>)\n",
      "4: tensor(2.3456, grad_fn=<NegBackward0>)\n",
      "5: tensor(2.3456, grad_fn=<NegBackward0>)\n",
      "6: tensor(2.3456, grad_fn=<NegBackward0>)\n",
      "7: tensor(2.3456, grad_fn=<NegBackward0>)\n",
      "8: tensor(2.3456, grad_fn=<NegBackward0>)\n",
      "9: tensor(2.3456, grad_fn=<NegBackward0>)\n",
      "10: tensor(2.3456, grad_fn=<NegBackward0>)\n",
      "11: tensor(2.3456, grad_fn=<NegBackward0>)\n",
      "12: tensor(2.3456, grad_fn=<NegBackward0>)\n",
      "13: tensor(2.3455, grad_fn=<NegBackward0>)\n",
      "14: tensor(2.3455, grad_fn=<NegBackward0>)\n",
      "15: tensor(2.3455, grad_fn=<NegBackward0>)\n",
      "16: tensor(2.3455, grad_fn=<NegBackward0>)\n",
      "17: tensor(2.3455, grad_fn=<NegBackward0>)\n",
      "18: tensor(2.3455, grad_fn=<NegBackward0>)\n",
      "19: tensor(2.3455, grad_fn=<NegBackward0>)\n",
      "20: tensor(2.3455, grad_fn=<NegBackward0>)\n"
     ]
    }
   ],
   "execution_count": 77
  },
  {
   "metadata": {
    "ExecuteTime": {
     "end_time": "2025-06-13T09:07:33.161304Z",
     "start_time": "2025-06-13T09:07:33.159125Z"
    }
   },
   "cell_type": "code",
   "source": "xs.shape",
   "id": "87092355f59981e3",
   "outputs": [
    {
     "data": {
      "text/plain": [
       "torch.Size([228146, 54])"
      ]
     },
     "execution_count": 36,
     "metadata": {},
     "output_type": "execute_result"
    }
   ],
   "execution_count": 36
  },
  {
   "metadata": {
    "ExecuteTime": {
     "end_time": "2025-06-13T09:10:42.693875Z",
     "start_time": "2025-06-13T09:10:42.686959Z"
    }
   },
   "cell_type": "code",
   "source": [
    "# generator\n",
    "word = \"..\"\n",
    "while True:\n",
    "    x = list(F.one_hot(torch.tensor(stoi[word[-2]]), num_classes=27).data)\n",
    "    x.extend(list(F.one_hot(torch.tensor(stoi[word[-1]]), num_classes=27).data))\n",
    "    x = torch.tensor([x]).float()\n",
    "    # print(x.shape)\n",
    "    logits = x @ W\n",
    "    counts = logits.exp()\n",
    "    probs = counts / counts.sum(1, keepdim=True)\n",
    "\n",
    "    # multinomial function to pick one\n",
    "    ix = probs.multinomial(num_samples=1, replacement=True).item()\n",
    "    if ix == 0:\n",
    "        break\n",
    "    word += itos[ix]\n",
    "print(word)\n",
    "\n",
    "\n"
   ],
   "id": "f629b37b8bfb5d74",
   "outputs": [
    {
     "name": "stdout",
     "output_type": "stream",
     "text": [
      "..erlyn\n"
     ]
    }
   ],
   "execution_count": 82
  },
  {
   "metadata": {},
   "cell_type": "code",
   "outputs": [],
   "execution_count": null,
   "source": "",
   "id": "aef85c5b55c33bdf"
  }
 ],
 "metadata": {
  "kernelspec": {
   "display_name": "Python 3",
   "language": "python",
   "name": "python3"
  },
  "language_info": {
   "codemirror_mode": {
    "name": "ipython",
    "version": 2
   },
   "file_extension": ".py",
   "mimetype": "text/x-python",
   "name": "python",
   "nbconvert_exporter": "python",
   "pygments_lexer": "ipython2",
   "version": "2.7.6"
  }
 },
 "nbformat": 4,
 "nbformat_minor": 5
}
